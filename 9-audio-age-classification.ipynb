{
 "cells": [
  {
   "cell_type": "markdown",
   "id": "8923a799-5dab-4ccd-b617-b429802ebce9",
   "metadata": {},
   "source": [
    "# Transfer Learning using Yammet [link](https://www.tensorflow.org/tutorials/audio/transfer_learning_audio)"
   ]
  },
  {
   "cell_type": "code",
   "execution_count": 1,
   "id": "e02946be-362e-42b5-9881-fc4d7050b8e2",
   "metadata": {
    "tags": []
   },
   "outputs": [
    {
     "name": "stderr",
     "output_type": "stream",
     "text": [
      "2023-03-09 22:06:25.914155: I tensorflow/core/platform/cpu_feature_guard.cc:193] This TensorFlow binary is optimized with oneAPI Deep Neural Network Library (oneDNN) to use the following CPU instructions in performance-critical operations:  AVX2 FMA\n",
      "To enable them in other operations, rebuild TensorFlow with the appropriate compiler flags.\n",
      "2023-03-09 22:06:26.997505: W tensorflow/compiler/xla/stream_executor/platform/default/dso_loader.cc:64] Could not load dynamic library 'libnvinfer.so.7'; dlerror: libnvinfer.so.7: cannot open shared object file: No such file or directory; LD_LIBRARY_PATH: /usr/local/cuda-11.7/lib64:\n",
      "2023-03-09 22:06:26.997629: W tensorflow/compiler/xla/stream_executor/platform/default/dso_loader.cc:64] Could not load dynamic library 'libnvinfer_plugin.so.7'; dlerror: libnvinfer_plugin.so.7: cannot open shared object file: No such file or directory; LD_LIBRARY_PATH: /usr/local/cuda-11.7/lib64:\n",
      "2023-03-09 22:06:26.997641: W tensorflow/compiler/tf2tensorrt/utils/py_utils.cc:38] TF-TRT Warning: Cannot dlopen some TensorRT libraries. If you would like to use Nvidia GPU with TensorRT, please make sure the missing libraries mentioned above are installed properly.\n"
     ]
    },
    {
     "name": "stdout",
     "output_type": "stream",
     "text": [
      "GPU:  available\n"
     ]
    },
    {
     "name": "stderr",
     "output_type": "stream",
     "text": [
      "2023-03-09 22:06:27.835762: I tensorflow/compiler/xla/stream_executor/cuda/cuda_gpu_executor.cc:981] successful NUMA node read from SysFS had negative value (-1), but there must be at least one NUMA node, so returning NUMA node zero\n",
      "2023-03-09 22:06:27.948075: I tensorflow/compiler/xla/stream_executor/cuda/cuda_gpu_executor.cc:981] successful NUMA node read from SysFS had negative value (-1), but there must be at least one NUMA node, so returning NUMA node zero\n",
      "2023-03-09 22:06:27.948912: I tensorflow/compiler/xla/stream_executor/cuda/cuda_gpu_executor.cc:981] successful NUMA node read from SysFS had negative value (-1), but there must be at least one NUMA node, so returning NUMA node zero\n"
     ]
    }
   ],
   "source": [
    "import os\n",
    "import glob # for geting filenames\n",
    "\n",
    "from IPython import display\n",
    "import matplotlib.pyplot as plt\n",
    "import numpy as np\n",
    "import pandas as pd\n",
    "from scipy.io import wavfile # using wavfile.read to read the wav file\n",
    "from scipy import signal\n",
    "\n",
    "import tensorflow as tf\n",
    "import tensorflow_hub as hub\n",
    "import tensorflow_io as tfio\n",
    "\n",
    "# Set the seed value for experiment reproducibility.\n",
    "SEED = 42\n",
    "tf.random.set_seed(SEED)\n",
    "np.random.seed(SEED)\n",
    "\n",
    "print('GPU: ','available' if tf.config.list_physical_devices('GPU') else 'not avaiable') "
   ]
  },
  {
   "cell_type": "code",
   "execution_count": 2,
   "id": "c19bcf5a-8607-4f9a-b156-ad2c7f216805",
   "metadata": {
    "tags": []
   },
   "outputs": [
    {
     "name": "stderr",
     "output_type": "stream",
     "text": [
      "2023-03-09 22:06:31.151438: I tensorflow/core/platform/cpu_feature_guard.cc:193] This TensorFlow binary is optimized with oneAPI Deep Neural Network Library (oneDNN) to use the following CPU instructions in performance-critical operations:  AVX2 FMA\n",
      "To enable them in other operations, rebuild TensorFlow with the appropriate compiler flags.\n",
      "2023-03-09 22:06:31.152266: I tensorflow/compiler/xla/stream_executor/cuda/cuda_gpu_executor.cc:981] successful NUMA node read from SysFS had negative value (-1), but there must be at least one NUMA node, so returning NUMA node zero\n",
      "2023-03-09 22:06:31.152740: I tensorflow/compiler/xla/stream_executor/cuda/cuda_gpu_executor.cc:981] successful NUMA node read from SysFS had negative value (-1), but there must be at least one NUMA node, so returning NUMA node zero\n",
      "2023-03-09 22:06:31.153108: I tensorflow/compiler/xla/stream_executor/cuda/cuda_gpu_executor.cc:981] successful NUMA node read from SysFS had negative value (-1), but there must be at least one NUMA node, so returning NUMA node zero\n",
      "2023-03-09 22:06:31.883482: I tensorflow/compiler/xla/stream_executor/cuda/cuda_gpu_executor.cc:981] successful NUMA node read from SysFS had negative value (-1), but there must be at least one NUMA node, so returning NUMA node zero\n",
      "2023-03-09 22:06:31.883840: I tensorflow/compiler/xla/stream_executor/cuda/cuda_gpu_executor.cc:981] successful NUMA node read from SysFS had negative value (-1), but there must be at least one NUMA node, so returning NUMA node zero\n",
      "2023-03-09 22:06:31.884115: I tensorflow/compiler/xla/stream_executor/cuda/cuda_gpu_executor.cc:981] successful NUMA node read from SysFS had negative value (-1), but there must be at least one NUMA node, so returning NUMA node zero\n",
      "2023-03-09 22:06:31.884332: I tensorflow/core/common_runtime/gpu/gpu_device.cc:1613] Created device /job:localhost/replica:0/task:0/device:GPU:0 with 2624 MB memory:  -> device: 0, name: NVIDIA GeForce GTX 1650, pci bus id: 0000:01:00.0, compute capability: 7.5\n"
     ]
    }
   ],
   "source": [
    "yamnet_model_handle = 'https://tfhub.dev/google/yamnet/1'\n",
    "yamnet_model = hub.load(yamnet_model_handle)"
   ]
  },
  {
   "cell_type": "code",
   "execution_count": 3,
   "id": "02555524-85f8-411a-b192-014e5da92bf0",
   "metadata": {
    "tags": []
   },
   "outputs": [
    {
     "data": {
      "text/html": [
       "<div>\n",
       "<style scoped>\n",
       "    .dataframe tbody tr th:only-of-type {\n",
       "        vertical-align: middle;\n",
       "    }\n",
       "\n",
       "    .dataframe tbody tr th {\n",
       "        vertical-align: top;\n",
       "    }\n",
       "\n",
       "    .dataframe thead th {\n",
       "        text-align: right;\n",
       "    }\n",
       "</style>\n",
       "<table border=\"1\" class=\"dataframe\">\n",
       "  <thead>\n",
       "    <tr style=\"text-align: right;\">\n",
       "      <th></th>\n",
       "      <th>New_ID</th>\n",
       "      <th>Age</th>\n",
       "    </tr>\n",
       "  </thead>\n",
       "  <tbody>\n",
       "    <tr>\n",
       "      <th>0</th>\n",
       "      <td>4001</td>\n",
       "      <td>19</td>\n",
       "    </tr>\n",
       "    <tr>\n",
       "      <th>1</th>\n",
       "      <td>4002</td>\n",
       "      <td>23</td>\n",
       "    </tr>\n",
       "    <tr>\n",
       "      <th>2</th>\n",
       "      <td>4003</td>\n",
       "      <td>18</td>\n",
       "    </tr>\n",
       "    <tr>\n",
       "      <th>3</th>\n",
       "      <td>4004</td>\n",
       "      <td>23</td>\n",
       "    </tr>\n",
       "    <tr>\n",
       "      <th>4</th>\n",
       "      <td>4005</td>\n",
       "      <td>17</td>\n",
       "    </tr>\n",
       "  </tbody>\n",
       "</table>\n",
       "</div>"
      ],
      "text/plain": [
       "   New_ID  Age\n",
       "0    4001   19\n",
       "1    4002   23\n",
       "2    4003   18\n",
       "3    4004   23\n",
       "4    4005   17"
      ]
     },
     "execution_count": 3,
     "metadata": {},
     "output_type": "execute_result"
    }
   ],
   "source": [
    "# reading the data\n",
    "metadata_path = './9-audio-age-classification/'\n",
    "base_data_path = f'{metadata_path}/dataset/waves/multiple_sentences/'\n",
    "\n",
    "pd_data = pd.read_excel(f'{metadata_path}BVC_Age.xlsx')\n",
    "pd_data.head()\n",
    "# for index, raw in pd_data.head().iterrows():\n",
    "    # print(raw['New_ID'])"
   ]
  },
  {
   "cell_type": "code",
   "execution_count": 4,
   "id": "16c0aa16-f912-495f-9058-74a711b46b8a",
   "metadata": {
    "tags": []
   },
   "outputs": [
    {
     "data": {
      "text/plain": [
       "19"
      ]
     },
     "execution_count": 4,
     "metadata": {},
     "output_type": "execute_result"
    }
   ],
   "source": [
    "pd_data[pd_data['New_ID']==4001]['Age'].to_numpy()[0]"
   ]
  },
  {
   "cell_type": "code",
   "execution_count": 5,
   "id": "06209748-8e4c-413a-8a2c-29eee6dacb87",
   "metadata": {
    "tags": []
   },
   "outputs": [
    {
     "data": {
      "text/plain": [
       "['./9-audio-age-classification//dataset/waves/multiple_sentences/S_01_4530_VV2.wav',\n",
       " './9-audio-age-classification//dataset/waves/multiple_sentences/S_01_4530_VV3.wav',\n",
       " './9-audio-age-classification//dataset/waves/multiple_sentences/S_01_4530_VE5.wav',\n",
       " './9-audio-age-classification//dataset/waves/multiple_sentences/S_01_4530_VE2.wav',\n",
       " './9-audio-age-classification//dataset/waves/multiple_sentences/S_01_4530_VV5.wav',\n",
       " './9-audio-age-classification//dataset/waves/multiple_sentences/S_01_4530_VV4.wav',\n",
       " './9-audio-age-classification//dataset/waves/multiple_sentences/S_01_4530_VV1.wav',\n",
       " './9-audio-age-classification//dataset/waves/multiple_sentences/S_01_4530_VE4.wav',\n",
       " './9-audio-age-classification//dataset/waves/multiple_sentences/S_01_4530_VE1.wav',\n",
       " './9-audio-age-classification//dataset/waves/multiple_sentences/S_01_4530_VE3.wav']"
      ]
     },
     "execution_count": 5,
     "metadata": {},
     "output_type": "execute_result"
    }
   ],
   "source": [
    "glob.glob(f'{base_data_path}*4530*')"
   ]
  },
  {
   "cell_type": "code",
   "execution_count": 21,
   "id": "f5721d1b-6655-44bf-aad0-6148191e989e",
   "metadata": {
    "tags": []
   },
   "outputs": [
    {
     "name": "stdout",
     "output_type": "stream",
     "text": [
      "2.0\n",
      "3.0\n",
      "5.0\n"
     ]
    }
   ],
   "source": [
    "def play(x, y):\n",
    "    x = x +1\n",
    "    return x/y\n",
    "\n",
    "def test_play():\n",
    "    x=[1, 2, 3, 4]\n",
    "    y=[1, 1, 0, 1]\n",
    "    for i, j in zip(x, y):\n",
    "        try:\n",
    "            out = play(i, j)\n",
    "        except:\n",
    "            continue\n",
    "            \n",
    "        print(out)\n",
    "        \n",
    "test_play()"
   ]
  },
  {
   "cell_type": "code",
   "execution_count": 28,
   "id": "654351d0-8c48-4479-a9f1-c9313c7052a7",
   "metadata": {
    "tags": []
   },
   "outputs": [],
   "source": [
    "#getting audio files\n",
    "# Utility functions for loading audio files and making sure the sample rate is correct.\n",
    "\n",
    "\n",
    "@tf.function\n",
    "def load_wav_16k_mono(filename):\n",
    "    \"\"\" Load a WAV file, convert it to a float tensor, resample to 16 kHz single-channel audio. \"\"\"\n",
    "    file_contents = tf.io.read_file(filename)\n",
    "    wav, sample_rate = tf.audio.decode_wav(\n",
    "            file_contents,\n",
    "            desired_channels=1)\n",
    "    wav = tf.squeeze(wav, axis=-1)\n",
    "    sample_rate = tf.cast(sample_rate, dtype=tf.int64) # like c type casting\n",
    "    wav = tfio.audio.resample(wav, rate_in=sample_rate, rate_out=16000)\n",
    "    return wav\n",
    "\n",
    "       \n",
    "# @tf.function\n",
    "def load_whole_dataset():\n",
    "    for index, raw in pd_data.iterrows():\n",
    "        wav_code = raw['New_ID']\n",
    "        files_list = glob.glob(f'{base_data_path}*{wav_code}*')\n",
    "        for file in files_list:\n",
    "            try:\n",
    "                audio_sample = load_wav_16k_mono(file)\n",
    "            except:\n",
    "                continue\n",
    "                \n",
    "            yield audio_sample, raw['Age']\n",
    "\n"
   ]
  },
  {
   "cell_type": "code",
   "execution_count": 29,
   "id": "aa12c10d-1f8e-4298-8971-06785e9b21fd",
   "metadata": {
    "tags": []
   },
   "outputs": [
    {
     "name": "stdout",
     "output_type": "stream",
     "text": [
      "tf.Tensor(0.14507294, shape=(), dtype=float32)\n",
      "(39919,)\n"
     ]
    },
    {
     "name": "stderr",
     "output_type": "stream",
     "text": [
      "/tmp/ipykernel_25916/3608839740.py:7: WavFileWarning: Chunk (non-data) not understood, skipping it.\n",
      "  sample_rate, wav = wavfile.read(filename)\n"
     ]
    },
    {
     "data": {
      "text/html": [
       "\n",
       "                <audio  controls=\"controls\" >\n",
       "                    <source src=\"data:audio/wav;base64,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\" type=\"audio/wav\" />\n",
       "                    Your browser does not support the audio element.\n",
       "                </audio>\n",
       "              "
      ],
      "text/plain": [
       "<IPython.lib.display.Audio object>"
      ]
     },
     "execution_count": 29,
     "metadata": {},
     "output_type": "execute_result"
    }
   ],
   "source": [
    "# using scipy wavfile.read\n",
    "\n",
    "# @tf.function\n",
    "def load_wav_16k_mono_scipy(filename):\n",
    "    \"\"\" Load a WAV file, convert it to a float tensor, resample to 16 kHz single-channel audio. \"\"\"\n",
    "    \"\"\" docs: https://docs.scipy.org/doc/scipy/reference/generated/scipy.io.wavfile.read.html\"\"\"\n",
    "    sample_rate, wav = wavfile.read(filename)\n",
    "    wav = tf.constant(wav)\n",
    "    wav = tf.cast(tf.transpose(wav)[0], dtype=tf.float32)/32767.0 # taking the first cahannel and normalizing it\n",
    "    new_rate = int(wav.shape[0] * 16000 / sample_rate)\n",
    "    wav = signal.resample(wav.numpy(), new_rate)\n",
    "    return tf.constant(wav)\n",
    "\n",
    "       \n",
    "# @tf.function\n",
    "def load_whole_dataset_scipy():\n",
    "    for index, raw in pd_data.iterrows():\n",
    "        wav_code = raw['New_ID']\n",
    "        files_list = glob.glob(f'{base_data_path}*{wav_code}*')\n",
    "        for file in files_list:\n",
    "            # print(file)\n",
    "            yield load_wav_16k_mono_scipy(file), raw['Age']\n",
    "\n",
    "file1 ='./9-audio-age-classification//dataset/waves/multiple_sentences/S_01_4006_VE.wav' \n",
    "file2 ='./9-audio-age-classification//dataset/waves/multiple_sentences/S_01_4007_VV.wav'\n",
    "\n",
    "wav = load_wav_16k_mono_scipy(file2)\n",
    "print(tf.reduce_max(wav))\n",
    "print(wav.shape)\n",
    "display.Audio(wav, rate=16000)"
   ]
  },
  {
   "cell_type": "code",
   "execution_count": 30,
   "id": "b2470271-ea6a-4b4e-9314-413e32c00d33",
   "metadata": {
    "tags": []
   },
   "outputs": [],
   "source": [
    "#./9-audio-age-classification//dataset/waves/multiple_sentences/S_01_4289_VV.wav adpdm foram\n",
    "# for wav, age in load_whole_dataset_scipy():\n",
    "    # print()"
   ]
  },
  {
   "cell_type": "code",
   "execution_count": 31,
   "id": "e31bf1db-2904-4bd6-91a7-2e1f92ec3fed",
   "metadata": {
    "tags": []
   },
   "outputs": [
    {
     "data": {
      "text/plain": [
       "(TensorSpec(shape=(None,), dtype=tf.float32, name=None),\n",
       " TensorSpec(shape=(), dtype=tf.float32, name=None))"
      ]
     },
     "execution_count": 31,
     "metadata": {},
     "output_type": "execute_result"
    }
   ],
   "source": [
    "# loadin the dataset\n",
    "main_ds = tf.data.Dataset.from_generator(\n",
    "     load_whole_dataset,\n",
    "     output_signature=(\n",
    "         tf.TensorSpec(shape=(None, ), dtype=tf.float32),\n",
    "         tf.TensorSpec(shape=(), dtype=tf.float32)))\n",
    "main_ds.element_spec"
   ]
  },
  {
   "cell_type": "code",
   "execution_count": 33,
   "id": "11613d43-8e38-46aa-a52a-e316bd5b8f8d",
   "metadata": {
    "tags": []
   },
   "outputs": [
    {
     "name": "stdout",
     "output_type": "stream",
     "text": [
      "(17793,)\n",
      "tf.Tensor(19.0, shape=(), dtype=float32)\n"
     ]
    },
    {
     "data": {
      "text/html": [
       "\n",
       "                <audio  controls=\"controls\" >\n",
       "                    <source src=\"data:audio/wav;base64,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\" type=\"audio/wav\" />\n",
       "                    Your browser does not support the audio element.\n",
       "                </audio>\n",
       "              "
      ],
      "text/plain": [
       "<IPython.lib.display.Audio object>"
      ]
     },
     "execution_count": 33,
     "metadata": {},
     "output_type": "execute_result"
    }
   ],
   "source": [
    "wav, age = next(iter(main_ds.take(1)))\n",
    "print(wav.shape)\n",
    "print(age)\n",
    "display.Audio(wav, rate=16000)"
   ]
  },
  {
   "cell_type": "code",
   "execution_count": 34,
   "id": "2849c172-46ad-4743-ae6e-0a2cc4c64979",
   "metadata": {
    "tags": []
   },
   "outputs": [
    {
     "data": {
      "text/plain": [
       "(TensorSpec(shape=(1024,), dtype=tf.float32, name=None),\n",
       " TensorSpec(shape=(), dtype=tf.float32, name=None))"
      ]
     },
     "execution_count": 34,
     "metadata": {},
     "output_type": "execute_result"
    }
   ],
   "source": [
    "# applying yamet embedding \n",
    "# it generate embedding every (window size) so for a single input it will produce n x 1024\n",
    "\n",
    "# applies the embedding extraction model to a wav data\n",
    "def extract_embedding(wav_data, label):\n",
    "    ''' run YAMNet to extract embedding from the wav data '''\n",
    "    scores, embeddings, spectrogram = yamnet_model(wav_data)\n",
    "    num_embeddings = tf.shape(embeddings)[0]\n",
    "    # return (embeddings,\n",
    "              # tf.repeat(label, num_embeddings))\n",
    "    ''' averaging embeddings '''\n",
    "    return (tf.math.reduce_mean(embeddings, axis=0), label)\n",
    "\n",
    "# extract embedding\n",
    "# main_ds = main_ds.map(extract_embedding).unbatch()\n",
    "main_ds = main_ds.map(extract_embedding)\n",
    "main_ds.element_spec"
   ]
  },
  {
   "cell_type": "code",
   "execution_count": 35,
   "id": "303df4f3-456e-453b-99b6-4f695b7ac665",
   "metadata": {
    "tags": []
   },
   "outputs": [
    {
     "name": "stdout",
     "output_type": "stream",
     "text": [
      "(1024,)\n",
      "tf.Tensor(19.0, shape=(), dtype=float32)\n"
     ]
    }
   ],
   "source": [
    "emed, age = next(iter(main_ds.take(1)))\n",
    "print(emed.shape)\n",
    "print(age)"
   ]
  },
  {
   "cell_type": "code",
   "execution_count": 36,
   "id": "e8b7bf2a-35a6-4e97-96bf-29deffc908f2",
   "metadata": {
    "tags": []
   },
   "outputs": [],
   "source": [
    "# spliting in train and test\n",
    "BATCH_SIZE = 32\n",
    "NUM_SHARDS = 4\n",
    "cached_ds = main_ds.cache()\n",
    "test_ds = cached_ds.shard(num_shards=NUM_SHARDS, index=0)\n",
    "\n",
    "train_ds = cached_ds.shard(num_shards=NUM_SHARDS, index=1)\n",
    "for i in range(NUM_SHARDS-2):\n",
    "    train_ds = train_ds.concatenate(cached_ds.shard(num_shards=5, index=i+2))\n",
    "    \n",
    "val_ds = test_ds.shard(num_shards=2, index=0) # 10% val\n",
    "test_ds = test_ds.shard(num_shards=2, index=1)# 10% test\n",
    "\n",
    "\n",
    "train_ds = train_ds.cache().shuffle(1000).batch(BATCH_SIZE).prefetch(tf.data.AUTOTUNE)\n",
    "val_ds = val_ds.cache().batch(BATCH_SIZE).prefetch(tf.data.AUTOTUNE)\n",
    "test_ds = test_ds.cache().batch(BATCH_SIZE).prefetch(tf.data.AUTOTUNE)\n"
   ]
  },
  {
   "cell_type": "code",
   "execution_count": null,
   "id": "0ca1f1f0-7219-440b-8793-0476d33e75cf",
   "metadata": {
    "tags": []
   },
   "outputs": [
    {
     "name": "stdout",
     "output_type": "stream",
     "text": [
      "WARNING:tensorflow:Using a while_loop for converting IO>AudioResample cause there is no registered converter for this op.\n"
     ]
    },
    {
     "name": "stderr",
     "output_type": "stream",
     "text": [
      "WARNING:tensorflow:Using a while_loop for converting IO>AudioResample cause there is no registered converter for this op.\n"
     ]
    },
    {
     "name": "stdout",
     "output_type": "stream",
     "text": [
      "WARNING:tensorflow:Using a while_loop for converting IO>AudioResample cause there is no registered converter for this op.\n"
     ]
    },
    {
     "name": "stderr",
     "output_type": "stream",
     "text": [
      "WARNING:tensorflow:Using a while_loop for converting IO>AudioResample cause there is no registered converter for this op.\n"
     ]
    },
    {
     "name": "stdout",
     "output_type": "stream",
     "text": [
      "WARNING:tensorflow:Using a while_loop for converting IO>AudioResample cause there is no registered converter for this op.\n"
     ]
    },
    {
     "name": "stderr",
     "output_type": "stream",
     "text": [
      "WARNING:tensorflow:Using a while_loop for converting IO>AudioResample cause there is no registered converter for this op.\n"
     ]
    },
    {
     "name": "stdout",
     "output_type": "stream",
     "text": [
      "WARNING:tensorflow:Using a while_loop for converting IO>AudioResample cause there is no registered converter for this op.\n"
     ]
    },
    {
     "name": "stderr",
     "output_type": "stream",
     "text": [
      "WARNING:tensorflow:Using a while_loop for converting IO>AudioResample cause there is no registered converter for this op.\n"
     ]
    },
    {
     "name": "stdout",
     "output_type": "stream",
     "text": [
      "WARNING:tensorflow:5 out of the last 8 calls to <function load_wav_16k_mono at 0x7fb4df8e7d90> triggered tf.function retracing. Tracing is expensive and the excessive number of tracings could be due to (1) creating @tf.function repeatedly in a loop, (2) passing tensors with different shapes, (3) passing Python objects instead of tensors. For (1), please define your @tf.function outside of the loop. For (2), @tf.function has reduce_retracing=True option that can avoid unnecessary retracing. For (3), please refer to https://www.tensorflow.org/guide/function#controlling_retracing and https://www.tensorflow.org/api_docs/python/tf/function for  more details.\n"
     ]
    },
    {
     "name": "stderr",
     "output_type": "stream",
     "text": [
      "WARNING:tensorflow:5 out of the last 8 calls to <function load_wav_16k_mono at 0x7fb4df8e7d90> triggered tf.function retracing. Tracing is expensive and the excessive number of tracings could be due to (1) creating @tf.function repeatedly in a loop, (2) passing tensors with different shapes, (3) passing Python objects instead of tensors. For (1), please define your @tf.function outside of the loop. For (2), @tf.function has reduce_retracing=True option that can avoid unnecessary retracing. For (3), please refer to https://www.tensorflow.org/guide/function#controlling_retracing and https://www.tensorflow.org/api_docs/python/tf/function for  more details.\n"
     ]
    },
    {
     "name": "stdout",
     "output_type": "stream",
     "text": [
      "WARNING:tensorflow:Using a while_loop for converting IO>AudioResample cause there is no registered converter for this op.\n"
     ]
    },
    {
     "name": "stderr",
     "output_type": "stream",
     "text": [
      "WARNING:tensorflow:Using a while_loop for converting IO>AudioResample cause there is no registered converter for this op.\n"
     ]
    },
    {
     "name": "stdout",
     "output_type": "stream",
     "text": [
      "WARNING:tensorflow:6 out of the last 9 calls to <function load_wav_16k_mono at 0x7fb4df8e7d90> triggered tf.function retracing. Tracing is expensive and the excessive number of tracings could be due to (1) creating @tf.function repeatedly in a loop, (2) passing tensors with different shapes, (3) passing Python objects instead of tensors. For (1), please define your @tf.function outside of the loop. For (2), @tf.function has reduce_retracing=True option that can avoid unnecessary retracing. For (3), please refer to https://www.tensorflow.org/guide/function#controlling_retracing and https://www.tensorflow.org/api_docs/python/tf/function for  more details.\n"
     ]
    },
    {
     "name": "stderr",
     "output_type": "stream",
     "text": [
      "WARNING:tensorflow:6 out of the last 9 calls to <function load_wav_16k_mono at 0x7fb4df8e7d90> triggered tf.function retracing. Tracing is expensive and the excessive number of tracings could be due to (1) creating @tf.function repeatedly in a loop, (2) passing tensors with different shapes, (3) passing Python objects instead of tensors. For (1), please define your @tf.function outside of the loop. For (2), @tf.function has reduce_retracing=True option that can avoid unnecessary retracing. For (3), please refer to https://www.tensorflow.org/guide/function#controlling_retracing and https://www.tensorflow.org/api_docs/python/tf/function for  more details.\n"
     ]
    },
    {
     "name": "stdout",
     "output_type": "stream",
     "text": [
      "WARNING:tensorflow:Using a while_loop for converting IO>AudioResample cause there is no registered converter for this op.\n"
     ]
    },
    {
     "name": "stderr",
     "output_type": "stream",
     "text": [
      "WARNING:tensorflow:Using a while_loop for converting IO>AudioResample cause there is no registered converter for this op.\n"
     ]
    },
    {
     "name": "stdout",
     "output_type": "stream",
     "text": [
      "WARNING:tensorflow:Using a while_loop for converting IO>AudioResample cause there is no registered converter for this op.\n"
     ]
    },
    {
     "name": "stderr",
     "output_type": "stream",
     "text": [
      "WARNING:tensorflow:Using a while_loop for converting IO>AudioResample cause there is no registered converter for this op.\n"
     ]
    },
    {
     "name": "stdout",
     "output_type": "stream",
     "text": [
      "WARNING:tensorflow:Using a while_loop for converting IO>AudioResample cause there is no registered converter for this op.\n"
     ]
    },
    {
     "name": "stderr",
     "output_type": "stream",
     "text": [
      "WARNING:tensorflow:Using a while_loop for converting IO>AudioResample cause there is no registered converter for this op.\n"
     ]
    },
    {
     "name": "stdout",
     "output_type": "stream",
     "text": [
      "WARNING:tensorflow:Using a while_loop for converting IO>AudioResample cause there is no registered converter for this op.\n"
     ]
    },
    {
     "name": "stderr",
     "output_type": "stream",
     "text": [
      "WARNING:tensorflow:Using a while_loop for converting IO>AudioResample cause there is no registered converter for this op.\n"
     ]
    },
    {
     "name": "stdout",
     "output_type": "stream",
     "text": [
      "WARNING:tensorflow:Using a while_loop for converting IO>AudioResample cause there is no registered converter for this op.\n"
     ]
    },
    {
     "name": "stderr",
     "output_type": "stream",
     "text": [
      "WARNING:tensorflow:Using a while_loop for converting IO>AudioResample cause there is no registered converter for this op.\n"
     ]
    },
    {
     "name": "stdout",
     "output_type": "stream",
     "text": [
      "WARNING:tensorflow:Using a while_loop for converting IO>AudioResample cause there is no registered converter for this op.\n"
     ]
    },
    {
     "name": "stderr",
     "output_type": "stream",
     "text": [
      "WARNING:tensorflow:Using a while_loop for converting IO>AudioResample cause there is no registered converter for this op.\n"
     ]
    },
    {
     "name": "stdout",
     "output_type": "stream",
     "text": [
      "WARNING:tensorflow:Using a while_loop for converting IO>AudioResample cause there is no registered converter for this op.\n"
     ]
    },
    {
     "name": "stderr",
     "output_type": "stream",
     "text": [
      "WARNING:tensorflow:Using a while_loop for converting IO>AudioResample cause there is no registered converter for this op.\n"
     ]
    },
    {
     "name": "stdout",
     "output_type": "stream",
     "text": [
      "WARNING:tensorflow:Using a while_loop for converting IO>AudioResample cause there is no registered converter for this op.\n"
     ]
    },
    {
     "name": "stderr",
     "output_type": "stream",
     "text": [
      "WARNING:tensorflow:Using a while_loop for converting IO>AudioResample cause there is no registered converter for this op.\n"
     ]
    },
    {
     "name": "stdout",
     "output_type": "stream",
     "text": [
      "WARNING:tensorflow:Using a while_loop for converting IO>AudioResample cause there is no registered converter for this op.\n"
     ]
    },
    {
     "name": "stderr",
     "output_type": "stream",
     "text": [
      "WARNING:tensorflow:Using a while_loop for converting IO>AudioResample cause there is no registered converter for this op.\n"
     ]
    },
    {
     "name": "stdout",
     "output_type": "stream",
     "text": [
      "WARNING:tensorflow:Using a while_loop for converting IO>AudioResample cause there is no registered converter for this op.\n"
     ]
    },
    {
     "name": "stderr",
     "output_type": "stream",
     "text": [
      "WARNING:tensorflow:Using a while_loop for converting IO>AudioResample cause there is no registered converter for this op.\n"
     ]
    },
    {
     "name": "stdout",
     "output_type": "stream",
     "text": [
      "WARNING:tensorflow:Using a while_loop for converting IO>AudioResample cause there is no registered converter for this op.\n"
     ]
    },
    {
     "name": "stderr",
     "output_type": "stream",
     "text": [
      "WARNING:tensorflow:Using a while_loop for converting IO>AudioResample cause there is no registered converter for this op.\n"
     ]
    },
    {
     "name": "stdout",
     "output_type": "stream",
     "text": [
      "WARNING:tensorflow:Using a while_loop for converting IO>AudioResample cause there is no registered converter for this op.\n"
     ]
    },
    {
     "name": "stderr",
     "output_type": "stream",
     "text": [
      "WARNING:tensorflow:Using a while_loop for converting IO>AudioResample cause there is no registered converter for this op.\n"
     ]
    },
    {
     "name": "stdout",
     "output_type": "stream",
     "text": [
      "WARNING:tensorflow:Using a while_loop for converting IO>AudioResample cause there is no registered converter for this op.\n"
     ]
    },
    {
     "name": "stderr",
     "output_type": "stream",
     "text": [
      "WARNING:tensorflow:Using a while_loop for converting IO>AudioResample cause there is no registered converter for this op.\n"
     ]
    },
    {
     "name": "stdout",
     "output_type": "stream",
     "text": [
      "WARNING:tensorflow:Using a while_loop for converting IO>AudioResample cause there is no registered converter for this op.\n"
     ]
    },
    {
     "name": "stderr",
     "output_type": "stream",
     "text": [
      "WARNING:tensorflow:Using a while_loop for converting IO>AudioResample cause there is no registered converter for this op.\n"
     ]
    },
    {
     "name": "stdout",
     "output_type": "stream",
     "text": [
      "WARNING:tensorflow:Using a while_loop for converting IO>AudioResample cause there is no registered converter for this op.\n"
     ]
    },
    {
     "name": "stderr",
     "output_type": "stream",
     "text": [
      "WARNING:tensorflow:Using a while_loop for converting IO>AudioResample cause there is no registered converter for this op.\n"
     ]
    },
    {
     "name": "stdout",
     "output_type": "stream",
     "text": [
      "WARNING:tensorflow:Using a while_loop for converting IO>AudioResample cause there is no registered converter for this op.\n"
     ]
    },
    {
     "name": "stderr",
     "output_type": "stream",
     "text": [
      "WARNING:tensorflow:Using a while_loop for converting IO>AudioResample cause there is no registered converter for this op.\n"
     ]
    },
    {
     "name": "stdout",
     "output_type": "stream",
     "text": [
      "WARNING:tensorflow:Using a while_loop for converting IO>AudioResample cause there is no registered converter for this op.\n"
     ]
    },
    {
     "name": "stderr",
     "output_type": "stream",
     "text": [
      "WARNING:tensorflow:Using a while_loop for converting IO>AudioResample cause there is no registered converter for this op.\n"
     ]
    },
    {
     "name": "stdout",
     "output_type": "stream",
     "text": [
      "WARNING:tensorflow:Using a while_loop for converting IO>AudioResample cause there is no registered converter for this op.\n"
     ]
    },
    {
     "name": "stderr",
     "output_type": "stream",
     "text": [
      "WARNING:tensorflow:Using a while_loop for converting IO>AudioResample cause there is no registered converter for this op.\n"
     ]
    },
    {
     "name": "stdout",
     "output_type": "stream",
     "text": [
      "WARNING:tensorflow:Using a while_loop for converting IO>AudioResample cause there is no registered converter for this op.\n"
     ]
    },
    {
     "name": "stderr",
     "output_type": "stream",
     "text": [
      "WARNING:tensorflow:Using a while_loop for converting IO>AudioResample cause there is no registered converter for this op.\n"
     ]
    },
    {
     "name": "stdout",
     "output_type": "stream",
     "text": [
      "WARNING:tensorflow:Using a while_loop for converting IO>AudioResample cause there is no registered converter for this op.\n"
     ]
    },
    {
     "name": "stderr",
     "output_type": "stream",
     "text": [
      "WARNING:tensorflow:Using a while_loop for converting IO>AudioResample cause there is no registered converter for this op.\n"
     ]
    },
    {
     "name": "stdout",
     "output_type": "stream",
     "text": [
      "WARNING:tensorflow:Using a while_loop for converting IO>AudioResample cause there is no registered converter for this op.\n"
     ]
    },
    {
     "name": "stderr",
     "output_type": "stream",
     "text": [
      "WARNING:tensorflow:Using a while_loop for converting IO>AudioResample cause there is no registered converter for this op.\n"
     ]
    },
    {
     "name": "stdout",
     "output_type": "stream",
     "text": [
      "WARNING:tensorflow:Using a while_loop for converting IO>AudioResample cause there is no registered converter for this op.\n"
     ]
    },
    {
     "name": "stderr",
     "output_type": "stream",
     "text": [
      "WARNING:tensorflow:Using a while_loop for converting IO>AudioResample cause there is no registered converter for this op.\n"
     ]
    },
    {
     "name": "stdout",
     "output_type": "stream",
     "text": [
      "WARNING:tensorflow:Using a while_loop for converting IO>AudioResample cause there is no registered converter for this op.\n"
     ]
    },
    {
     "name": "stderr",
     "output_type": "stream",
     "text": [
      "WARNING:tensorflow:Using a while_loop for converting IO>AudioResample cause there is no registered converter for this op.\n"
     ]
    },
    {
     "name": "stdout",
     "output_type": "stream",
     "text": [
      "WARNING:tensorflow:Using a while_loop for converting IO>AudioResample cause there is no registered converter for this op.\n"
     ]
    },
    {
     "name": "stderr",
     "output_type": "stream",
     "text": [
      "WARNING:tensorflow:Using a while_loop for converting IO>AudioResample cause there is no registered converter for this op.\n"
     ]
    },
    {
     "name": "stdout",
     "output_type": "stream",
     "text": [
      "WARNING:tensorflow:Using a while_loop for converting IO>AudioResample cause there is no registered converter for this op.\n"
     ]
    },
    {
     "name": "stderr",
     "output_type": "stream",
     "text": [
      "WARNING:tensorflow:Using a while_loop for converting IO>AudioResample cause there is no registered converter for this op.\n"
     ]
    },
    {
     "name": "stdout",
     "output_type": "stream",
     "text": [
      "WARNING:tensorflow:Using a while_loop for converting IO>AudioResample cause there is no registered converter for this op.\n"
     ]
    },
    {
     "name": "stderr",
     "output_type": "stream",
     "text": [
      "WARNING:tensorflow:Using a while_loop for converting IO>AudioResample cause there is no registered converter for this op.\n"
     ]
    },
    {
     "name": "stdout",
     "output_type": "stream",
     "text": [
      "WARNING:tensorflow:Using a while_loop for converting IO>AudioResample cause there is no registered converter for this op.\n"
     ]
    },
    {
     "name": "stderr",
     "output_type": "stream",
     "text": [
      "WARNING:tensorflow:Using a while_loop for converting IO>AudioResample cause there is no registered converter for this op.\n"
     ]
    },
    {
     "name": "stdout",
     "output_type": "stream",
     "text": [
      "WARNING:tensorflow:Using a while_loop for converting IO>AudioResample cause there is no registered converter for this op.\n"
     ]
    },
    {
     "name": "stderr",
     "output_type": "stream",
     "text": [
      "WARNING:tensorflow:Using a while_loop for converting IO>AudioResample cause there is no registered converter for this op.\n"
     ]
    },
    {
     "name": "stdout",
     "output_type": "stream",
     "text": [
      "WARNING:tensorflow:Using a while_loop for converting IO>AudioResample cause there is no registered converter for this op.\n"
     ]
    },
    {
     "name": "stderr",
     "output_type": "stream",
     "text": [
      "2023-03-09 22:53:28.667872: I tensorflow/core/kernels/data/shuffle_dataset_op.cc:392] Filling up shuffle buffer (this may take a while): 9 of 1000\n",
      "WARNING:tensorflow:Using a while_loop for converting IO>AudioResample cause there is no registered converter for this op.\n"
     ]
    },
    {
     "name": "stdout",
     "output_type": "stream",
     "text": [
      "WARNING:tensorflow:Using a while_loop for converting IO>AudioResample cause there is no registered converter for this op.\n"
     ]
    },
    {
     "name": "stderr",
     "output_type": "stream",
     "text": [
      "WARNING:tensorflow:Using a while_loop for converting IO>AudioResample cause there is no registered converter for this op.\n"
     ]
    },
    {
     "name": "stdout",
     "output_type": "stream",
     "text": [
      "WARNING:tensorflow:Using a while_loop for converting IO>AudioResample cause there is no registered converter for this op.\n"
     ]
    },
    {
     "name": "stderr",
     "output_type": "stream",
     "text": [
      "WARNING:tensorflow:Using a while_loop for converting IO>AudioResample cause there is no registered converter for this op.\n"
     ]
    },
    {
     "name": "stdout",
     "output_type": "stream",
     "text": [
      "WARNING:tensorflow:Using a while_loop for converting IO>AudioResample cause there is no registered converter for this op.\n"
     ]
    },
    {
     "name": "stderr",
     "output_type": "stream",
     "text": [
      "WARNING:tensorflow:Using a while_loop for converting IO>AudioResample cause there is no registered converter for this op.\n"
     ]
    },
    {
     "name": "stdout",
     "output_type": "stream",
     "text": [
      "WARNING:tensorflow:Using a while_loop for converting IO>AudioResample cause there is no registered converter for this op.\n"
     ]
    },
    {
     "name": "stderr",
     "output_type": "stream",
     "text": [
      "WARNING:tensorflow:Using a while_loop for converting IO>AudioResample cause there is no registered converter for this op.\n",
      "2023-03-09 22:53:30.580827: W tensorflow/core/framework/op_kernel.cc:1830] OP_REQUIRES failed at decode_wav_op.cc:52 : INVALID_ARGUMENT: Data too short when trying to read string\n",
      "2023-03-09 22:53:30.584780: W tensorflow/core/framework/op_kernel.cc:1830] OP_REQUIRES failed at decode_wav_op.cc:52 : INVALID_ARGUMENT: Data too short when trying to read string\n"
     ]
    },
    {
     "name": "stdout",
     "output_type": "stream",
     "text": [
      "WARNING:tensorflow:Using a while_loop for converting IO>AudioResample cause there is no registered converter for this op.\n"
     ]
    },
    {
     "name": "stderr",
     "output_type": "stream",
     "text": [
      "WARNING:tensorflow:Using a while_loop for converting IO>AudioResample cause there is no registered converter for this op.\n",
      "2023-03-09 22:53:30.776849: W tensorflow/core/framework/op_kernel.cc:1830] OP_REQUIRES failed at decode_wav_op.cc:52 : INVALID_ARGUMENT: Data too short when trying to read string\n",
      "2023-03-09 22:53:30.782350: W tensorflow/core/framework/op_kernel.cc:1830] OP_REQUIRES failed at decode_wav_op.cc:52 : INVALID_ARGUMENT: Data too short when trying to read string\n"
     ]
    },
    {
     "name": "stdout",
     "output_type": "stream",
     "text": [
      "WARNING:tensorflow:Using a while_loop for converting IO>AudioResample cause there is no registered converter for this op.\n"
     ]
    },
    {
     "name": "stderr",
     "output_type": "stream",
     "text": [
      "WARNING:tensorflow:Using a while_loop for converting IO>AudioResample cause there is no registered converter for this op.\n"
     ]
    },
    {
     "name": "stdout",
     "output_type": "stream",
     "text": [
      "WARNING:tensorflow:Using a while_loop for converting IO>AudioResample cause there is no registered converter for this op.\n"
     ]
    },
    {
     "name": "stderr",
     "output_type": "stream",
     "text": [
      "WARNING:tensorflow:Using a while_loop for converting IO>AudioResample cause there is no registered converter for this op.\n"
     ]
    },
    {
     "name": "stdout",
     "output_type": "stream",
     "text": [
      "WARNING:tensorflow:Using a while_loop for converting IO>AudioResample cause there is no registered converter for this op.\n"
     ]
    },
    {
     "name": "stderr",
     "output_type": "stream",
     "text": [
      "WARNING:tensorflow:Using a while_loop for converting IO>AudioResample cause there is no registered converter for this op.\n"
     ]
    },
    {
     "name": "stdout",
     "output_type": "stream",
     "text": [
      "WARNING:tensorflow:Using a while_loop for converting IO>AudioResample cause there is no registered converter for this op.\n"
     ]
    },
    {
     "name": "stderr",
     "output_type": "stream",
     "text": [
      "WARNING:tensorflow:Using a while_loop for converting IO>AudioResample cause there is no registered converter for this op.\n"
     ]
    },
    {
     "name": "stdout",
     "output_type": "stream",
     "text": [
      "WARNING:tensorflow:Using a while_loop for converting IO>AudioResample cause there is no registered converter for this op.\n"
     ]
    },
    {
     "name": "stderr",
     "output_type": "stream",
     "text": [
      "WARNING:tensorflow:Using a while_loop for converting IO>AudioResample cause there is no registered converter for this op.\n"
     ]
    },
    {
     "name": "stdout",
     "output_type": "stream",
     "text": [
      "WARNING:tensorflow:Using a while_loop for converting IO>AudioResample cause there is no registered converter for this op.\n"
     ]
    },
    {
     "name": "stderr",
     "output_type": "stream",
     "text": [
      "WARNING:tensorflow:Using a while_loop for converting IO>AudioResample cause there is no registered converter for this op.\n"
     ]
    },
    {
     "name": "stdout",
     "output_type": "stream",
     "text": [
      "WARNING:tensorflow:Using a while_loop for converting IO>AudioResample cause there is no registered converter for this op.\n"
     ]
    },
    {
     "name": "stderr",
     "output_type": "stream",
     "text": [
      "WARNING:tensorflow:Using a while_loop for converting IO>AudioResample cause there is no registered converter for this op.\n"
     ]
    },
    {
     "name": "stdout",
     "output_type": "stream",
     "text": [
      "WARNING:tensorflow:Using a while_loop for converting IO>AudioResample cause there is no registered converter for this op.\n"
     ]
    },
    {
     "name": "stderr",
     "output_type": "stream",
     "text": [
      "WARNING:tensorflow:Using a while_loop for converting IO>AudioResample cause there is no registered converter for this op.\n"
     ]
    },
    {
     "name": "stdout",
     "output_type": "stream",
     "text": [
      "WARNING:tensorflow:Using a while_loop for converting IO>AudioResample cause there is no registered converter for this op.\n"
     ]
    },
    {
     "name": "stderr",
     "output_type": "stream",
     "text": [
      "WARNING:tensorflow:Using a while_loop for converting IO>AudioResample cause there is no registered converter for this op.\n"
     ]
    },
    {
     "name": "stdout",
     "output_type": "stream",
     "text": [
      "WARNING:tensorflow:Using a while_loop for converting IO>AudioResample cause there is no registered converter for this op.\n"
     ]
    },
    {
     "name": "stderr",
     "output_type": "stream",
     "text": [
      "WARNING:tensorflow:Using a while_loop for converting IO>AudioResample cause there is no registered converter for this op.\n"
     ]
    },
    {
     "name": "stdout",
     "output_type": "stream",
     "text": [
      "WARNING:tensorflow:Using a while_loop for converting IO>AudioResample cause there is no registered converter for this op.\n"
     ]
    },
    {
     "name": "stderr",
     "output_type": "stream",
     "text": [
      "WARNING:tensorflow:Using a while_loop for converting IO>AudioResample cause there is no registered converter for this op.\n"
     ]
    },
    {
     "name": "stdout",
     "output_type": "stream",
     "text": [
      "WARNING:tensorflow:Using a while_loop for converting IO>AudioResample cause there is no registered converter for this op.\n"
     ]
    },
    {
     "name": "stderr",
     "output_type": "stream",
     "text": [
      "WARNING:tensorflow:Using a while_loop for converting IO>AudioResample cause there is no registered converter for this op.\n"
     ]
    },
    {
     "name": "stdout",
     "output_type": "stream",
     "text": [
      "WARNING:tensorflow:Using a while_loop for converting IO>AudioResample cause there is no registered converter for this op.\n"
     ]
    },
    {
     "name": "stderr",
     "output_type": "stream",
     "text": [
      "WARNING:tensorflow:Using a while_loop for converting IO>AudioResample cause there is no registered converter for this op.\n"
     ]
    },
    {
     "name": "stdout",
     "output_type": "stream",
     "text": [
      "WARNING:tensorflow:Using a while_loop for converting IO>AudioResample cause there is no registered converter for this op.\n"
     ]
    },
    {
     "name": "stderr",
     "output_type": "stream",
     "text": [
      "WARNING:tensorflow:Using a while_loop for converting IO>AudioResample cause there is no registered converter for this op.\n"
     ]
    },
    {
     "name": "stdout",
     "output_type": "stream",
     "text": [
      "WARNING:tensorflow:Using a while_loop for converting IO>AudioResample cause there is no registered converter for this op.\n"
     ]
    },
    {
     "name": "stderr",
     "output_type": "stream",
     "text": [
      "WARNING:tensorflow:Using a while_loop for converting IO>AudioResample cause there is no registered converter for this op.\n"
     ]
    },
    {
     "name": "stdout",
     "output_type": "stream",
     "text": [
      "WARNING:tensorflow:Using a while_loop for converting IO>AudioResample cause there is no registered converter for this op.\n"
     ]
    },
    {
     "name": "stderr",
     "output_type": "stream",
     "text": [
      "WARNING:tensorflow:Using a while_loop for converting IO>AudioResample cause there is no registered converter for this op.\n"
     ]
    },
    {
     "name": "stdout",
     "output_type": "stream",
     "text": [
      "WARNING:tensorflow:Using a while_loop for converting IO>AudioResample cause there is no registered converter for this op.\n"
     ]
    },
    {
     "name": "stderr",
     "output_type": "stream",
     "text": [
      "WARNING:tensorflow:Using a while_loop for converting IO>AudioResample cause there is no registered converter for this op.\n"
     ]
    },
    {
     "name": "stdout",
     "output_type": "stream",
     "text": [
      "WARNING:tensorflow:Using a while_loop for converting IO>AudioResample cause there is no registered converter for this op.\n"
     ]
    },
    {
     "name": "stderr",
     "output_type": "stream",
     "text": [
      "WARNING:tensorflow:Using a while_loop for converting IO>AudioResample cause there is no registered converter for this op.\n"
     ]
    },
    {
     "name": "stdout",
     "output_type": "stream",
     "text": [
      "WARNING:tensorflow:Using a while_loop for converting IO>AudioResample cause there is no registered converter for this op.\n"
     ]
    },
    {
     "name": "stderr",
     "output_type": "stream",
     "text": [
      "WARNING:tensorflow:Using a while_loop for converting IO>AudioResample cause there is no registered converter for this op.\n"
     ]
    },
    {
     "name": "stdout",
     "output_type": "stream",
     "text": [
      "WARNING:tensorflow:Using a while_loop for converting IO>AudioResample cause there is no registered converter for this op.\n"
     ]
    },
    {
     "name": "stderr",
     "output_type": "stream",
     "text": [
      "WARNING:tensorflow:Using a while_loop for converting IO>AudioResample cause there is no registered converter for this op.\n",
      "2023-03-09 22:53:38.000731: I tensorflow/core/kernels/data/shuffle_dataset_op.cc:392] Filling up shuffle buffer (this may take a while): 15 of 1000\n"
     ]
    },
    {
     "name": "stdout",
     "output_type": "stream",
     "text": [
      "WARNING:tensorflow:Using a while_loop for converting IO>AudioResample cause there is no registered converter for this op.\n"
     ]
    },
    {
     "name": "stderr",
     "output_type": "stream",
     "text": [
      "WARNING:tensorflow:Using a while_loop for converting IO>AudioResample cause there is no registered converter for this op.\n"
     ]
    },
    {
     "name": "stdout",
     "output_type": "stream",
     "text": [
      "WARNING:tensorflow:Using a while_loop for converting IO>AudioResample cause there is no registered converter for this op.\n"
     ]
    },
    {
     "name": "stderr",
     "output_type": "stream",
     "text": [
      "WARNING:tensorflow:Using a while_loop for converting IO>AudioResample cause there is no registered converter for this op.\n"
     ]
    },
    {
     "name": "stdout",
     "output_type": "stream",
     "text": [
      "WARNING:tensorflow:Using a while_loop for converting IO>AudioResample cause there is no registered converter for this op.\n"
     ]
    },
    {
     "name": "stderr",
     "output_type": "stream",
     "text": [
      "WARNING:tensorflow:Using a while_loop for converting IO>AudioResample cause there is no registered converter for this op.\n"
     ]
    },
    {
     "name": "stdout",
     "output_type": "stream",
     "text": [
      "WARNING:tensorflow:Using a while_loop for converting IO>AudioResample cause there is no registered converter for this op.\n"
     ]
    },
    {
     "name": "stderr",
     "output_type": "stream",
     "text": [
      "WARNING:tensorflow:Using a while_loop for converting IO>AudioResample cause there is no registered converter for this op.\n"
     ]
    },
    {
     "name": "stdout",
     "output_type": "stream",
     "text": [
      "WARNING:tensorflow:Using a while_loop for converting IO>AudioResample cause there is no registered converter for this op.\n"
     ]
    },
    {
     "name": "stderr",
     "output_type": "stream",
     "text": [
      "WARNING:tensorflow:Using a while_loop for converting IO>AudioResample cause there is no registered converter for this op.\n"
     ]
    },
    {
     "name": "stdout",
     "output_type": "stream",
     "text": [
      "WARNING:tensorflow:Using a while_loop for converting IO>AudioResample cause there is no registered converter for this op.\n"
     ]
    },
    {
     "name": "stderr",
     "output_type": "stream",
     "text": [
      "WARNING:tensorflow:Using a while_loop for converting IO>AudioResample cause there is no registered converter for this op.\n"
     ]
    },
    {
     "name": "stdout",
     "output_type": "stream",
     "text": [
      "WARNING:tensorflow:Using a while_loop for converting IO>AudioResample cause there is no registered converter for this op.\n"
     ]
    },
    {
     "name": "stderr",
     "output_type": "stream",
     "text": [
      "WARNING:tensorflow:Using a while_loop for converting IO>AudioResample cause there is no registered converter for this op.\n"
     ]
    },
    {
     "name": "stdout",
     "output_type": "stream",
     "text": [
      "WARNING:tensorflow:Using a while_loop for converting IO>AudioResample cause there is no registered converter for this op.\n"
     ]
    },
    {
     "name": "stderr",
     "output_type": "stream",
     "text": [
      "WARNING:tensorflow:Using a while_loop for converting IO>AudioResample cause there is no registered converter for this op.\n"
     ]
    },
    {
     "name": "stdout",
     "output_type": "stream",
     "text": [
      "WARNING:tensorflow:Using a while_loop for converting IO>AudioResample cause there is no registered converter for this op.\n"
     ]
    },
    {
     "name": "stderr",
     "output_type": "stream",
     "text": [
      "WARNING:tensorflow:Using a while_loop for converting IO>AudioResample cause there is no registered converter for this op.\n"
     ]
    },
    {
     "name": "stdout",
     "output_type": "stream",
     "text": [
      "WARNING:tensorflow:Using a while_loop for converting IO>AudioResample cause there is no registered converter for this op.\n"
     ]
    },
    {
     "name": "stderr",
     "output_type": "stream",
     "text": [
      "WARNING:tensorflow:Using a while_loop for converting IO>AudioResample cause there is no registered converter for this op.\n"
     ]
    },
    {
     "name": "stdout",
     "output_type": "stream",
     "text": [
      "WARNING:tensorflow:Using a while_loop for converting IO>AudioResample cause there is no registered converter for this op.\n"
     ]
    },
    {
     "name": "stderr",
     "output_type": "stream",
     "text": [
      "WARNING:tensorflow:Using a while_loop for converting IO>AudioResample cause there is no registered converter for this op.\n"
     ]
    },
    {
     "name": "stdout",
     "output_type": "stream",
     "text": [
      "WARNING:tensorflow:Using a while_loop for converting IO>AudioResample cause there is no registered converter for this op.\n"
     ]
    },
    {
     "name": "stderr",
     "output_type": "stream",
     "text": [
      "WARNING:tensorflow:Using a while_loop for converting IO>AudioResample cause there is no registered converter for this op.\n"
     ]
    },
    {
     "name": "stdout",
     "output_type": "stream",
     "text": [
      "WARNING:tensorflow:Using a while_loop for converting IO>AudioResample cause there is no registered converter for this op.\n"
     ]
    },
    {
     "name": "stderr",
     "output_type": "stream",
     "text": [
      "WARNING:tensorflow:Using a while_loop for converting IO>AudioResample cause there is no registered converter for this op.\n"
     ]
    },
    {
     "name": "stdout",
     "output_type": "stream",
     "text": [
      "WARNING:tensorflow:Using a while_loop for converting IO>AudioResample cause there is no registered converter for this op.\n"
     ]
    },
    {
     "name": "stderr",
     "output_type": "stream",
     "text": [
      "WARNING:tensorflow:Using a while_loop for converting IO>AudioResample cause there is no registered converter for this op.\n"
     ]
    },
    {
     "name": "stdout",
     "output_type": "stream",
     "text": [
      "WARNING:tensorflow:Using a while_loop for converting IO>AudioResample cause there is no registered converter for this op.\n"
     ]
    },
    {
     "name": "stderr",
     "output_type": "stream",
     "text": [
      "WARNING:tensorflow:Using a while_loop for converting IO>AudioResample cause there is no registered converter for this op.\n"
     ]
    },
    {
     "name": "stdout",
     "output_type": "stream",
     "text": [
      "WARNING:tensorflow:Using a while_loop for converting IO>AudioResample cause there is no registered converter for this op.\n"
     ]
    },
    {
     "name": "stderr",
     "output_type": "stream",
     "text": [
      "WARNING:tensorflow:Using a while_loop for converting IO>AudioResample cause there is no registered converter for this op.\n"
     ]
    },
    {
     "name": "stdout",
     "output_type": "stream",
     "text": [
      "WARNING:tensorflow:Using a while_loop for converting IO>AudioResample cause there is no registered converter for this op.\n"
     ]
    },
    {
     "name": "stderr",
     "output_type": "stream",
     "text": [
      "WARNING:tensorflow:Using a while_loop for converting IO>AudioResample cause there is no registered converter for this op.\n"
     ]
    },
    {
     "name": "stdout",
     "output_type": "stream",
     "text": [
      "WARNING:tensorflow:Using a while_loop for converting IO>AudioResample cause there is no registered converter for this op.\n"
     ]
    },
    {
     "name": "stderr",
     "output_type": "stream",
     "text": [
      "WARNING:tensorflow:Using a while_loop for converting IO>AudioResample cause there is no registered converter for this op.\n"
     ]
    },
    {
     "name": "stdout",
     "output_type": "stream",
     "text": [
      "WARNING:tensorflow:Using a while_loop for converting IO>AudioResample cause there is no registered converter for this op.\n"
     ]
    },
    {
     "name": "stderr",
     "output_type": "stream",
     "text": [
      "WARNING:tensorflow:Using a while_loop for converting IO>AudioResample cause there is no registered converter for this op.\n"
     ]
    },
    {
     "name": "stdout",
     "output_type": "stream",
     "text": [
      "WARNING:tensorflow:Using a while_loop for converting IO>AudioResample cause there is no registered converter for this op.\n"
     ]
    },
    {
     "name": "stderr",
     "output_type": "stream",
     "text": [
      "WARNING:tensorflow:Using a while_loop for converting IO>AudioResample cause there is no registered converter for this op.\n"
     ]
    },
    {
     "name": "stdout",
     "output_type": "stream",
     "text": [
      "WARNING:tensorflow:Using a while_loop for converting IO>AudioResample cause there is no registered converter for this op.\n"
     ]
    },
    {
     "name": "stderr",
     "output_type": "stream",
     "text": [
      "WARNING:tensorflow:Using a while_loop for converting IO>AudioResample cause there is no registered converter for this op.\n"
     ]
    },
    {
     "name": "stdout",
     "output_type": "stream",
     "text": [
      "WARNING:tensorflow:Using a while_loop for converting IO>AudioResample cause there is no registered converter for this op.\n"
     ]
    },
    {
     "name": "stderr",
     "output_type": "stream",
     "text": [
      "WARNING:tensorflow:Using a while_loop for converting IO>AudioResample cause there is no registered converter for this op.\n"
     ]
    },
    {
     "name": "stdout",
     "output_type": "stream",
     "text": [
      "WARNING:tensorflow:Using a while_loop for converting IO>AudioResample cause there is no registered converter for this op.\n"
     ]
    },
    {
     "name": "stderr",
     "output_type": "stream",
     "text": [
      "WARNING:tensorflow:Using a while_loop for converting IO>AudioResample cause there is no registered converter for this op.\n"
     ]
    },
    {
     "name": "stdout",
     "output_type": "stream",
     "text": [
      "WARNING:tensorflow:Using a while_loop for converting IO>AudioResample cause there is no registered converter for this op.\n"
     ]
    },
    {
     "name": "stderr",
     "output_type": "stream",
     "text": [
      "WARNING:tensorflow:Using a while_loop for converting IO>AudioResample cause there is no registered converter for this op.\n"
     ]
    },
    {
     "name": "stdout",
     "output_type": "stream",
     "text": [
      "WARNING:tensorflow:Using a while_loop for converting IO>AudioResample cause there is no registered converter for this op.\n"
     ]
    },
    {
     "name": "stderr",
     "output_type": "stream",
     "text": [
      "WARNING:tensorflow:Using a while_loop for converting IO>AudioResample cause there is no registered converter for this op.\n"
     ]
    },
    {
     "name": "stdout",
     "output_type": "stream",
     "text": [
      "WARNING:tensorflow:Using a while_loop for converting IO>AudioResample cause there is no registered converter for this op.\n"
     ]
    },
    {
     "name": "stderr",
     "output_type": "stream",
     "text": [
      "WARNING:tensorflow:Using a while_loop for converting IO>AudioResample cause there is no registered converter for this op.\n"
     ]
    },
    {
     "name": "stdout",
     "output_type": "stream",
     "text": [
      "WARNING:tensorflow:Using a while_loop for converting IO>AudioResample cause there is no registered converter for this op.\n"
     ]
    },
    {
     "name": "stderr",
     "output_type": "stream",
     "text": [
      "WARNING:tensorflow:Using a while_loop for converting IO>AudioResample cause there is no registered converter for this op.\n"
     ]
    },
    {
     "name": "stdout",
     "output_type": "stream",
     "text": [
      "WARNING:tensorflow:Using a while_loop for converting IO>AudioResample cause there is no registered converter for this op.\n"
     ]
    },
    {
     "name": "stderr",
     "output_type": "stream",
     "text": [
      "WARNING:tensorflow:Using a while_loop for converting IO>AudioResample cause there is no registered converter for this op.\n"
     ]
    },
    {
     "name": "stdout",
     "output_type": "stream",
     "text": [
      "WARNING:tensorflow:Using a while_loop for converting IO>AudioResample cause there is no registered converter for this op.\n"
     ]
    },
    {
     "name": "stderr",
     "output_type": "stream",
     "text": [
      "2023-03-09 22:53:48.625197: I tensorflow/core/kernels/data/shuffle_dataset_op.cc:392] Filling up shuffle buffer (this may take a while): 22 of 1000\n",
      "WARNING:tensorflow:Using a while_loop for converting IO>AudioResample cause there is no registered converter for this op.\n"
     ]
    },
    {
     "name": "stdout",
     "output_type": "stream",
     "text": [
      "WARNING:tensorflow:Using a while_loop for converting IO>AudioResample cause there is no registered converter for this op.\n"
     ]
    },
    {
     "name": "stderr",
     "output_type": "stream",
     "text": [
      "WARNING:tensorflow:Using a while_loop for converting IO>AudioResample cause there is no registered converter for this op.\n"
     ]
    },
    {
     "name": "stdout",
     "output_type": "stream",
     "text": [
      "WARNING:tensorflow:Using a while_loop for converting IO>AudioResample cause there is no registered converter for this op.\n"
     ]
    },
    {
     "name": "stderr",
     "output_type": "stream",
     "text": [
      "WARNING:tensorflow:Using a while_loop for converting IO>AudioResample cause there is no registered converter for this op.\n"
     ]
    },
    {
     "name": "stdout",
     "output_type": "stream",
     "text": [
      "WARNING:tensorflow:Using a while_loop for converting IO>AudioResample cause there is no registered converter for this op.\n"
     ]
    },
    {
     "name": "stderr",
     "output_type": "stream",
     "text": [
      "WARNING:tensorflow:Using a while_loop for converting IO>AudioResample cause there is no registered converter for this op.\n"
     ]
    },
    {
     "name": "stdout",
     "output_type": "stream",
     "text": [
      "WARNING:tensorflow:Using a while_loop for converting IO>AudioResample cause there is no registered converter for this op.\n"
     ]
    },
    {
     "name": "stderr",
     "output_type": "stream",
     "text": [
      "WARNING:tensorflow:Using a while_loop for converting IO>AudioResample cause there is no registered converter for this op.\n"
     ]
    },
    {
     "name": "stdout",
     "output_type": "stream",
     "text": [
      "WARNING:tensorflow:Using a while_loop for converting IO>AudioResample cause there is no registered converter for this op.\n"
     ]
    },
    {
     "name": "stderr",
     "output_type": "stream",
     "text": [
      "WARNING:tensorflow:Using a while_loop for converting IO>AudioResample cause there is no registered converter for this op.\n"
     ]
    },
    {
     "name": "stdout",
     "output_type": "stream",
     "text": [
      "WARNING:tensorflow:Using a while_loop for converting IO>AudioResample cause there is no registered converter for this op.\n"
     ]
    },
    {
     "name": "stderr",
     "output_type": "stream",
     "text": [
      "WARNING:tensorflow:Using a while_loop for converting IO>AudioResample cause there is no registered converter for this op.\n"
     ]
    },
    {
     "name": "stdout",
     "output_type": "stream",
     "text": [
      "WARNING:tensorflow:Using a while_loop for converting IO>AudioResample cause there is no registered converter for this op.\n"
     ]
    },
    {
     "name": "stderr",
     "output_type": "stream",
     "text": [
      "WARNING:tensorflow:Using a while_loop for converting IO>AudioResample cause there is no registered converter for this op.\n"
     ]
    },
    {
     "name": "stdout",
     "output_type": "stream",
     "text": [
      "WARNING:tensorflow:Using a while_loop for converting IO>AudioResample cause there is no registered converter for this op.\n"
     ]
    },
    {
     "name": "stderr",
     "output_type": "stream",
     "text": [
      "WARNING:tensorflow:Using a while_loop for converting IO>AudioResample cause there is no registered converter for this op.\n"
     ]
    },
    {
     "name": "stdout",
     "output_type": "stream",
     "text": [
      "WARNING:tensorflow:Using a while_loop for converting IO>AudioResample cause there is no registered converter for this op.\n"
     ]
    },
    {
     "name": "stderr",
     "output_type": "stream",
     "text": [
      "WARNING:tensorflow:Using a while_loop for converting IO>AudioResample cause there is no registered converter for this op.\n"
     ]
    },
    {
     "name": "stdout",
     "output_type": "stream",
     "text": [
      "WARNING:tensorflow:Using a while_loop for converting IO>AudioResample cause there is no registered converter for this op.\n"
     ]
    },
    {
     "name": "stderr",
     "output_type": "stream",
     "text": [
      "WARNING:tensorflow:Using a while_loop for converting IO>AudioResample cause there is no registered converter for this op.\n"
     ]
    },
    {
     "name": "stdout",
     "output_type": "stream",
     "text": [
      "WARNING:tensorflow:Using a while_loop for converting IO>AudioResample cause there is no registered converter for this op.\n"
     ]
    },
    {
     "name": "stderr",
     "output_type": "stream",
     "text": [
      "WARNING:tensorflow:Using a while_loop for converting IO>AudioResample cause there is no registered converter for this op.\n"
     ]
    },
    {
     "name": "stdout",
     "output_type": "stream",
     "text": [
      "WARNING:tensorflow:Using a while_loop for converting IO>AudioResample cause there is no registered converter for this op.\n"
     ]
    },
    {
     "name": "stderr",
     "output_type": "stream",
     "text": [
      "WARNING:tensorflow:Using a while_loop for converting IO>AudioResample cause there is no registered converter for this op.\n"
     ]
    },
    {
     "name": "stdout",
     "output_type": "stream",
     "text": [
      "WARNING:tensorflow:Using a while_loop for converting IO>AudioResample cause there is no registered converter for this op.\n"
     ]
    },
    {
     "name": "stderr",
     "output_type": "stream",
     "text": [
      "WARNING:tensorflow:Using a while_loop for converting IO>AudioResample cause there is no registered converter for this op.\n"
     ]
    },
    {
     "name": "stdout",
     "output_type": "stream",
     "text": [
      "WARNING:tensorflow:Using a while_loop for converting IO>AudioResample cause there is no registered converter for this op.\n"
     ]
    },
    {
     "name": "stderr",
     "output_type": "stream",
     "text": [
      "WARNING:tensorflow:Using a while_loop for converting IO>AudioResample cause there is no registered converter for this op.\n"
     ]
    },
    {
     "name": "stdout",
     "output_type": "stream",
     "text": [
      "WARNING:tensorflow:Using a while_loop for converting IO>AudioResample cause there is no registered converter for this op.\n"
     ]
    },
    {
     "name": "stderr",
     "output_type": "stream",
     "text": [
      "WARNING:tensorflow:Using a while_loop for converting IO>AudioResample cause there is no registered converter for this op.\n"
     ]
    },
    {
     "name": "stdout",
     "output_type": "stream",
     "text": [
      "WARNING:tensorflow:Using a while_loop for converting IO>AudioResample cause there is no registered converter for this op.\n"
     ]
    },
    {
     "name": "stderr",
     "output_type": "stream",
     "text": [
      "WARNING:tensorflow:Using a while_loop for converting IO>AudioResample cause there is no registered converter for this op.\n"
     ]
    },
    {
     "name": "stdout",
     "output_type": "stream",
     "text": [
      "WARNING:tensorflow:Using a while_loop for converting IO>AudioResample cause there is no registered converter for this op.\n"
     ]
    },
    {
     "name": "stderr",
     "output_type": "stream",
     "text": [
      "WARNING:tensorflow:Using a while_loop for converting IO>AudioResample cause there is no registered converter for this op.\n"
     ]
    },
    {
     "name": "stdout",
     "output_type": "stream",
     "text": [
      "WARNING:tensorflow:Using a while_loop for converting IO>AudioResample cause there is no registered converter for this op.\n"
     ]
    },
    {
     "name": "stderr",
     "output_type": "stream",
     "text": [
      "WARNING:tensorflow:Using a while_loop for converting IO>AudioResample cause there is no registered converter for this op.\n"
     ]
    },
    {
     "name": "stdout",
     "output_type": "stream",
     "text": [
      "WARNING:tensorflow:Using a while_loop for converting IO>AudioResample cause there is no registered converter for this op.\n"
     ]
    },
    {
     "name": "stderr",
     "output_type": "stream",
     "text": [
      "WARNING:tensorflow:Using a while_loop for converting IO>AudioResample cause there is no registered converter for this op.\n"
     ]
    },
    {
     "name": "stdout",
     "output_type": "stream",
     "text": [
      "WARNING:tensorflow:Using a while_loop for converting IO>AudioResample cause there is no registered converter for this op.\n"
     ]
    },
    {
     "name": "stderr",
     "output_type": "stream",
     "text": [
      "WARNING:tensorflow:Using a while_loop for converting IO>AudioResample cause there is no registered converter for this op.\n"
     ]
    },
    {
     "name": "stdout",
     "output_type": "stream",
     "text": [
      "WARNING:tensorflow:Using a while_loop for converting IO>AudioResample cause there is no registered converter for this op.\n"
     ]
    },
    {
     "name": "stderr",
     "output_type": "stream",
     "text": [
      "WARNING:tensorflow:Using a while_loop for converting IO>AudioResample cause there is no registered converter for this op.\n"
     ]
    },
    {
     "name": "stdout",
     "output_type": "stream",
     "text": [
      "WARNING:tensorflow:Using a while_loop for converting IO>AudioResample cause there is no registered converter for this op.\n"
     ]
    },
    {
     "name": "stderr",
     "output_type": "stream",
     "text": [
      "WARNING:tensorflow:Using a while_loop for converting IO>AudioResample cause there is no registered converter for this op.\n"
     ]
    },
    {
     "name": "stdout",
     "output_type": "stream",
     "text": [
      "WARNING:tensorflow:Using a while_loop for converting IO>AudioResample cause there is no registered converter for this op.\n"
     ]
    },
    {
     "name": "stderr",
     "output_type": "stream",
     "text": [
      "WARNING:tensorflow:Using a while_loop for converting IO>AudioResample cause there is no registered converter for this op.\n"
     ]
    },
    {
     "name": "stdout",
     "output_type": "stream",
     "text": [
      "WARNING:tensorflow:Using a while_loop for converting IO>AudioResample cause there is no registered converter for this op.\n"
     ]
    },
    {
     "name": "stderr",
     "output_type": "stream",
     "text": [
      "2023-03-09 22:53:57.146723: I tensorflow/core/kernels/data/shuffle_dataset_op.cc:392] Filling up shuffle buffer (this may take a while): 28 of 1000\n",
      "WARNING:tensorflow:Using a while_loop for converting IO>AudioResample cause there is no registered converter for this op.\n"
     ]
    },
    {
     "name": "stdout",
     "output_type": "stream",
     "text": [
      "WARNING:tensorflow:Using a while_loop for converting IO>AudioResample cause there is no registered converter for this op.\n"
     ]
    },
    {
     "name": "stderr",
     "output_type": "stream",
     "text": [
      "WARNING:tensorflow:Using a while_loop for converting IO>AudioResample cause there is no registered converter for this op.\n"
     ]
    },
    {
     "name": "stdout",
     "output_type": "stream",
     "text": [
      "WARNING:tensorflow:Using a while_loop for converting IO>AudioResample cause there is no registered converter for this op.\n"
     ]
    },
    {
     "name": "stderr",
     "output_type": "stream",
     "text": [
      "WARNING:tensorflow:Using a while_loop for converting IO>AudioResample cause there is no registered converter for this op.\n"
     ]
    },
    {
     "name": "stdout",
     "output_type": "stream",
     "text": [
      "WARNING:tensorflow:Using a while_loop for converting IO>AudioResample cause there is no registered converter for this op.\n"
     ]
    },
    {
     "name": "stderr",
     "output_type": "stream",
     "text": [
      "WARNING:tensorflow:Using a while_loop for converting IO>AudioResample cause there is no registered converter for this op.\n"
     ]
    },
    {
     "name": "stdout",
     "output_type": "stream",
     "text": [
      "WARNING:tensorflow:Using a while_loop for converting IO>AudioResample cause there is no registered converter for this op.\n"
     ]
    },
    {
     "name": "stderr",
     "output_type": "stream",
     "text": [
      "WARNING:tensorflow:Using a while_loop for converting IO>AudioResample cause there is no registered converter for this op.\n"
     ]
    },
    {
     "name": "stdout",
     "output_type": "stream",
     "text": [
      "WARNING:tensorflow:Using a while_loop for converting IO>AudioResample cause there is no registered converter for this op.\n"
     ]
    },
    {
     "name": "stderr",
     "output_type": "stream",
     "text": [
      "WARNING:tensorflow:Using a while_loop for converting IO>AudioResample cause there is no registered converter for this op.\n"
     ]
    },
    {
     "name": "stdout",
     "output_type": "stream",
     "text": [
      "WARNING:tensorflow:Using a while_loop for converting IO>AudioResample cause there is no registered converter for this op.\n"
     ]
    },
    {
     "name": "stderr",
     "output_type": "stream",
     "text": [
      "WARNING:tensorflow:Using a while_loop for converting IO>AudioResample cause there is no registered converter for this op.\n"
     ]
    },
    {
     "name": "stdout",
     "output_type": "stream",
     "text": [
      "WARNING:tensorflow:Using a while_loop for converting IO>AudioResample cause there is no registered converter for this op.\n"
     ]
    },
    {
     "name": "stderr",
     "output_type": "stream",
     "text": [
      "WARNING:tensorflow:Using a while_loop for converting IO>AudioResample cause there is no registered converter for this op.\n"
     ]
    },
    {
     "name": "stdout",
     "output_type": "stream",
     "text": [
      "WARNING:tensorflow:Using a while_loop for converting IO>AudioResample cause there is no registered converter for this op.\n"
     ]
    },
    {
     "name": "stderr",
     "output_type": "stream",
     "text": [
      "WARNING:tensorflow:Using a while_loop for converting IO>AudioResample cause there is no registered converter for this op.\n"
     ]
    },
    {
     "name": "stdout",
     "output_type": "stream",
     "text": [
      "WARNING:tensorflow:Using a while_loop for converting IO>AudioResample cause there is no registered converter for this op.\n"
     ]
    },
    {
     "name": "stderr",
     "output_type": "stream",
     "text": [
      "WARNING:tensorflow:Using a while_loop for converting IO>AudioResample cause there is no registered converter for this op.\n"
     ]
    },
    {
     "name": "stdout",
     "output_type": "stream",
     "text": [
      "WARNING:tensorflow:Using a while_loop for converting IO>AudioResample cause there is no registered converter for this op.\n"
     ]
    },
    {
     "name": "stderr",
     "output_type": "stream",
     "text": [
      "WARNING:tensorflow:Using a while_loop for converting IO>AudioResample cause there is no registered converter for this op.\n"
     ]
    },
    {
     "name": "stdout",
     "output_type": "stream",
     "text": [
      "WARNING:tensorflow:Using a while_loop for converting IO>AudioResample cause there is no registered converter for this op.\n"
     ]
    },
    {
     "name": "stderr",
     "output_type": "stream",
     "text": [
      "WARNING:tensorflow:Using a while_loop for converting IO>AudioResample cause there is no registered converter for this op.\n"
     ]
    },
    {
     "name": "stdout",
     "output_type": "stream",
     "text": [
      "WARNING:tensorflow:Using a while_loop for converting IO>AudioResample cause there is no registered converter for this op.\n"
     ]
    },
    {
     "name": "stderr",
     "output_type": "stream",
     "text": [
      "WARNING:tensorflow:Using a while_loop for converting IO>AudioResample cause there is no registered converter for this op.\n"
     ]
    },
    {
     "name": "stdout",
     "output_type": "stream",
     "text": [
      "WARNING:tensorflow:Using a while_loop for converting IO>AudioResample cause there is no registered converter for this op.\n"
     ]
    },
    {
     "name": "stderr",
     "output_type": "stream",
     "text": [
      "WARNING:tensorflow:Using a while_loop for converting IO>AudioResample cause there is no registered converter for this op.\n"
     ]
    },
    {
     "name": "stdout",
     "output_type": "stream",
     "text": [
      "WARNING:tensorflow:Using a while_loop for converting IO>AudioResample cause there is no registered converter for this op.\n"
     ]
    },
    {
     "name": "stderr",
     "output_type": "stream",
     "text": [
      "WARNING:tensorflow:Using a while_loop for converting IO>AudioResample cause there is no registered converter for this op.\n"
     ]
    },
    {
     "name": "stdout",
     "output_type": "stream",
     "text": [
      "WARNING:tensorflow:Using a while_loop for converting IO>AudioResample cause there is no registered converter for this op.\n"
     ]
    },
    {
     "name": "stderr",
     "output_type": "stream",
     "text": [
      "WARNING:tensorflow:Using a while_loop for converting IO>AudioResample cause there is no registered converter for this op.\n"
     ]
    },
    {
     "name": "stdout",
     "output_type": "stream",
     "text": [
      "WARNING:tensorflow:Using a while_loop for converting IO>AudioResample cause there is no registered converter for this op.\n"
     ]
    },
    {
     "name": "stderr",
     "output_type": "stream",
     "text": [
      "WARNING:tensorflow:Using a while_loop for converting IO>AudioResample cause there is no registered converter for this op.\n"
     ]
    },
    {
     "name": "stdout",
     "output_type": "stream",
     "text": [
      "WARNING:tensorflow:Using a while_loop for converting IO>AudioResample cause there is no registered converter for this op.\n"
     ]
    },
    {
     "name": "stderr",
     "output_type": "stream",
     "text": [
      "WARNING:tensorflow:Using a while_loop for converting IO>AudioResample cause there is no registered converter for this op.\n"
     ]
    },
    {
     "name": "stdout",
     "output_type": "stream",
     "text": [
      "WARNING:tensorflow:Using a while_loop for converting IO>AudioResample cause there is no registered converter for this op.\n"
     ]
    },
    {
     "name": "stderr",
     "output_type": "stream",
     "text": [
      "WARNING:tensorflow:Using a while_loop for converting IO>AudioResample cause there is no registered converter for this op.\n"
     ]
    },
    {
     "name": "stdout",
     "output_type": "stream",
     "text": [
      "WARNING:tensorflow:Using a while_loop for converting IO>AudioResample cause there is no registered converter for this op.\n"
     ]
    },
    {
     "name": "stderr",
     "output_type": "stream",
     "text": [
      "WARNING:tensorflow:Using a while_loop for converting IO>AudioResample cause there is no registered converter for this op.\n"
     ]
    },
    {
     "name": "stdout",
     "output_type": "stream",
     "text": [
      "WARNING:tensorflow:Using a while_loop for converting IO>AudioResample cause there is no registered converter for this op.\n"
     ]
    },
    {
     "name": "stderr",
     "output_type": "stream",
     "text": [
      "WARNING:tensorflow:Using a while_loop for converting IO>AudioResample cause there is no registered converter for this op.\n"
     ]
    },
    {
     "name": "stdout",
     "output_type": "stream",
     "text": [
      "WARNING:tensorflow:Using a while_loop for converting IO>AudioResample cause there is no registered converter for this op.\n"
     ]
    },
    {
     "name": "stderr",
     "output_type": "stream",
     "text": [
      "WARNING:tensorflow:Using a while_loop for converting IO>AudioResample cause there is no registered converter for this op.\n"
     ]
    },
    {
     "name": "stdout",
     "output_type": "stream",
     "text": [
      "WARNING:tensorflow:Using a while_loop for converting IO>AudioResample cause there is no registered converter for this op.\n"
     ]
    },
    {
     "name": "stderr",
     "output_type": "stream",
     "text": [
      "WARNING:tensorflow:Using a while_loop for converting IO>AudioResample cause there is no registered converter for this op.\n"
     ]
    },
    {
     "name": "stdout",
     "output_type": "stream",
     "text": [
      "WARNING:tensorflow:Using a while_loop for converting IO>AudioResample cause there is no registered converter for this op.\n"
     ]
    },
    {
     "name": "stderr",
     "output_type": "stream",
     "text": [
      "WARNING:tensorflow:Using a while_loop for converting IO>AudioResample cause there is no registered converter for this op.\n"
     ]
    }
   ],
   "source": [
    "embed, age = next(iter(train_ds.take(1)))\n",
    "print(embed.shape)"
   ]
  },
  {
   "cell_type": "code",
   "execution_count": 30,
   "id": "f7f6fe77-0e64-4f94-861b-230941fccd34",
   "metadata": {
    "tags": []
   },
   "outputs": [
    {
     "name": "stdout",
     "output_type": "stream",
     "text": [
      "Model: \"sequential\"\n",
      "_________________________________________________________________\n",
      " Layer (type)                Output Shape              Param #   \n",
      "=================================================================\n",
      " dense (Dense)               (None, 256)               262400    \n",
      "                                                                 \n",
      " normalization (Normalizatio  (None, 256)              513       \n",
      " n)                                                              \n",
      "                                                                 \n",
      " dropout (Dropout)           (None, 256)               0         \n",
      "                                                                 \n",
      " dense_1 (Dense)             (None, 128)               32896     \n",
      "                                                                 \n",
      " normalization_1 (Normalizat  (None, 128)              257       \n",
      " ion)                                                            \n",
      "                                                                 \n",
      " dense_2 (Dense)             (None, 1)                 129       \n",
      "                                                                 \n",
      "=================================================================\n",
      "Total params: 296,195\n",
      "Trainable params: 295,425\n",
      "Non-trainable params: 770\n",
      "_________________________________________________________________\n"
     ]
    }
   ],
   "source": [
    "model = tf.keras.Sequential([\n",
    "    tf.keras.layers.Input(shape = (1024), dtype=tf.float32),\n",
    "    tf.keras.layers.Dense(256, activation = 'relu', kernel_regularizer=tf.keras.regularizers.l2(0.001)),\n",
    "    tf.keras.layers.Normalization(),\n",
    "    tf.keras.layers.Dropout(0.2),\n",
    "    tf.keras.layers.Dense(128, activation = 'relu', kernel_regularizer=tf.keras.regularizers.l2(0.0001)),\n",
    "    tf.keras.layers.Normalization(),\n",
    "    # tf.keras.layers.Dropout(0.2),\n",
    "    tf.keras.layers.Dense(1,activation='relu')\n",
    "])\n",
    "model.compile(loss=tf.keras.losses.MeanSquaredError(),\n",
    "              optimizer = tf.keras.optimizers.Adam(),\n",
    "              metrics=['mean_squared_error'])\n",
    "\n",
    "callback = tf.keras.callbacks.EarlyStopping(monitor='loss',\n",
    "                                            patience=3, # weight for 3 ecpochs\n",
    "                                            restore_best_weights=True)\n",
    "\n",
    "model.summary()"
   ]
  },
  {
   "cell_type": "code",
   "execution_count": 31,
   "id": "185ef035-9d7a-4de4-8a47-39dd34552ffb",
   "metadata": {
    "tags": []
   },
   "outputs": [
    {
     "name": "stdout",
     "output_type": "stream",
     "text": [
      "Epoch 1/100\n"
     ]
    },
    {
     "name": "stderr",
     "output_type": "stream",
     "text": [
      "/tmp/ipykernel_3944/3608839740.py:7: WavFileWarning: Chunk (non-data) not understood, skipping it.\n",
      "  sample_rate, wav = wavfile.read(filename)\n",
      "2023-02-28 00:22:33.067907: I tensorflow/core/kernels/data/shuffle_dataset_op.cc:392] Filling up shuffle buffer (this may take a while): 221 of 1000\n",
      "2023-02-28 00:22:43.078423: I tensorflow/core/kernels/data/shuffle_dataset_op.cc:392] Filling up shuffle buffer (this may take a while): 446 of 1000\n",
      "2023-02-28 00:22:53.012520: I tensorflow/core/kernels/data/shuffle_dataset_op.cc:392] Filling up shuffle buffer (this may take a while): 674 of 1000\n",
      "2023-02-28 00:23:03.019859: I tensorflow/core/kernels/data/shuffle_dataset_op.cc:392] Filling up shuffle buffer (this may take a while): 895 of 1000\n",
      "2023-02-28 00:23:07.942489: I tensorflow/core/kernels/data/shuffle_dataset_op.cc:417] Shuffle buffer filled.\n",
      "2023-02-28 00:23:10.114548: I tensorflow/compiler/xla/service/service.cc:173] XLA service 0x2a354260 initialized for platform CUDA (this does not guarantee that XLA will be used). Devices:\n",
      "2023-02-28 00:23:10.114586: I tensorflow/compiler/xla/service/service.cc:181]   StreamExecutor device (0): NVIDIA GeForce GTX 1650, Compute Capability 7.5\n",
      "2023-02-28 00:23:10.123874: I tensorflow/compiler/mlir/tensorflow/utils/dump_mlir_util.cc:268] disabling MLIR crash reproducer, set env var `MLIR_CRASH_REPRODUCER_DIRECTORY` to enable.\n",
      "2023-02-28 00:23:10.248101: I tensorflow/tsl/platform/default/subprocess.cc:304] Start cannot spawn child process: No such file or directory\n",
      "2023-02-28 00:23:10.351850: I tensorflow/compiler/jit/xla_compilation_cache.cc:477] Compiled cluster using XLA!  This line is logged at most once for the lifetime of the process.\n",
      "2023-02-28 00:23:46.042420: W tensorflow/core/framework/op_kernel.cc:1818] INVALID_ARGUMENT: ValueError: Unknown wave file format: ADPCM. Supported formats: PCM, IEEE_FLOAT\n",
      "Traceback (most recent call last):\n",
      "\n",
      "  File \"/usr/local/lib/python3.8/dist-packages/tensorflow/python/ops/script_ops.py\", line 271, in __call__\n",
      "    ret = func(*args)\n",
      "\n",
      "  File \"/usr/local/lib/python3.8/dist-packages/tensorflow/python/autograph/impl/api.py\", line 642, in wrapper\n",
      "    return func(*args, **kwargs)\n",
      "\n",
      "  File \"/usr/local/lib/python3.8/dist-packages/tensorflow/python/data/ops/dataset_ops.py\", line 1039, in generator_py_func\n",
      "    values = next(generator_state.get_iterator(iterator_id))\n",
      "\n",
      "  File \"/tmp/ipykernel_3944/3608839740.py\", line 22, in load_whole_dataset_scipy\n",
      "    yield load_wav_16k_mono_scipy(file), raw['Age']\n",
      "\n",
      "  File \"/tmp/ipykernel_3944/3608839740.py\", line 7, in load_wav_16k_mono_scipy\n",
      "    sample_rate, wav = wavfile.read(filename)\n",
      "\n",
      "  File \"/usr/local/lib/python3.8/dist-packages/scipy/io/wavfile.py\", line 679, in read\n",
      "    fmt_chunk = _read_fmt_chunk(fid, is_big_endian)\n",
      "\n",
      "  File \"/usr/local/lib/python3.8/dist-packages/scipy/io/wavfile.py\", line 378, in _read_fmt_chunk\n",
      "    _raise_bad_format(format_tag)\n",
      "\n",
      "  File \"/usr/local/lib/python3.8/dist-packages/scipy/io/wavfile.py\", line 315, in _raise_bad_format\n",
      "    raise ValueError(f\"Unknown wave file format: {format_name}. Supported \"\n",
      "\n",
      "ValueError: Unknown wave file format: ADPCM. Supported formats: PCM, IEEE_FLOAT\n",
      "\n",
      "\n"
     ]
    },
    {
     "ename": "InvalidArgumentError",
     "evalue": "Graph execution error:\n\n2 root error(s) found.\n  (0) INVALID_ARGUMENT:  ValueError: Unknown wave file format: ADPCM. Supported formats: PCM, IEEE_FLOAT\nTraceback (most recent call last):\n\n  File \"/usr/local/lib/python3.8/dist-packages/tensorflow/python/ops/script_ops.py\", line 271, in __call__\n    ret = func(*args)\n\n  File \"/usr/local/lib/python3.8/dist-packages/tensorflow/python/autograph/impl/api.py\", line 642, in wrapper\n    return func(*args, **kwargs)\n\n  File \"/usr/local/lib/python3.8/dist-packages/tensorflow/python/data/ops/dataset_ops.py\", line 1039, in generator_py_func\n    values = next(generator_state.get_iterator(iterator_id))\n\n  File \"/tmp/ipykernel_3944/3608839740.py\", line 22, in load_whole_dataset_scipy\n    yield load_wav_16k_mono_scipy(file), raw['Age']\n\n  File \"/tmp/ipykernel_3944/3608839740.py\", line 7, in load_wav_16k_mono_scipy\n    sample_rate, wav = wavfile.read(filename)\n\n  File \"/usr/local/lib/python3.8/dist-packages/scipy/io/wavfile.py\", line 679, in read\n    fmt_chunk = _read_fmt_chunk(fid, is_big_endian)\n\n  File \"/usr/local/lib/python3.8/dist-packages/scipy/io/wavfile.py\", line 378, in _read_fmt_chunk\n    _raise_bad_format(format_tag)\n\n  File \"/usr/local/lib/python3.8/dist-packages/scipy/io/wavfile.py\", line 315, in _raise_bad_format\n    raise ValueError(f\"Unknown wave file format: {format_name}. Supported \"\n\nValueError: Unknown wave file format: ADPCM. Supported formats: PCM, IEEE_FLOAT\n\n\n\t [[{{node PyFunc}}]]\n\t [[IteratorGetNext]]\n\t [[IteratorGetNext/_4]]\n  (1) INVALID_ARGUMENT:  ValueError: Unknown wave file format: ADPCM. Supported formats: PCM, IEEE_FLOAT\nTraceback (most recent call last):\n\n  File \"/usr/local/lib/python3.8/dist-packages/tensorflow/python/ops/script_ops.py\", line 271, in __call__\n    ret = func(*args)\n\n  File \"/usr/local/lib/python3.8/dist-packages/tensorflow/python/autograph/impl/api.py\", line 642, in wrapper\n    return func(*args, **kwargs)\n\n  File \"/usr/local/lib/python3.8/dist-packages/tensorflow/python/data/ops/dataset_ops.py\", line 1039, in generator_py_func\n    values = next(generator_state.get_iterator(iterator_id))\n\n  File \"/tmp/ipykernel_3944/3608839740.py\", line 22, in load_whole_dataset_scipy\n    yield load_wav_16k_mono_scipy(file), raw['Age']\n\n  File \"/tmp/ipykernel_3944/3608839740.py\", line 7, in load_wav_16k_mono_scipy\n    sample_rate, wav = wavfile.read(filename)\n\n  File \"/usr/local/lib/python3.8/dist-packages/scipy/io/wavfile.py\", line 679, in read\n    fmt_chunk = _read_fmt_chunk(fid, is_big_endian)\n\n  File \"/usr/local/lib/python3.8/dist-packages/scipy/io/wavfile.py\", line 378, in _read_fmt_chunk\n    _raise_bad_format(format_tag)\n\n  File \"/usr/local/lib/python3.8/dist-packages/scipy/io/wavfile.py\", line 315, in _raise_bad_format\n    raise ValueError(f\"Unknown wave file format: {format_name}. Supported \"\n\nValueError: Unknown wave file format: ADPCM. Supported formats: PCM, IEEE_FLOAT\n\n\n\t [[{{node PyFunc}}]]\n\t [[IteratorGetNext]]\n0 successful operations.\n0 derived errors ignored. [Op:__inference_train_function_31523]",
     "output_type": "error",
     "traceback": [
      "\u001b[0;31m---------------------------------------------------------------------------\u001b[0m",
      "\u001b[0;31mInvalidArgumentError\u001b[0m                      Traceback (most recent call last)",
      "Cell \u001b[0;32mIn[31], line 1\u001b[0m\n\u001b[0;32m----> 1\u001b[0m history \u001b[38;5;241m=\u001b[39m \u001b[43mmodel\u001b[49m\u001b[38;5;241;43m.\u001b[39;49m\u001b[43mfit\u001b[49m\u001b[43m(\u001b[49m\n\u001b[1;32m      2\u001b[0m \u001b[43m    \u001b[49m\u001b[43mtrain_ds\u001b[49m\u001b[43m,\u001b[49m\n\u001b[1;32m      3\u001b[0m \u001b[43m    \u001b[49m\u001b[43mepochs\u001b[49m\u001b[38;5;241;43m=\u001b[39;49m\u001b[38;5;241;43m100\u001b[39;49m\u001b[43m,\u001b[49m\n\u001b[1;32m      4\u001b[0m \u001b[43m    \u001b[49m\u001b[43mvalidation_data\u001b[49m\u001b[43m \u001b[49m\u001b[38;5;241;43m=\u001b[39;49m\u001b[43m \u001b[49m\u001b[43mval_ds\u001b[49m\u001b[43m,\u001b[49m\n\u001b[1;32m      5\u001b[0m \u001b[43m    \u001b[49m\u001b[43mcallbacks\u001b[49m\u001b[38;5;241;43m=\u001b[39;49m\u001b[43mcallback\u001b[49m\u001b[43m,\u001b[49m\n\u001b[1;32m      6\u001b[0m \u001b[43m    \u001b[49m\u001b[43mverbose\u001b[49m\u001b[43m \u001b[49m\u001b[38;5;241;43m=\u001b[39;49m\u001b[38;5;241;43m2\u001b[39;49m\u001b[43m)\u001b[49m\n",
      "File \u001b[0;32m/usr/local/lib/python3.8/dist-packages/keras/utils/traceback_utils.py:70\u001b[0m, in \u001b[0;36mfilter_traceback.<locals>.error_handler\u001b[0;34m(*args, **kwargs)\u001b[0m\n\u001b[1;32m     67\u001b[0m     filtered_tb \u001b[38;5;241m=\u001b[39m _process_traceback_frames(e\u001b[38;5;241m.\u001b[39m__traceback__)\n\u001b[1;32m     68\u001b[0m     \u001b[38;5;66;03m# To get the full stack trace, call:\u001b[39;00m\n\u001b[1;32m     69\u001b[0m     \u001b[38;5;66;03m# `tf.debugging.disable_traceback_filtering()`\u001b[39;00m\n\u001b[0;32m---> 70\u001b[0m     \u001b[38;5;28;01mraise\u001b[39;00m e\u001b[38;5;241m.\u001b[39mwith_traceback(filtered_tb) \u001b[38;5;28;01mfrom\u001b[39;00m \u001b[38;5;28mNone\u001b[39m\n\u001b[1;32m     71\u001b[0m \u001b[38;5;28;01mfinally\u001b[39;00m:\n\u001b[1;32m     72\u001b[0m     \u001b[38;5;28;01mdel\u001b[39;00m filtered_tb\n",
      "File \u001b[0;32m/usr/local/lib/python3.8/dist-packages/tensorflow/python/eager/execute.py:52\u001b[0m, in \u001b[0;36mquick_execute\u001b[0;34m(op_name, num_outputs, inputs, attrs, ctx, name)\u001b[0m\n\u001b[1;32m     50\u001b[0m \u001b[38;5;28;01mtry\u001b[39;00m:\n\u001b[1;32m     51\u001b[0m   ctx\u001b[38;5;241m.\u001b[39mensure_initialized()\n\u001b[0;32m---> 52\u001b[0m   tensors \u001b[38;5;241m=\u001b[39m pywrap_tfe\u001b[38;5;241m.\u001b[39mTFE_Py_Execute(ctx\u001b[38;5;241m.\u001b[39m_handle, device_name, op_name,\n\u001b[1;32m     53\u001b[0m                                       inputs, attrs, num_outputs)\n\u001b[1;32m     54\u001b[0m \u001b[38;5;28;01mexcept\u001b[39;00m core\u001b[38;5;241m.\u001b[39m_NotOkStatusException \u001b[38;5;28;01mas\u001b[39;00m e:\n\u001b[1;32m     55\u001b[0m   \u001b[38;5;28;01mif\u001b[39;00m name \u001b[38;5;129;01mis\u001b[39;00m \u001b[38;5;129;01mnot\u001b[39;00m \u001b[38;5;28;01mNone\u001b[39;00m:\n",
      "\u001b[0;31mInvalidArgumentError\u001b[0m: Graph execution error:\n\n2 root error(s) found.\n  (0) INVALID_ARGUMENT:  ValueError: Unknown wave file format: ADPCM. Supported formats: PCM, IEEE_FLOAT\nTraceback (most recent call last):\n\n  File \"/usr/local/lib/python3.8/dist-packages/tensorflow/python/ops/script_ops.py\", line 271, in __call__\n    ret = func(*args)\n\n  File \"/usr/local/lib/python3.8/dist-packages/tensorflow/python/autograph/impl/api.py\", line 642, in wrapper\n    return func(*args, **kwargs)\n\n  File \"/usr/local/lib/python3.8/dist-packages/tensorflow/python/data/ops/dataset_ops.py\", line 1039, in generator_py_func\n    values = next(generator_state.get_iterator(iterator_id))\n\n  File \"/tmp/ipykernel_3944/3608839740.py\", line 22, in load_whole_dataset_scipy\n    yield load_wav_16k_mono_scipy(file), raw['Age']\n\n  File \"/tmp/ipykernel_3944/3608839740.py\", line 7, in load_wav_16k_mono_scipy\n    sample_rate, wav = wavfile.read(filename)\n\n  File \"/usr/local/lib/python3.8/dist-packages/scipy/io/wavfile.py\", line 679, in read\n    fmt_chunk = _read_fmt_chunk(fid, is_big_endian)\n\n  File \"/usr/local/lib/python3.8/dist-packages/scipy/io/wavfile.py\", line 378, in _read_fmt_chunk\n    _raise_bad_format(format_tag)\n\n  File \"/usr/local/lib/python3.8/dist-packages/scipy/io/wavfile.py\", line 315, in _raise_bad_format\n    raise ValueError(f\"Unknown wave file format: {format_name}. Supported \"\n\nValueError: Unknown wave file format: ADPCM. Supported formats: PCM, IEEE_FLOAT\n\n\n\t [[{{node PyFunc}}]]\n\t [[IteratorGetNext]]\n\t [[IteratorGetNext/_4]]\n  (1) INVALID_ARGUMENT:  ValueError: Unknown wave file format: ADPCM. Supported formats: PCM, IEEE_FLOAT\nTraceback (most recent call last):\n\n  File \"/usr/local/lib/python3.8/dist-packages/tensorflow/python/ops/script_ops.py\", line 271, in __call__\n    ret = func(*args)\n\n  File \"/usr/local/lib/python3.8/dist-packages/tensorflow/python/autograph/impl/api.py\", line 642, in wrapper\n    return func(*args, **kwargs)\n\n  File \"/usr/local/lib/python3.8/dist-packages/tensorflow/python/data/ops/dataset_ops.py\", line 1039, in generator_py_func\n    values = next(generator_state.get_iterator(iterator_id))\n\n  File \"/tmp/ipykernel_3944/3608839740.py\", line 22, in load_whole_dataset_scipy\n    yield load_wav_16k_mono_scipy(file), raw['Age']\n\n  File \"/tmp/ipykernel_3944/3608839740.py\", line 7, in load_wav_16k_mono_scipy\n    sample_rate, wav = wavfile.read(filename)\n\n  File \"/usr/local/lib/python3.8/dist-packages/scipy/io/wavfile.py\", line 679, in read\n    fmt_chunk = _read_fmt_chunk(fid, is_big_endian)\n\n  File \"/usr/local/lib/python3.8/dist-packages/scipy/io/wavfile.py\", line 378, in _read_fmt_chunk\n    _raise_bad_format(format_tag)\n\n  File \"/usr/local/lib/python3.8/dist-packages/scipy/io/wavfile.py\", line 315, in _raise_bad_format\n    raise ValueError(f\"Unknown wave file format: {format_name}. Supported \"\n\nValueError: Unknown wave file format: ADPCM. Supported formats: PCM, IEEE_FLOAT\n\n\n\t [[{{node PyFunc}}]]\n\t [[IteratorGetNext]]\n0 successful operations.\n0 derived errors ignored. [Op:__inference_train_function_31523]"
     ]
    }
   ],
   "source": [
    "history = model.fit(\n",
    "    train_ds,\n",
    "    epochs=100,\n",
    "    validation_data = val_ds,\n",
    "    callbacks=callback,\n",
    "    verbose =2)"
   ]
  },
  {
   "cell_type": "code",
   "execution_count": 76,
   "id": "bc21c5bb-1485-46c1-ae11-436ef2ee2d40",
   "metadata": {
    "tags": []
   },
   "outputs": [
    {
     "name": "stdout",
     "output_type": "stream",
     "text": [
      "1/1 - 0s - loss: 12.1510 - mean_squared_error: 11.8941 - 25ms/epoch - 25ms/step\n"
     ]
    }
   ],
   "source": [
    "# test the model \n",
    "loss= model.evaluate(test_ds, verbose=2)"
   ]
  },
  {
   "cell_type": "code",
   "execution_count": 77,
   "id": "eab8dad3-8866-4c45-829e-bbb8198f40de",
   "metadata": {
    "tags": []
   },
   "outputs": [
    {
     "name": "stdout",
     "output_type": "stream",
     "text": [
      "(5, 1024)\n",
      "tf.Tensor(19.0, shape=(), dtype=float32)\n",
      "tf.Tensor(21.463415, shape=(), dtype=float32)\n"
     ]
    }
   ],
   "source": [
    "embed, age = next(iter(test_ds.take(1)))\n",
    "print(embed[:5].shape)\n",
    "print(tf.math.reduce_mean(age[:5]))\n",
    "print(tf.math.reduce_mean(model(embed[:5])))"
   ]
  },
  {
   "cell_type": "code",
   "execution_count": 80,
   "id": "769370f8-93eb-4875-b5a3-139c95ae5439",
   "metadata": {
    "tags": []
   },
   "outputs": [
    {
     "data": {
      "image/png": "[encoded data removed]",
      "text/plain": [
       "<Figure size 500x400 with 1 Axes>"
      ]
     },
     "metadata": {},
     "output_type": "display_data"
    }
   ],
   "source": [
    "def plot_test_val(ax, title, test, val, test_point):\n",
    "    x = np.arange(1, len(test) +1, 1)\n",
    "    ax.plot(x, test, label='test', color='b')\n",
    "    ax.plot(x, val, label='val', color='r')\n",
    "    ax.plot([len(test)], [test_point], 'g*')\n",
    "    # ax.annotate(f'test {title}={test_point:.3f}', xy=(len(test), test_point), xytext=(len(test)-1, test_point-.05))\n",
    "    ax.set_xlabel('Epochs')\n",
    "    ax.legend()\n",
    "    ax.set_title(title)\n",
    "    ax.grid()\n",
    "    \n",
    "fig, ax = plt.subplots(1, 1, figsize=(5, 4))\n",
    "plot_test_val(ax, 'Loss', history.history['loss'], history.history['val_loss'], loss)\n",
    "\n",
    "plt.show()\n"
   ]
  },
  {
   "cell_type": "code",
   "execution_count": 117,
   "id": "7e272cec-9094-41a4-8c7f-52be7f485ffc",
   "metadata": {
    "tags": []
   },
   "outputs": [
    {
     "name": "stdout",
     "output_type": "stream",
     "text": [
      "predicted = 18.801, true age =[18]\n",
      "WARNING:tensorflow:Using a while_loop for converting IO>AudioResample cause there is no registered converter for this op.\n"
     ]
    },
    {
     "name": "stderr",
     "output_type": "stream",
     "text": [
      "WARNING:tensorflow:Using a while_loop for converting IO>AudioResample cause there is no registered converter for this op.\n"
     ]
    },
    {
     "name": "stdout",
     "output_type": "stream",
     "text": [
      "WARNING:tensorflow:Using a while_loop for converting IO>AudioResample cause there is no registered converter for this op.\n"
     ]
    },
    {
     "name": "stderr",
     "output_type": "stream",
     "text": [
      "WARNING:tensorflow:Using a while_loop for converting IO>AudioResample cause there is no registered converter for this op.\n"
     ]
    },
    {
     "name": "stdout",
     "output_type": "stream",
     "text": [
      "WARNING:tensorflow:Using a while_loop for converting IO>AudioResample cause there is no registered converter for this op.\n"
     ]
    },
    {
     "name": "stderr",
     "output_type": "stream",
     "text": [
      "WARNING:tensorflow:Using a while_loop for converting IO>AudioResample cause there is no registered converter for this op.\n"
     ]
    },
    {
     "name": "stdout",
     "output_type": "stream",
     "text": [
      "WARNING:tensorflow:Using a while_loop for converting IO>AudioResample cause there is no registered converter for this op.\n"
     ]
    },
    {
     "name": "stderr",
     "output_type": "stream",
     "text": [
      "WARNING:tensorflow:Using a while_loop for converting IO>AudioResample cause there is no registered converter for this op.\n"
     ]
    },
    {
     "name": "stdout",
     "output_type": "stream",
     "text": [
      "WARNING:tensorflow:Using a while_loop for converting IO>AudioResample cause there is no registered converter for this op.\n"
     ]
    },
    {
     "name": "stderr",
     "output_type": "stream",
     "text": [
      "WARNING:tensorflow:Using a while_loop for converting IO>AudioResample cause there is no registered converter for this op.\n"
     ]
    },
    {
     "name": "stdout",
     "output_type": "stream",
     "text": [
      "WARNING:tensorflow:Using a while_loop for converting IO>AudioResample cause there is no registered converter for this op.\n"
     ]
    },
    {
     "name": "stderr",
     "output_type": "stream",
     "text": [
      "WARNING:tensorflow:Using a while_loop for converting IO>AudioResample cause there is no registered converter for this op.\n"
     ]
    },
    {
     "name": "stdout",
     "output_type": "stream",
     "text": [
      "WARNING:tensorflow:Using a while_loop for converting IO>AudioResample cause there is no registered converter for this op.\n"
     ]
    },
    {
     "name": "stderr",
     "output_type": "stream",
     "text": [
      "WARNING:tensorflow:Using a while_loop for converting IO>AudioResample cause there is no registered converter for this op.\n"
     ]
    },
    {
     "name": "stdout",
     "output_type": "stream",
     "text": [
      "WARNING:tensorflow:Using a while_loop for converting IO>AudioResample cause there is no registered converter for this op.\n"
     ]
    },
    {
     "name": "stderr",
     "output_type": "stream",
     "text": [
      "WARNING:tensorflow:Using a while_loop for converting IO>AudioResample cause there is no registered converter for this op.\n"
     ]
    },
    {
     "name": "stdout",
     "output_type": "stream",
     "text": [
      "WARNING:tensorflow:Using a while_loop for converting IO>AudioResample cause there is no registered converter for this op.\n"
     ]
    },
    {
     "name": "stderr",
     "output_type": "stream",
     "text": [
      "WARNING:tensorflow:Using a while_loop for converting IO>AudioResample cause there is no registered converter for this op.\n"
     ]
    },
    {
     "name": "stdout",
     "output_type": "stream",
     "text": [
      "WARNING:tensorflow:Using a while_loop for converting IO>AudioResample cause there is no registered converter for this op.\n"
     ]
    },
    {
     "name": "stderr",
     "output_type": "stream",
     "text": [
      "WARNING:tensorflow:Using a while_loop for converting IO>AudioResample cause there is no registered converter for this op.\n"
     ]
    },
    {
     "name": "stdout",
     "output_type": "stream",
     "text": [
      "WARNING:tensorflow:Using a while_loop for converting IO>AudioResample cause there is no registered converter for this op.\n"
     ]
    },
    {
     "name": "stderr",
     "output_type": "stream",
     "text": [
      "WARNING:tensorflow:Using a while_loop for converting IO>AudioResample cause there is no registered converter for this op.\n"
     ]
    },
    {
     "name": "stdout",
     "output_type": "stream",
     "text": [
      "WARNING:tensorflow:Using a while_loop for converting IO>AudioResample cause there is no registered converter for this op.\n"
     ]
    },
    {
     "name": "stderr",
     "output_type": "stream",
     "text": [
      "WARNING:tensorflow:Using a while_loop for converting IO>AudioResample cause there is no registered converter for this op.\n"
     ]
    },
    {
     "name": "stdout",
     "output_type": "stream",
     "text": [
      "predicted = 20.250, true age =[21]\n"
     ]
    },
    {
     "data": {
      "text/plain": [
       "20.25017"
      ]
     },
     "execution_count": 117,
     "metadata": {},
     "output_type": "execute_result"
    }
   ],
   "source": [
    "def predict(model, wav_code, df, base_data_path):\n",
    "\n",
    "    # concatenating embedding of all wav files\n",
    "    files_list = glob.glob(f'{base_data_path}*{wav_code}*')\n",
    "    wav_data = load_wav_16k_mono(files_list[0]) \n",
    "    _, test_ten, _ = yamnet_model(wav_data)\n",
    "    for file in files_list[1:]:\n",
    "        wav_data = load_wav_16k_mono(file) \n",
    "        _, embeddings, _ = yamnet_model(wav_data)\n",
    "        test_ten = tf.concat([test_ten, embeddings], axis=0)\n",
    "    \n",
    "\n",
    "    predicted_age = tf.math.reduce_mean(model(test_ten))\n",
    "    true_age = df[df['New_ID']==wav_code]['Age'].to_numpy()\n",
    "    print(f'predicted = {predicted_age:.3f}, true age ={true_age}')\n",
    "    return predicted_age.numpy()\n",
    "    \n",
    "\n",
    "\n",
    "    \n",
    "predict(model, 4778, pd_data, base_data_path)\n",
    "predict(model, 4363, pd_data, base_data_path)\n",
    "\n",
    "\n",
    "        "
   ]
  },
  {
   "cell_type": "code",
   "execution_count": 139,
   "id": "9030e4bf-73d6-4c76-be14-de6bca4b3ee4",
   "metadata": {
    "tags": []
   },
   "outputs": [
    {
     "name": "stdout",
     "output_type": "stream",
     "text": [
      "WARNING:tensorflow:Using a while_loop for converting IO>AudioResample cause there is no registered converter for this op.\n"
     ]
    },
    {
     "name": "stderr",
     "output_type": "stream",
     "text": [
      "WARNING:tensorflow:Using a while_loop for converting IO>AudioResample cause there is no registered converter for this op.\n"
     ]
    },
    {
     "name": "stdout",
     "output_type": "stream",
     "text": [
      "WARNING:tensorflow:Using a while_loop for converting IO>AudioResample cause there is no registered converter for this op.\n"
     ]
    },
    {
     "name": "stderr",
     "output_type": "stream",
     "text": [
      "WARNING:tensorflow:Using a while_loop for converting IO>AudioResample cause there is no registered converter for this op.\n"
     ]
    },
    {
     "name": "stdout",
     "output_type": "stream",
     "text": [
      "WARNING:tensorflow:Using a while_loop for converting IO>AudioResample cause there is no registered converter for this op.\n"
     ]
    },
    {
     "name": "stderr",
     "output_type": "stream",
     "text": [
      "WARNING:tensorflow:Using a while_loop for converting IO>AudioResample cause there is no registered converter for this op.\n"
     ]
    },
    {
     "name": "stdout",
     "output_type": "stream",
     "text": [
      "WARNING:tensorflow:Using a while_loop for converting IO>AudioResample cause there is no registered converter for this op.\n"
     ]
    },
    {
     "name": "stderr",
     "output_type": "stream",
     "text": [
      "WARNING:tensorflow:Using a while_loop for converting IO>AudioResample cause there is no registered converter for this op.\n"
     ]
    },
    {
     "name": "stdout",
     "output_type": "stream",
     "text": [
      "WARNING:tensorflow:Using a while_loop for converting IO>AudioResample cause there is no registered converter for this op.\n"
     ]
    },
    {
     "name": "stderr",
     "output_type": "stream",
     "text": [
      "WARNING:tensorflow:Using a while_loop for converting IO>AudioResample cause there is no registered converter for this op.\n"
     ]
    },
    {
     "name": "stdout",
     "output_type": "stream",
     "text": [
      "WARNING:tensorflow:Using a while_loop for converting IO>AudioResample cause there is no registered converter for this op.\n"
     ]
    },
    {
     "name": "stderr",
     "output_type": "stream",
     "text": [
      "WARNING:tensorflow:Using a while_loop for converting IO>AudioResample cause there is no registered converter for this op.\n"
     ]
    },
    {
     "name": "stdout",
     "output_type": "stream",
     "text": [
      "WARNING:tensorflow:Using a while_loop for converting IO>AudioResample cause there is no registered converter for this op.\n"
     ]
    },
    {
     "name": "stderr",
     "output_type": "stream",
     "text": [
      "WARNING:tensorflow:Using a while_loop for converting IO>AudioResample cause there is no registered converter for this op.\n"
     ]
    },
    {
     "name": "stdout",
     "output_type": "stream",
     "text": [
      "WARNING:tensorflow:Using a while_loop for converting IO>AudioResample cause there is no registered converter for this op.\n"
     ]
    },
    {
     "name": "stderr",
     "output_type": "stream",
     "text": [
      "WARNING:tensorflow:Using a while_loop for converting IO>AudioResample cause there is no registered converter for this op.\n"
     ]
    },
    {
     "name": "stdout",
     "output_type": "stream",
     "text": [
      "WARNING:tensorflow:Using a while_loop for converting IO>AudioResample cause there is no registered converter for this op.\n"
     ]
    },
    {
     "name": "stderr",
     "output_type": "stream",
     "text": [
      "WARNING:tensorflow:Using a while_loop for converting IO>AudioResample cause there is no registered converter for this op.\n"
     ]
    },
    {
     "name": "stdout",
     "output_type": "stream",
     "text": [
      "WARNING:tensorflow:Using a while_loop for converting IO>AudioResample cause there is no registered converter for this op.\n"
     ]
    },
    {
     "name": "stderr",
     "output_type": "stream",
     "text": [
      "WARNING:tensorflow:Using a while_loop for converting IO>AudioResample cause there is no registered converter for this op.\n"
     ]
    },
    {
     "name": "stdout",
     "output_type": "stream",
     "text": [
      "WARNING:tensorflow:Using a while_loop for converting IO>AudioResample cause there is no registered converter for this op.\n"
     ]
    },
    {
     "name": "stderr",
     "output_type": "stream",
     "text": [
      "WARNING:tensorflow:Using a while_loop for converting IO>AudioResample cause there is no registered converter for this op.\n"
     ]
    },
    {
     "name": "stdout",
     "output_type": "stream",
     "text": [
      "WARNING:tensorflow:Using a while_loop for converting IO>AudioResample cause there is no registered converter for this op.\n"
     ]
    },
    {
     "name": "stderr",
     "output_type": "stream",
     "text": [
      "WARNING:tensorflow:Using a while_loop for converting IO>AudioResample cause there is no registered converter for this op.\n"
     ]
    },
    {
     "name": "stdout",
     "output_type": "stream",
     "text": [
      "WARNING:tensorflow:Using a while_loop for converting IO>AudioResample cause there is no registered converter for this op.\n"
     ]
    },
    {
     "name": "stderr",
     "output_type": "stream",
     "text": [
      "WARNING:tensorflow:Using a while_loop for converting IO>AudioResample cause there is no registered converter for this op.\n"
     ]
    },
    {
     "name": "stdout",
     "output_type": "stream",
     "text": [
      "WARNING:tensorflow:Using a while_loop for converting IO>AudioResample cause there is no registered converter for this op.\n"
     ]
    },
    {
     "name": "stderr",
     "output_type": "stream",
     "text": [
      "WARNING:tensorflow:Using a while_loop for converting IO>AudioResample cause there is no registered converter for this op.\n"
     ]
    },
    {
     "name": "stdout",
     "output_type": "stream",
     "text": [
      "WARNING:tensorflow:Using a while_loop for converting IO>AudioResample cause there is no registered converter for this op.\n"
     ]
    },
    {
     "name": "stderr",
     "output_type": "stream",
     "text": [
      "WARNING:tensorflow:Using a while_loop for converting IO>AudioResample cause there is no registered converter for this op.\n"
     ]
    },
    {
     "name": "stdout",
     "output_type": "stream",
     "text": [
      "WARNING:tensorflow:Using a while_loop for converting IO>AudioResample cause there is no registered converter for this op.\n"
     ]
    },
    {
     "name": "stderr",
     "output_type": "stream",
     "text": [
      "WARNING:tensorflow:Using a while_loop for converting IO>AudioResample cause there is no registered converter for this op.\n"
     ]
    },
    {
     "name": "stdout",
     "output_type": "stream",
     "text": [
      "WARNING:tensorflow:Using a while_loop for converting IO>AudioResample cause there is no registered converter for this op.\n"
     ]
    },
    {
     "name": "stderr",
     "output_type": "stream",
     "text": [
      "WARNING:tensorflow:Using a while_loop for converting IO>AudioResample cause there is no registered converter for this op.\n"
     ]
    },
    {
     "name": "stdout",
     "output_type": "stream",
     "text": [
      "WARNING:tensorflow:Using a while_loop for converting IO>AudioResample cause there is no registered converter for this op.\n"
     ]
    },
    {
     "name": "stderr",
     "output_type": "stream",
     "text": [
      "WARNING:tensorflow:Using a while_loop for converting IO>AudioResample cause there is no registered converter for this op.\n"
     ]
    },
    {
     "name": "stdout",
     "output_type": "stream",
     "text": [
      "WARNING:tensorflow:Using a while_loop for converting IO>AudioResample cause there is no registered converter for this op.\n"
     ]
    },
    {
     "name": "stderr",
     "output_type": "stream",
     "text": [
      "WARNING:tensorflow:Using a while_loop for converting IO>AudioResample cause there is no registered converter for this op.\n"
     ]
    },
    {
     "name": "stdout",
     "output_type": "stream",
     "text": [
      "WARNING:tensorflow:Using a while_loop for converting IO>AudioResample cause there is no registered converter for this op.\n"
     ]
    },
    {
     "name": "stderr",
     "output_type": "stream",
     "text": [
      "WARNING:tensorflow:Using a while_loop for converting IO>AudioResample cause there is no registered converter for this op.\n"
     ]
    },
    {
     "name": "stdout",
     "output_type": "stream",
     "text": [
      "predicted = 21.009, true age =[22]\n",
      "WARNING:tensorflow:Using a while_loop for converting IO>AudioResample cause there is no registered converter for this op.\n"
     ]
    },
    {
     "name": "stderr",
     "output_type": "stream",
     "text": [
      "WARNING:tensorflow:Using a while_loop for converting IO>AudioResample cause there is no registered converter for this op.\n"
     ]
    },
    {
     "name": "stdout",
     "output_type": "stream",
     "text": [
      "WARNING:tensorflow:Using a while_loop for converting IO>AudioResample cause there is no registered converter for this op.\n"
     ]
    },
    {
     "name": "stderr",
     "output_type": "stream",
     "text": [
      "WARNING:tensorflow:Using a while_loop for converting IO>AudioResample cause there is no registered converter for this op.\n"
     ]
    },
    {
     "name": "stdout",
     "output_type": "stream",
     "text": [
      "predicted = 18.576, true age =[23]\n",
      "WARNING:tensorflow:Using a while_loop for converting IO>AudioResample cause there is no registered converter for this op.\n"
     ]
    },
    {
     "name": "stderr",
     "output_type": "stream",
     "text": [
      "WARNING:tensorflow:Using a while_loop for converting IO>AudioResample cause there is no registered converter for this op.\n"
     ]
    },
    {
     "name": "stdout",
     "output_type": "stream",
     "text": [
      "WARNING:tensorflow:Using a while_loop for converting IO>AudioResample cause there is no registered converter for this op.\n"
     ]
    },
    {
     "name": "stderr",
     "output_type": "stream",
     "text": [
      "WARNING:tensorflow:Using a while_loop for converting IO>AudioResample cause there is no registered converter for this op.\n"
     ]
    },
    {
     "name": "stdout",
     "output_type": "stream",
     "text": [
      "predicted = 18.176, true age =[18]\n"
     ]
    }
   ],
   "source": [
    "pd_test_data = pd_data.copy()\n",
    "codes_list = list(pd_test_data['New_ID'])\n",
    "age_list =[]\n",
    "for code in codes_list[-3:]:\n",
    "    age_list.append(predict(model, code, pd_data, base_data_path))"
   ]
  },
  {
   "cell_type": "code",
   "execution_count": 138,
   "id": "aa762354-dfcf-485c-bac3-688b6535058e",
   "metadata": {},
   "outputs": [
    {
     "name": "stdout",
     "output_type": "stream",
     "text": [
      "INFO:tensorflow:Assets written to: saved_model/assets\n"
     ]
    },
    {
     "name": "stderr",
     "output_type": "stream",
     "text": [
      "INFO:tensorflow:Assets written to: saved_model/assets\n"
     ]
    }
   ],
   "source": [
    "tf.keras.models.save_model(model, 'saved_model')"
   ]
  },
  {
   "cell_type": "code",
   "execution_count": null,
   "id": "d28e6629-97f2-41f1-b6dd-4dfa3007f594",
   "metadata": {},
   "outputs": [],
   "source": []
  }
 ],
 "metadata": {
  "kernelspec": {
   "display_name": "Python 3 (ipykernel)",
   "language": "python",
   "name": "python3"
  },
  "language_info": {
   "codemirror_mode": {
    "name": "ipython",
    "version": 3
   },
   "file_extension": ".py",
   "mimetype": "text/x-python",
   "name": "python",
   "nbconvert_exporter": "python",
   "pygments_lexer": "ipython3",
   "version": "3.10.6"
  }
 },
 "nbformat": 4,
 "nbformat_minor": 5
}
