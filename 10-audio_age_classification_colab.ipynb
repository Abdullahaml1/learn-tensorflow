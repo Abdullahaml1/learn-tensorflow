{
  "cells": [
    {
      "cell_type": "markdown",
      "metadata": {
        "id": "view-in-github",
        "colab_type": "text"
      },
      "source": [
        "<a href=\"https://colab.research.google.com/github/Abdullahaml1/learn-tensorflow/blob/main/10_audio_age_classification_colab.ipynb\" target=\"_parent\"><img src=\"https://colab.research.google.com/assets/colab-badge.svg\" alt=\"Open In Colab\"/></a>"
      ]
    },
    {
      "cell_type": "markdown",
      "id": "8923a799-5dab-4ccd-b617-b429802ebce9",
      "metadata": {
        "id": "8923a799-5dab-4ccd-b617-b429802ebce9"
      },
      "source": [
        "# Age problem using Transfer learning of yamnet model [link](https://www.tensorflow.org/tutorials/audio/transfer_learning_audio)"
      ]
    },
    {
      "cell_type": "code",
      "execution_count": 1,
      "id": "e02946be-362e-42b5-9881-fc4d7050b8e2",
      "metadata": {
        "tags": [],
        "id": "e02946be-362e-42b5-9881-fc4d7050b8e2",
        "outputId": "e1cb3dca-4330-4dfe-b04b-d99d526bcc8a",
        "colab": {
          "base_uri": "https://localhost:8080/"
        }
      },
      "outputs": [
        {
          "output_type": "stream",
          "name": "stdout",
          "text": [
            "GPU:  available\n"
          ]
        }
      ],
      "source": [
        "import os\n",
        "import glob # for geting filenames\n",
        "\n",
        "from IPython import display\n",
        "import matplotlib.pyplot as plt\n",
        "import numpy as np\n",
        "import pandas as pd\n",
        "from scipy.io import wavfile # using wavfile.read to read the wav file\n",
        "from scipy import signal\n",
        "\n",
        "import tensorflow as tf\n",
        "import tensorflow_hub as hub\n",
        "\n",
        "# Set the seed value for experiment reproducibility.\n",
        "SEED = 42\n",
        "tf.random.set_seed(SEED)\n",
        "np.random.seed(SEED)\n",
        "\n",
        "print('GPU: ','available' if tf.config.list_physical_devices('GPU') else 'not avaiable') "
      ]
    },
    {
      "cell_type": "code",
      "execution_count": 2,
      "id": "c19bcf5a-8607-4f9a-b156-ad2c7f216805",
      "metadata": {
        "tags": [],
        "id": "c19bcf5a-8607-4f9a-b156-ad2c7f216805"
      },
      "outputs": [],
      "source": [
        "yamnet_model_handle = 'https://tfhub.dev/google/yamnet/1'\n",
        "yamnet_model = hub.load(yamnet_model_handle)"
      ]
    },
    {
      "cell_type": "code",
      "source": [
        "# for downloading form google drive\n",
        "!gdown  https://drive.google.com/drive/folders/1aNxnIT_p5zpvsVziNLtwxOPsB1Ibf6r_ -O /tmp/Agefolder --folder"
      ],
      "metadata": {
        "id": "l_3UCeU4TbtD",
        "outputId": "5c3a6cf1-2f65-4a44-ed09-fbee478ad77d",
        "colab": {
          "base_uri": "https://localhost:8080/"
        }
      },
      "id": "l_3UCeU4TbtD",
      "execution_count": null,
      "outputs": [
        {
          "output_type": "stream",
          "name": "stdout",
          "text": [
            "Retrieving folder list\n",
            "Processing file 1rhtYVU17DEO0iKaP-9LxwKQyoxPy3nHR BVC_Age.xlsx\n",
            "Processing file 1C823CPSh7_gVtceYwKoS4zasnC9XpmDD Readme.md\n",
            "Processing file 1G8GAAInvMd1Ad1lpNBWTZhaLJyQwIxXx waves.zip\n",
            "Retrieving folder list completed\n",
            "Building directory structure\n",
            "Building directory structure completed\n",
            "Downloading...\n",
            "From: https://drive.google.com/uc?id=1rhtYVU17DEO0iKaP-9LxwKQyoxPy3nHR\n",
            "To: /tmp/Agefolder/BVC_Age.xlsx\n",
            "100% 17.2k/17.2k [00:00<00:00, 32.3MB/s]\n",
            "Downloading...\n",
            "From: https://drive.google.com/uc?id=1C823CPSh7_gVtceYwKoS4zasnC9XpmDD\n",
            "To: /tmp/Agefolder/Readme.md\n",
            "100% 1.66k/1.66k [00:00<00:00, 6.13MB/s]\n",
            "Access denied with the following error:\n",
            "\n",
            " \tCannot retrieve the public link of the file. You may need to change\n",
            "\tthe permission to 'Anyone with the link', or have had many accesses. \n",
            "\n",
            "You may still be able to access the file from the browser:\n",
            "\n",
            "\t https://drive.google.com/uc?id=1G8GAAInvMd1Ad1lpNBWTZhaLJyQwIxXx \n",
            "\n",
            "Download ended unsuccessfully\n"
          ]
        }
      ]
    },
    {
      "cell_type": "code",
      "source": [
        "# mounting google dirve\n",
        "from google.colab import drive\n",
        "drive.mount('/content/drive')\n",
        "\n",
        "\n",
        "os.chdir(\"drive/My Drive/Age-data-extracted/\")"
      ],
      "metadata": {
        "id": "w6jE3TKjV1ld",
        "outputId": "07c25bc1-d9b9-4d7d-f599-994cd96708fe",
        "colab": {
          "base_uri": "https://localhost:8080/"
        }
      },
      "id": "w6jE3TKjV1ld",
      "execution_count": 3,
      "outputs": [
        {
          "output_type": "stream",
          "name": "stdout",
          "text": [
            "Mounted at /content/drive\n"
          ]
        }
      ]
    },
    {
      "cell_type": "code",
      "source": [
        "# unziping data (make this once data is zipped)\n",
        "import zipfile\n",
        "zipfile_name = '../Age/waves.zip'\n",
        "dir_name = 'dataset'\n",
        "\n",
        "with zipfile.ZipFile(zipfile_name, 'r') as zip_ref:\n",
        "    zip_ref.extractall(dir_name)"
      ],
      "metadata": {
        "id": "KnRT2U83WGvU"
      },
      "id": "KnRT2U83WGvU",
      "execution_count": null,
      "outputs": []
    },
    {
      "cell_type": "code",
      "source": [
        "# already made do not make it agian\n",
        "!cp ../Age/BVC_Age.xlsx ./"
      ],
      "metadata": {
        "id": "9XhRwCyvZ3Ah"
      },
      "id": "9XhRwCyvZ3Ah",
      "execution_count": null,
      "outputs": []
    },
    {
      "cell_type": "code",
      "execution_count": 4,
      "id": "02555524-85f8-411a-b192-014e5da92bf0",
      "metadata": {
        "tags": [],
        "id": "02555524-85f8-411a-b192-014e5da92bf0",
        "outputId": "bf37a42e-c90d-4c82-a7ad-82a7f907306c",
        "colab": {
          "base_uri": "https://localhost:8080/",
          "height": 206
        }
      },
      "outputs": [
        {
          "output_type": "execute_result",
          "data": {
            "text/plain": [
              "   New_ID  Age\n",
              "0    4001   19\n",
              "1    4002   23\n",
              "2    4003   18\n",
              "3    4004   23\n",
              "4    4005   17"
            ],
            "text/html": [
              "\n",
              "  <div id=\"df-71504294-ecef-4d82-b850-4c59347da25c\">\n",
              "    <div class=\"colab-df-container\">\n",
              "      <div>\n",
              "<style scoped>\n",
              "    .dataframe tbody tr th:only-of-type {\n",
              "        vertical-align: middle;\n",
              "    }\n",
              "\n",
              "    .dataframe tbody tr th {\n",
              "        vertical-align: top;\n",
              "    }\n",
              "\n",
              "    .dataframe thead th {\n",
              "        text-align: right;\n",
              "    }\n",
              "</style>\n",
              "<table border=\"1\" class=\"dataframe\">\n",
              "  <thead>\n",
              "    <tr style=\"text-align: right;\">\n",
              "      <th></th>\n",
              "      <th>New_ID</th>\n",
              "      <th>Age</th>\n",
              "    </tr>\n",
              "  </thead>\n",
              "  <tbody>\n",
              "    <tr>\n",
              "      <th>0</th>\n",
              "      <td>4001</td>\n",
              "      <td>19</td>\n",
              "    </tr>\n",
              "    <tr>\n",
              "      <th>1</th>\n",
              "      <td>4002</td>\n",
              "      <td>23</td>\n",
              "    </tr>\n",
              "    <tr>\n",
              "      <th>2</th>\n",
              "      <td>4003</td>\n",
              "      <td>18</td>\n",
              "    </tr>\n",
              "    <tr>\n",
              "      <th>3</th>\n",
              "      <td>4004</td>\n",
              "      <td>23</td>\n",
              "    </tr>\n",
              "    <tr>\n",
              "      <th>4</th>\n",
              "      <td>4005</td>\n",
              "      <td>17</td>\n",
              "    </tr>\n",
              "  </tbody>\n",
              "</table>\n",
              "</div>\n",
              "      <button class=\"colab-df-convert\" onclick=\"convertToInteractive('df-71504294-ecef-4d82-b850-4c59347da25c')\"\n",
              "              title=\"Convert this dataframe to an interactive table.\"\n",
              "              style=\"display:none;\">\n",
              "        \n",
              "  <svg xmlns=\"http://www.w3.org/2000/svg\" height=\"24px\"viewBox=\"0 0 24 24\"\n",
              "       width=\"24px\">\n",
              "    <path d=\"M0 0h24v24H0V0z\" fill=\"none\"/>\n",
              "    <path d=\"M18.56 5.44l.94 2.06.94-2.06 2.06-.94-2.06-.94-.94-2.06-.94 2.06-2.06.94zm-11 1L8.5 8.5l.94-2.06 2.06-.94-2.06-.94L8.5 2.5l-.94 2.06-2.06.94zm10 10l.94 2.06.94-2.06 2.06-.94-2.06-.94-.94-2.06-.94 2.06-2.06.94z\"/><path d=\"M17.41 7.96l-1.37-1.37c-.4-.4-.92-.59-1.43-.59-.52 0-1.04.2-1.43.59L10.3 9.45l-7.72 7.72c-.78.78-.78 2.05 0 2.83L4 21.41c.39.39.9.59 1.41.59.51 0 1.02-.2 1.41-.59l7.78-7.78 2.81-2.81c.8-.78.8-2.07 0-2.86zM5.41 20L4 18.59l7.72-7.72 1.47 1.35L5.41 20z\"/>\n",
              "  </svg>\n",
              "      </button>\n",
              "      \n",
              "  <style>\n",
              "    .colab-df-container {\n",
              "      display:flex;\n",
              "      flex-wrap:wrap;\n",
              "      gap: 12px;\n",
              "    }\n",
              "\n",
              "    .colab-df-convert {\n",
              "      background-color: #E8F0FE;\n",
              "      border: none;\n",
              "      border-radius: 50%;\n",
              "      cursor: pointer;\n",
              "      display: none;\n",
              "      fill: #1967D2;\n",
              "      height: 32px;\n",
              "      padding: 0 0 0 0;\n",
              "      width: 32px;\n",
              "    }\n",
              "\n",
              "    .colab-df-convert:hover {\n",
              "      background-color: #E2EBFA;\n",
              "      box-shadow: 0px 1px 2px rgba(60, 64, 67, 0.3), 0px 1px 3px 1px rgba(60, 64, 67, 0.15);\n",
              "      fill: #174EA6;\n",
              "    }\n",
              "\n",
              "    [theme=dark] .colab-df-convert {\n",
              "      background-color: #3B4455;\n",
              "      fill: #D2E3FC;\n",
              "    }\n",
              "\n",
              "    [theme=dark] .colab-df-convert:hover {\n",
              "      background-color: #434B5C;\n",
              "      box-shadow: 0px 1px 3px 1px rgba(0, 0, 0, 0.15);\n",
              "      filter: drop-shadow(0px 1px 2px rgba(0, 0, 0, 0.3));\n",
              "      fill: #FFFFFF;\n",
              "    }\n",
              "  </style>\n",
              "\n",
              "      <script>\n",
              "        const buttonEl =\n",
              "          document.querySelector('#df-71504294-ecef-4d82-b850-4c59347da25c button.colab-df-convert');\n",
              "        buttonEl.style.display =\n",
              "          google.colab.kernel.accessAllowed ? 'block' : 'none';\n",
              "\n",
              "        async function convertToInteractive(key) {\n",
              "          const element = document.querySelector('#df-71504294-ecef-4d82-b850-4c59347da25c');\n",
              "          const dataTable =\n",
              "            await google.colab.kernel.invokeFunction('convertToInteractive',\n",
              "                                                     [key], {});\n",
              "          if (!dataTable) return;\n",
              "\n",
              "          const docLinkHtml = 'Like what you see? Visit the ' +\n",
              "            '<a target=\"_blank\" href=https://colab.research.google.com/notebooks/data_table.ipynb>data table notebook</a>'\n",
              "            + ' to learn more about interactive tables.';\n",
              "          element.innerHTML = '';\n",
              "          dataTable['output_type'] = 'display_data';\n",
              "          await google.colab.output.renderOutput(dataTable, element);\n",
              "          const docLink = document.createElement('div');\n",
              "          docLink.innerHTML = docLinkHtml;\n",
              "          element.appendChild(docLink);\n",
              "        }\n",
              "      </script>\n",
              "    </div>\n",
              "  </div>\n",
              "  "
            ]
          },
          "metadata": {},
          "execution_count": 4
        }
      ],
      "source": [
        "# reading the data\n",
        "excel_file = ''\n",
        "base_data_path = '/content/drive/MyDrive/Age-data-extracted/dataset/waves/multiple_sentences/'\n",
        "\n",
        "pd_data = pd.read_excel('BVC_Age.xlsx')\n",
        "pd_data.head()\n",
        "# for index, raw in pd_data.head().iterrows():\n",
        "    # print(raw['New_ID'])"
      ]
    },
    {
      "cell_type": "code",
      "execution_count": 5,
      "id": "16c0aa16-f912-495f-9058-74a711b46b8a",
      "metadata": {
        "tags": [],
        "id": "16c0aa16-f912-495f-9058-74a711b46b8a",
        "outputId": "16d3248e-6fb8-424e-bbe4-68a5c0efeafe",
        "colab": {
          "base_uri": "https://localhost:8080/"
        }
      },
      "outputs": [
        {
          "output_type": "execute_result",
          "data": {
            "text/plain": [
              "19"
            ]
          },
          "metadata": {},
          "execution_count": 5
        }
      ],
      "source": [
        "pd_data[pd_data['New_ID']==4001]['Age'].to_numpy()[0]"
      ]
    },
    {
      "cell_type": "code",
      "execution_count": 6,
      "id": "06209748-8e4c-413a-8a2c-29eee6dacb87",
      "metadata": {
        "tags": [],
        "id": "06209748-8e4c-413a-8a2c-29eee6dacb87",
        "outputId": "cd6747a4-5a34-4a31-f419-a2dc95f1baaa",
        "colab": {
          "base_uri": "https://localhost:8080/"
        }
      },
      "outputs": [
        {
          "output_type": "execute_result",
          "data": {
            "text/plain": [
              "['/content/drive/MyDrive/Age-data-extracted/dataset/waves/multiple_sentences/S_01_4530_VE1.wav',\n",
              " '/content/drive/MyDrive/Age-data-extracted/dataset/waves/multiple_sentences/S_01_4530_VE2.wav',\n",
              " '/content/drive/MyDrive/Age-data-extracted/dataset/waves/multiple_sentences/S_01_4530_VE3.wav',\n",
              " '/content/drive/MyDrive/Age-data-extracted/dataset/waves/multiple_sentences/S_01_4530_VE4.wav',\n",
              " '/content/drive/MyDrive/Age-data-extracted/dataset/waves/multiple_sentences/S_01_4530_VE5.wav',\n",
              " '/content/drive/MyDrive/Age-data-extracted/dataset/waves/multiple_sentences/S_01_4530_VV1.wav',\n",
              " '/content/drive/MyDrive/Age-data-extracted/dataset/waves/multiple_sentences/S_01_4530_VV2.wav',\n",
              " '/content/drive/MyDrive/Age-data-extracted/dataset/waves/multiple_sentences/S_01_4530_VV3.wav',\n",
              " '/content/drive/MyDrive/Age-data-extracted/dataset/waves/multiple_sentences/S_01_4530_VV4.wav',\n",
              " '/content/drive/MyDrive/Age-data-extracted/dataset/waves/multiple_sentences/S_01_4530_VV5.wav']"
            ]
          },
          "metadata": {},
          "execution_count": 6
        }
      ],
      "source": [
        "# listing wav files of code:\n",
        "glob.glob(f'{base_data_path}*4530*')"
      ]
    },
    {
      "cell_type": "code",
      "source": [
        "files_list = []\n",
        "age_list=[]\n",
        "\n",
        "for index, raw in pd_data.iterrows():\n",
        "    code = raw['New_ID']\n",
        "    files = glob.glob(f'{base_data_path}*{code}*')\n",
        "    files_list = files_list + files\n",
        "    age_list = age_list + [raw['Age']] * len(files)\n",
        "\n",
        "print(len(files_list))\n",
        "print(len(age_list))"
      ],
      "metadata": {
        "id": "3PC6d1-OlCAW",
        "outputId": "65d0cc4f-f0e9-433e-dbbe-b89a64b20dd1",
        "colab": {
          "base_uri": "https://localhost:8080/"
        }
      },
      "id": "3PC6d1-OlCAW",
      "execution_count": 7,
      "outputs": [
        {
          "output_type": "stream",
          "name": "stdout",
          "text": [
            "3964\n",
            "3964\n"
          ]
        }
      ]
    },
    {
      "cell_type": "code",
      "source": [
        "# loading data set to tensorflow \n",
        "main_ds = tf.data.Dataset.from_tensor_slices((files_list, age_list))\n",
        "main_ds.element_spec"
      ],
      "metadata": {
        "id": "dIIibnTfmoOw",
        "outputId": "9f8ab577-29fb-4d75-fb99-d1b3006b7bf1",
        "colab": {
          "base_uri": "https://localhost:8080/"
        }
      },
      "id": "dIIibnTfmoOw",
      "execution_count": 8,
      "outputs": [
        {
          "output_type": "execute_result",
          "data": {
            "text/plain": [
              "(TensorSpec(shape=(), dtype=tf.string, name=None),\n",
              " TensorSpec(shape=(), dtype=tf.int32, name=None))"
            ]
          },
          "metadata": {},
          "execution_count": 8
        }
      ]
    },
    {
      "cell_type": "code",
      "source": [
        "!pip install -U tensorflow-io"
      ],
      "metadata": {
        "colab": {
          "base_uri": "https://localhost:8080/"
        },
        "id": "GKq4OmZXoNcV",
        "outputId": "b5f91873-0acc-4f40-e90b-d6829d85427f"
      },
      "id": "GKq4OmZXoNcV",
      "execution_count": 10,
      "outputs": [
        {
          "output_type": "stream",
          "name": "stdout",
          "text": [
            "Looking in indexes: https://pypi.org/simple, https://us-python.pkg.dev/colab-wheels/public/simple/\n",
            "Collecting tensorflow-io\n",
            "  Downloading tensorflow_io-0.31.0-cp39-cp39-manylinux_2_12_x86_64.manylinux2010_x86_64.whl (26.9 MB)\n",
            "\u001b[2K     \u001b[90m━━━━━━━━━━━━━━━━━━━━━━━━━━━━━━━━━━━━━━━━\u001b[0m \u001b[32m26.9/26.9 MB\u001b[0m \u001b[31m40.8 MB/s\u001b[0m eta \u001b[36m0:00:00\u001b[0m\n",
            "\u001b[?25hRequirement already satisfied: tensorflow-io-gcs-filesystem==0.31.0 in /usr/local/lib/python3.9/dist-packages (from tensorflow-io) (0.31.0)\n",
            "Installing collected packages: tensorflow-io\n",
            "Successfully installed tensorflow-io-0.31.0\n"
          ]
        }
      ]
    },
    {
      "cell_type": "code",
      "source": [
        "# loading wav files to main dataset\n",
        "import tensorflow_io as tfio\n",
        "\n",
        "@tf.function\n",
        "def load_wav_16k_mono(filename, age):\n",
        "    \"\"\" Load a WAV file, convert it to a float tensor, resample to 16 kHz single-channel audio. \"\"\"\n",
        "    file_contents = tf.io.read_file(filename)\n",
        "    wav, sample_rate = tf.audio.decode_wav(\n",
        "            file_contents,\n",
        "            desired_channels=1)\n",
        "    wav = tf.squeeze(wav, axis=-1)\n",
        "    sample_rate = tf.cast(sample_rate, dtype=tf.int64) # like c type casting\n",
        "    wav = tfio.audio.resample(wav, rate_in=sample_rate, rate_out=16000)\n",
        "    return wav, tf.cast(age, dtype=tf.float32)\n",
        "\n",
        "main_ds = main_ds.map(load_wav_16k_mono)\n",
        "main_ds.element_spec"
      ],
      "metadata": {
        "id": "HUr7rueZn7Px",
        "outputId": "0ff0e1ca-ea5e-40fb-8ae5-cc3b8786d9ad",
        "colab": {
          "base_uri": "https://localhost:8080/"
        }
      },
      "id": "HUr7rueZn7Px",
      "execution_count": 11,
      "outputs": [
        {
          "output_type": "stream",
          "name": "stderr",
          "text": [
            "WARNING:tensorflow:From /usr/local/lib/python3.9/dist-packages/tensorflow/python/autograph/pyct/static_analysis/liveness.py:83: Analyzer.lamba_check (from tensorflow.python.autograph.pyct.static_analysis.liveness) is deprecated and will be removed after 2023-09-23.\n",
            "Instructions for updating:\n",
            "Lambda fuctions will be no more assumed to be used in the statement where they are used, or at least in the same block. https://github.com/tensorflow/tensorflow/issues/56089\n",
            "WARNING:tensorflow:Using a while_loop for converting IO>AudioResample cause there is no registered converter for this op.\n"
          ]
        },
        {
          "output_type": "execute_result",
          "data": {
            "text/plain": [
              "(TensorSpec(shape=<unknown>, dtype=tf.float32, name=None),\n",
              " TensorSpec(shape=(), dtype=tf.float32, name=None))"
            ]
          },
          "metadata": {},
          "execution_count": 11
        }
      ]
    },
    {
      "cell_type": "code",
      "execution_count": 12,
      "id": "11613d43-8e38-46aa-a52a-e316bd5b8f8d",
      "metadata": {
        "tags": [],
        "id": "11613d43-8e38-46aa-a52a-e316bd5b8f8d",
        "outputId": "414026de-ed62-492f-ea54-c938f2999b15",
        "colab": {
          "base_uri": "https://localhost:8080/",
          "height": 95
        }
      },
      "outputs": [
        {
          "output_type": "stream",
          "name": "stdout",
          "text": [
            "(31972,)\n",
            "tf.Tensor(19.0, shape=(), dtype=float32)\n"
          ]
        },
        {
          "output_type": "execute_result",
          "data": {
            "text/plain": [
              "<IPython.lib.display.Audio object>"
            ],
            "text/html": [
              "\n",
              "                <audio  controls=\"controls\" >\n",
              "                    <source src=\"data:audio/wav;base64,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\" type=\"audio/wav\" />\n",
              "                    Your browser does not support the audio element.\n",
              "                </audio>\n",
              "              "
            ]
          },
          "metadata": {},
          "execution_count": 12
        }
      ],
      "source": [
        "wav, age = next(iter(main_ds.take(1)))\n",
        "print(wav.shape)\n",
        "print(age)\n",
        "display.Audio(wav, rate=16000)"
      ]
    },
    {
      "cell_type": "code",
      "execution_count": 13,
      "id": "2849c172-46ad-4743-ae6e-0a2cc4c64979",
      "metadata": {
        "tags": [],
        "id": "2849c172-46ad-4743-ae6e-0a2cc4c64979",
        "outputId": "f4f562e6-6cd0-45d7-d8a9-dff925f35020",
        "colab": {
          "base_uri": "https://localhost:8080/"
        }
      },
      "outputs": [
        {
          "output_type": "execute_result",
          "data": {
            "text/plain": [
              "(TensorSpec(shape=(1024,), dtype=tf.float32, name=None),\n",
              " TensorSpec(shape=(), dtype=tf.float32, name=None))"
            ]
          },
          "metadata": {},
          "execution_count": 13
        }
      ],
      "source": [
        "# applying yamet embedding \n",
        "# it generate embedding every (window size) so for a single input it will produce n x 1024\n",
        "# then taking the average of all the embedding for all wav files\n",
        "\n",
        "# applies the embedding extraction model to a wav data\n",
        "def extract_embedding(wav_data, age):\n",
        "    ''' run YAMNet to extract embedding from the wav data '''\n",
        "    scores, embeddings, spectrogram = yamnet_model(wav_data)\n",
        "    ''' averaging embeddings '''\n",
        "    return (tf.math.reduce_mean(embeddings, axis=0), age)\n",
        "\n",
        "# extract embedding\n",
        "# main_ds = main_ds.map(extract_embedding).unbatch()\n",
        "main_ds = main_ds.map(extract_embedding)\n",
        "main_ds.element_spec"
      ]
    },
    {
      "cell_type": "code",
      "source": [
        "# Drops elements that cause errors.\n",
        "# https://www.tensorflow.org/api_docs/python/tf/data/Dataset#ignore_errors\n",
        "main_ds = main_ds.ignore_errors()"
      ],
      "metadata": {
        "id": "SAvLTOscrwvU"
      },
      "id": "SAvLTOscrwvU",
      "execution_count": 15,
      "outputs": []
    },
    {
      "cell_type": "code",
      "execution_count": 16,
      "id": "303df4f3-456e-453b-99b6-4f695b7ac665",
      "metadata": {
        "tags": [],
        "id": "303df4f3-456e-453b-99b6-4f695b7ac665",
        "outputId": "92ef11c9-0b50-4b37-eb33-365106667ef0",
        "colab": {
          "base_uri": "https://localhost:8080/"
        }
      },
      "outputs": [
        {
          "output_type": "stream",
          "name": "stdout",
          "text": [
            "(1024,)\n",
            "tf.Tensor(19.0, shape=(), dtype=float32)\n"
          ]
        }
      ],
      "source": [
        "emed, age = next(iter(main_ds.take(1)))\n",
        "print(emed.shape)\n",
        "print(age)"
      ]
    },
    {
      "cell_type": "code",
      "execution_count": 17,
      "id": "e8b7bf2a-35a6-4e97-96bf-29deffc908f2",
      "metadata": {
        "tags": [],
        "id": "e8b7bf2a-35a6-4e97-96bf-29deffc908f2"
      },
      "outputs": [],
      "source": [
        "# spliting in train and test\n",
        "BATCH_SIZE = 1024\n",
        "NUM_SHARDS = 5\n",
        "cached_ds = main_ds.cache()\n",
        "test_ds = cached_ds.shard(num_shards=NUM_SHARDS, index=0)\n",
        "\n",
        "train_ds = cached_ds.shard(num_shards=NUM_SHARDS, index=1)\n",
        "for i in range(NUM_SHARDS-2):\n",
        "    train_ds = train_ds.concatenate(cached_ds.shard(num_shards=5, index=i+2))\n",
        "    \n",
        "val_ds = test_ds.shard(num_shards=2, index=0) # 10% val\n",
        "test_ds = test_ds.shard(num_shards=2, index=1)# 10% test\n",
        "\n",
        "\n",
        "train_ds = train_ds.cache().shuffle(1000).batch(BATCH_SIZE).prefetch(tf.data.AUTOTUNE)\n",
        "val_ds = val_ds.cache().batch(BATCH_SIZE).prefetch(tf.data.AUTOTUNE)\n",
        "test_ds = test_ds.cache().batch(BATCH_SIZE).prefetch(tf.data.AUTOTUNE)\n"
      ]
    },
    {
      "cell_type": "code",
      "execution_count": 18,
      "id": "0ca1f1f0-7219-440b-8793-0476d33e75cf",
      "metadata": {
        "tags": [],
        "id": "0ca1f1f0-7219-440b-8793-0476d33e75cf",
        "outputId": "34872b3c-ee75-4360-dc2d-8b3c38b2450f",
        "colab": {
          "base_uri": "https://localhost:8080/"
        }
      },
      "outputs": [
        {
          "output_type": "stream",
          "name": "stdout",
          "text": [
            "(1024, 1024)\n"
          ]
        }
      ],
      "source": [
        "embed, age = next(iter(train_ds.take(1)))\n",
        "print(embed.shape)"
      ]
    },
    {
      "cell_type": "code",
      "execution_count": 70,
      "id": "f7f6fe77-0e64-4f94-861b-230941fccd34",
      "metadata": {
        "tags": [],
        "id": "f7f6fe77-0e64-4f94-861b-230941fccd34",
        "outputId": "e0d6fdcb-01c0-468f-c7ce-12e3971abd8d",
        "colab": {
          "base_uri": "https://localhost:8080/"
        }
      },
      "outputs": [
        {
          "output_type": "stream",
          "name": "stdout",
          "text": [
            "Model: \"sequential_16\"\n",
            "_________________________________________________________________\n",
            " Layer (type)                Output Shape              Param #   \n",
            "=================================================================\n",
            " dense_42 (Dense)            (None, 128)               131200    \n",
            "                                                                 \n",
            " normalization_26 (Normaliza  (None, 128)              257       \n",
            " tion)                                                           \n",
            "                                                                 \n",
            " dropout_25 (Dropout)        (None, 128)               0         \n",
            "                                                                 \n",
            " dense_43 (Dense)            (None, 1)                 129       \n",
            "                                                                 \n",
            "=================================================================\n",
            "Total params: 131,586\n",
            "Trainable params: 131,329\n",
            "Non-trainable params: 257\n",
            "_________________________________________________________________\n"
          ]
        }
      ],
      "source": [
        "EPOCHS = 2000\n",
        "\n",
        "model = tf.keras.Sequential([\n",
        "    tf.keras.layers.Input(shape = (1024), dtype=tf.float32),\n",
        "    tf.keras.layers.Dense(128, activation = 'relu', kernel_regularizer=tf.keras.regularizers.l2(0.0001)),\n",
        "    tf.keras.layers.Normalization(),\n",
        "    tf.keras.layers.Dropout(0.2),\n",
        "    # tf.keras.layers.Dense(64, activation = 'relu', kernel_regularizer=tf.keras.regularizers.l2(0.0001)),\n",
        "    # tf.keras.layers.Normalization(),\n",
        "    # tf.keras.layers.Dropout(0.2),\n",
        "    tf.keras.layers.Dense(1,activation='relu')\n",
        "])\n",
        "\n",
        "callback = tf.keras.callbacks.EarlyStopping(monitor='loss',\n",
        "                                            patience=10, # weight for 3 ecpochs\n",
        "                                            restore_best_weights=True)\n",
        "\n",
        "initial_learning_rate = 0.01\n",
        "final_learning_rate = 0.0001\n",
        "learning_rate_decay_factor = (final_learning_rate / initial_learning_rate)**(1/EPOCHS)\n",
        "steps_per_epoch = int(len(age_list)/BATCH_SIZE)\n",
        "\n",
        "lr_schedule = tf.keras.optimizers.schedules.ExponentialDecay(\n",
        "                initial_learning_rate=initial_learning_rate,\n",
        "                decay_steps=steps_per_epoch,\n",
        "                decay_rate=learning_rate_decay_factor,\n",
        "                staircase=True)\n",
        "\n",
        "model.compile(loss=tf.keras.losses.MeanSquaredError(),\n",
        "              optimizer = tf.keras.optimizers.Adam(lr_schedule))\n",
        "              # metrics=['mean_squared_error'])\n",
        "\n",
        "model.summary()"
      ]
    },
    {
      "cell_type": "code",
      "execution_count": 71,
      "id": "185ef035-9d7a-4de4-8a47-39dd34552ffb",
      "metadata": {
        "tags": [],
        "id": "185ef035-9d7a-4de4-8a47-39dd34552ffb",
        "outputId": "0ffe2292-7147-4664-e5c5-d990984547b0",
        "colab": {
          "base_uri": "https://localhost:8080/"
        }
      },
      "outputs": [
        {
          "output_type": "stream",
          "name": "stdout",
          "text": [
            "Epoch 1/2000\n",
            "4/4 - 1s - loss: 285.9713 - val_loss: 128.5879 - 1s/epoch - 340ms/step\n",
            "Epoch 2/2000\n",
            "4/4 - 0s - loss: 125.5846 - val_loss: 70.2868 - 36ms/epoch - 9ms/step\n",
            "Epoch 3/2000\n",
            "4/4 - 0s - loss: 47.4463 - val_loss: 67.6286 - 44ms/epoch - 11ms/step\n",
            "Epoch 4/2000\n",
            "4/4 - 0s - loss: 65.4405 - val_loss: 50.8592 - 35ms/epoch - 9ms/step\n",
            "Epoch 5/2000\n",
            "4/4 - 0s - loss: 40.7926 - val_loss: 42.3665 - 35ms/epoch - 9ms/step\n",
            "Epoch 6/2000\n",
            "4/4 - 0s - loss: 43.4336 - val_loss: 39.8542 - 41ms/epoch - 10ms/step\n",
            "Epoch 7/2000\n",
            "4/4 - 0s - loss: 34.3538 - val_loss: 36.8023 - 33ms/epoch - 8ms/step\n",
            "Epoch 8/2000\n",
            "4/4 - 0s - loss: 35.3580 - val_loss: 37.1302 - 30ms/epoch - 7ms/step\n",
            "Epoch 9/2000\n",
            "4/4 - 0s - loss: 32.7137 - val_loss: 33.1424 - 32ms/epoch - 8ms/step\n",
            "Epoch 10/2000\n",
            "4/4 - 0s - loss: 32.2516 - val_loss: 33.9310 - 33ms/epoch - 8ms/step\n",
            "Epoch 11/2000\n",
            "4/4 - 0s - loss: 30.9307 - val_loss: 32.9773 - 33ms/epoch - 8ms/step\n",
            "Epoch 12/2000\n",
            "4/4 - 0s - loss: 30.8620 - val_loss: 33.6816 - 31ms/epoch - 8ms/step\n",
            "Epoch 13/2000\n",
            "4/4 - 0s - loss: 30.3216 - val_loss: 32.1347 - 32ms/epoch - 8ms/step\n",
            "Epoch 14/2000\n",
            "4/4 - 0s - loss: 29.8944 - val_loss: 32.2402 - 41ms/epoch - 10ms/step\n",
            "Epoch 15/2000\n",
            "4/4 - 0s - loss: 30.3890 - val_loss: 32.1651 - 30ms/epoch - 7ms/step\n",
            "Epoch 16/2000\n",
            "4/4 - 0s - loss: 29.9094 - val_loss: 32.2957 - 28ms/epoch - 7ms/step\n",
            "Epoch 17/2000\n",
            "4/4 - 0s - loss: 29.3832 - val_loss: 32.0852 - 42ms/epoch - 11ms/step\n",
            "Epoch 18/2000\n",
            "4/4 - 0s - loss: 29.4239 - val_loss: 32.0898 - 29ms/epoch - 7ms/step\n",
            "Epoch 19/2000\n",
            "4/4 - 0s - loss: 29.6447 - val_loss: 32.2755 - 32ms/epoch - 8ms/step\n",
            "Epoch 20/2000\n",
            "4/4 - 0s - loss: 29.2502 - val_loss: 32.2426 - 31ms/epoch - 8ms/step\n",
            "Epoch 21/2000\n",
            "4/4 - 0s - loss: 29.5998 - val_loss: 32.1255 - 29ms/epoch - 7ms/step\n",
            "Epoch 22/2000\n",
            "4/4 - 0s - loss: 28.7989 - val_loss: 32.0437 - 38ms/epoch - 10ms/step\n",
            "Epoch 23/2000\n",
            "4/4 - 0s - loss: 29.2616 - val_loss: 32.1779 - 31ms/epoch - 8ms/step\n",
            "Epoch 24/2000\n",
            "4/4 - 0s - loss: 29.0217 - val_loss: 32.0665 - 28ms/epoch - 7ms/step\n",
            "Epoch 25/2000\n",
            "4/4 - 0s - loss: 29.0077 - val_loss: 32.0636 - 30ms/epoch - 8ms/step\n",
            "Epoch 26/2000\n",
            "4/4 - 0s - loss: 28.8300 - val_loss: 32.3780 - 29ms/epoch - 7ms/step\n",
            "Epoch 27/2000\n",
            "4/4 - 0s - loss: 29.5531 - val_loss: 31.9579 - 29ms/epoch - 7ms/step\n",
            "Epoch 28/2000\n",
            "4/4 - 0s - loss: 28.8864 - val_loss: 32.0385 - 30ms/epoch - 7ms/step\n",
            "Epoch 29/2000\n",
            "4/4 - 0s - loss: 29.0340 - val_loss: 32.2035 - 29ms/epoch - 7ms/step\n",
            "Epoch 30/2000\n",
            "4/4 - 0s - loss: 29.5307 - val_loss: 32.0629 - 29ms/epoch - 7ms/step\n",
            "Epoch 31/2000\n",
            "4/4 - 0s - loss: 28.7424 - val_loss: 31.9254 - 32ms/epoch - 8ms/step\n",
            "Epoch 32/2000\n",
            "4/4 - 0s - loss: 28.6445 - val_loss: 31.9290 - 31ms/epoch - 8ms/step\n",
            "Epoch 33/2000\n",
            "4/4 - 0s - loss: 29.0022 - val_loss: 32.3073 - 37ms/epoch - 9ms/step\n",
            "Epoch 34/2000\n",
            "4/4 - 0s - loss: 28.4588 - val_loss: 31.6751 - 31ms/epoch - 8ms/step\n",
            "Epoch 35/2000\n",
            "4/4 - 0s - loss: 28.6797 - val_loss: 31.6869 - 29ms/epoch - 7ms/step\n",
            "Epoch 36/2000\n",
            "4/4 - 0s - loss: 28.2571 - val_loss: 31.9398 - 31ms/epoch - 8ms/step\n",
            "Epoch 37/2000\n",
            "4/4 - 0s - loss: 28.4827 - val_loss: 31.6988 - 28ms/epoch - 7ms/step\n",
            "Epoch 38/2000\n",
            "4/4 - 0s - loss: 28.7236 - val_loss: 31.7378 - 29ms/epoch - 7ms/step\n",
            "Epoch 39/2000\n",
            "4/4 - 0s - loss: 28.2555 - val_loss: 32.1080 - 32ms/epoch - 8ms/step\n",
            "Epoch 40/2000\n",
            "4/4 - 0s - loss: 28.4045 - val_loss: 31.7177 - 29ms/epoch - 7ms/step\n",
            "Epoch 41/2000\n",
            "4/4 - 0s - loss: 28.3040 - val_loss: 31.7193 - 28ms/epoch - 7ms/step\n",
            "Epoch 42/2000\n",
            "4/4 - 0s - loss: 28.2094 - val_loss: 31.9633 - 35ms/epoch - 9ms/step\n",
            "Epoch 43/2000\n",
            "4/4 - 0s - loss: 28.2150 - val_loss: 31.6585 - 28ms/epoch - 7ms/step\n",
            "Epoch 44/2000\n",
            "4/4 - 0s - loss: 28.0183 - val_loss: 31.7718 - 30ms/epoch - 8ms/step\n",
            "Epoch 45/2000\n",
            "4/4 - 0s - loss: 28.1440 - val_loss: 31.6483 - 35ms/epoch - 9ms/step\n",
            "Epoch 46/2000\n",
            "4/4 - 0s - loss: 27.8881 - val_loss: 31.7892 - 30ms/epoch - 7ms/step\n",
            "Epoch 47/2000\n",
            "4/4 - 0s - loss: 27.7177 - val_loss: 31.7434 - 31ms/epoch - 8ms/step\n",
            "Epoch 48/2000\n",
            "4/4 - 0s - loss: 28.1418 - val_loss: 31.6017 - 28ms/epoch - 7ms/step\n",
            "Epoch 49/2000\n",
            "4/4 - 0s - loss: 27.7173 - val_loss: 31.7024 - 31ms/epoch - 8ms/step\n",
            "Epoch 50/2000\n",
            "4/4 - 0s - loss: 27.6040 - val_loss: 31.5446 - 30ms/epoch - 7ms/step\n",
            "Epoch 51/2000\n",
            "4/4 - 0s - loss: 27.5072 - val_loss: 31.5213 - 30ms/epoch - 8ms/step\n",
            "Epoch 52/2000\n",
            "4/4 - 0s - loss: 27.4576 - val_loss: 31.6426 - 32ms/epoch - 8ms/step\n",
            "Epoch 53/2000\n",
            "4/4 - 0s - loss: 27.4760 - val_loss: 31.9336 - 30ms/epoch - 7ms/step\n",
            "Epoch 54/2000\n",
            "4/4 - 0s - loss: 27.8842 - val_loss: 31.6511 - 30ms/epoch - 8ms/step\n",
            "Epoch 55/2000\n",
            "4/4 - 0s - loss: 27.4735 - val_loss: 31.3994 - 29ms/epoch - 7ms/step\n",
            "Epoch 56/2000\n",
            "4/4 - 0s - loss: 27.5816 - val_loss: 31.3803 - 40ms/epoch - 10ms/step\n",
            "Epoch 57/2000\n",
            "4/4 - 0s - loss: 26.9247 - val_loss: 31.3195 - 34ms/epoch - 9ms/step\n",
            "Epoch 58/2000\n",
            "4/4 - 0s - loss: 27.6666 - val_loss: 31.4106 - 32ms/epoch - 8ms/step\n",
            "Epoch 59/2000\n",
            "4/4 - 0s - loss: 27.4225 - val_loss: 31.3656 - 32ms/epoch - 8ms/step\n",
            "Epoch 60/2000\n",
            "4/4 - 0s - loss: 27.1298 - val_loss: 31.2597 - 31ms/epoch - 8ms/step\n",
            "Epoch 61/2000\n",
            "4/4 - 0s - loss: 28.0544 - val_loss: 31.5089 - 28ms/epoch - 7ms/step\n",
            "Epoch 62/2000\n",
            "4/4 - 0s - loss: 27.5052 - val_loss: 31.2196 - 32ms/epoch - 8ms/step\n",
            "Epoch 63/2000\n",
            "4/4 - 0s - loss: 27.3999 - val_loss: 31.1336 - 28ms/epoch - 7ms/step\n",
            "Epoch 64/2000\n",
            "4/4 - 0s - loss: 27.2003 - val_loss: 31.1455 - 29ms/epoch - 7ms/step\n",
            "Epoch 65/2000\n",
            "4/4 - 0s - loss: 27.2620 - val_loss: 31.1021 - 29ms/epoch - 7ms/step\n",
            "Epoch 66/2000\n",
            "4/4 - 0s - loss: 27.0507 - val_loss: 31.4842 - 28ms/epoch - 7ms/step\n",
            "Epoch 67/2000\n",
            "4/4 - 0s - loss: 27.2041 - val_loss: 31.2131 - 40ms/epoch - 10ms/step\n"
          ]
        }
      ],
      "source": [
        "history = model.fit(\n",
        "    train_ds,\n",
        "    epochs=EPOCHS,\n",
        "    validation_data = val_ds,\n",
        "    callbacks=[callback],\n",
        "    verbose =2)"
      ]
    },
    {
      "cell_type": "code",
      "execution_count": 72,
      "id": "bc21c5bb-1485-46c1-ae11-436ef2ee2d40",
      "metadata": {
        "tags": [],
        "id": "bc21c5bb-1485-46c1-ae11-436ef2ee2d40",
        "outputId": "9e0ff6f8-41ff-41b1-bf7f-8d69230b6dbb",
        "colab": {
          "base_uri": "https://localhost:8080/"
        }
      },
      "outputs": [
        {
          "output_type": "stream",
          "name": "stdout",
          "text": [
            "1/1 - 0s - loss: 24.5727 - 34ms/epoch - 34ms/step\n"
          ]
        }
      ],
      "source": [
        "# test the model \n",
        "loss= model.evaluate(test_ds, verbose=2)"
      ]
    },
    {
      "cell_type": "code",
      "execution_count": 73,
      "id": "eab8dad3-8866-4c45-829e-bbb8198f40de",
      "metadata": {
        "tags": [],
        "id": "eab8dad3-8866-4c45-829e-bbb8198f40de",
        "outputId": "c7b7aec5-3af2-4923-da5c-0e905f4f2397",
        "colab": {
          "base_uri": "https://localhost:8080/"
        }
      },
      "outputs": [
        {
          "output_type": "stream",
          "name": "stdout",
          "text": [
            "(1, 1024)\n",
            "[[23.169786]\n",
            " [20.870005]\n",
            " [21.719774]\n",
            " [20.137598]] [20. 30. 22. 23.]\n"
          ]
        }
      ],
      "source": [
        "embed, age = next(iter(test_ds.take(1)))\n",
        "print(embed[:1].shape)\n",
        "print(model(embed[100:104]).numpy(), age[100:104].numpy())"
      ]
    },
    {
      "cell_type": "code",
      "execution_count": 75,
      "id": "769370f8-93eb-4875-b5a3-139c95ae5439",
      "metadata": {
        "tags": [],
        "id": "769370f8-93eb-4875-b5a3-139c95ae5439",
        "outputId": "5ad13f71-3feb-41fe-b2b1-0158916b9bae",
        "colab": {
          "base_uri": "https://localhost:8080/",
          "height": 295
        }
      },
      "outputs": [
        {
          "output_type": "display_data",
          "data": {
            "text/plain": [
              "<Figure size 360x288 with 1 Axes>"
            ],
            "image/png": "[encoded data removed]"
          },
          "metadata": {
            "needs_background": "light"
          }
        }
      ],
      "source": [
        "def plot_test_val(ax, title, test, val, test_point):\n",
        "    x = np.arange(1, len(test) +1, 1)\n",
        "    ax.plot(x, test, label='test', color='b')\n",
        "    ax.plot(x, val, label='val', color='r')\n",
        "    ax.plot([len(test)], [test_point], 'g*')\n",
        "    # ax.annotate(f'test {title}={test_point:.3f}', xy=(len(test), test_point), xytext=(len(test)-1, test_point-.05))\n",
        "    ax.set_xlabel('Epochs')\n",
        "    ax.legend()\n",
        "    ax.set_title(title)\n",
        "    ax.grid()\n",
        "    \n",
        "fig, ax = plt.subplots(1, 1, figsize=(5, 4))\n",
        "plot_test_val(ax, 'Loss', history.history['loss'][10:], history.history['val_loss'][10:], loss)\n",
        "\n",
        "plt.show()\n"
      ]
    }
  ],
  "metadata": {
    "kernelspec": {
      "display_name": "Python 3 (ipykernel)",
      "language": "python",
      "name": "python3"
    },
    "language_info": {
      "codemirror_mode": {
        "name": "ipython",
        "version": 3
      },
      "file_extension": ".py",
      "mimetype": "text/x-python",
      "name": "python",
      "nbconvert_exporter": "python",
      "pygments_lexer": "ipython3",
      "version": "3.10.6"
    },
    "colab": {
      "provenance": [],
      "include_colab_link": true
    },
    "accelerator": "GPU",
    "gpuClass": "standard"
  },
  "nbformat": 4,
  "nbformat_minor": 5
}