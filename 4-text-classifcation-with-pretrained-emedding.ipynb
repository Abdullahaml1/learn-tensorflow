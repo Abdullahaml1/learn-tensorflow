{
 "cells": [
  {
   "cell_type": "markdown",
   "id": "c411aab7",
   "metadata": {},
   "source": [
    "# Multiclass Text classification  [link1](https://www.tensorflow.org/tutorials/keras/text_classification_with_hub) [link2](https://www.tensorflow.org/tutorials/keras/text_classification)\n",
    "# matplotlib quick referance [link](https://matplotlib.org/stable/tutorials/introductory/quick_start.html)"
   ]
  },
  {
   "cell_type": "code",
   "execution_count": 1,
   "id": "6e254c16",
   "metadata": {
    "tags": []
   },
   "outputs": [
    {
     "name": "stderr",
     "output_type": "stream",
     "text": [
      "2023-02-21 00:48:03.607019: I tensorflow/core/platform/cpu_feature_guard.cc:193] This TensorFlow binary is optimized with oneAPI Deep Neural Network Library (oneDNN) to use the following CPU instructions in performance-critical operations:  AVX2 FMA\n",
      "To enable them in other operations, rebuild TensorFlow with the appropriate compiler flags.\n",
      "2023-02-21 00:48:04.552583: W tensorflow/compiler/xla/stream_executor/platform/default/dso_loader.cc:64] Could not load dynamic library 'libnvinfer.so.7'; dlerror: libnvrtc.so.11.1: cannot open shared object file: No such file or directory\n",
      "2023-02-21 00:48:04.552833: W tensorflow/compiler/xla/stream_executor/platform/default/dso_loader.cc:64] Could not load dynamic library 'libnvinfer_plugin.so.7'; dlerror: libnvrtc.so.11.1: cannot open shared object file: No such file or directory\n",
      "2023-02-21 00:48:04.552850: W tensorflow/compiler/tf2tensorrt/utils/py_utils.cc:38] TF-TRT Warning: Cannot dlopen some TensorRT libraries. If you would like to use Nvidia GPU with TensorRT, please make sure the missing libraries mentioned above are installed properly.\n"
     ]
    },
    {
     "name": "stdout",
     "output_type": "stream",
     "text": [
      "gpu available\n"
     ]
    },
    {
     "name": "stderr",
     "output_type": "stream",
     "text": [
      "2023-02-21 00:48:06.228237: I tensorflow/compiler/xla/stream_executor/cuda/cuda_gpu_executor.cc:981] successful NUMA node read from SysFS had negative value (-1), but there must be at least one NUMA node, so returning NUMA node zero\n",
      "2023-02-21 00:48:06.239236: I tensorflow/compiler/xla/stream_executor/cuda/cuda_gpu_executor.cc:981] successful NUMA node read from SysFS had negative value (-1), but there must be at least one NUMA node, so returning NUMA node zero\n",
      "2023-02-21 00:48:06.239695: I tensorflow/compiler/xla/stream_executor/cuda/cuda_gpu_executor.cc:981] successful NUMA node read from SysFS had negative value (-1), but there must be at least one NUMA node, so returning NUMA node zero\n"
     ]
    }
   ],
   "source": [
    "import matplotlib.pyplot as plt\n",
    "import os\n",
    "import re\n",
    "import shutil\n",
    "import string\n",
    "import tensorflow as tf\n",
    "import tensorflow_hub as hub\n",
    "import tensorflow_datasets as tfds\n",
    "import numpy as np\n",
    "\n",
    "\n",
    "from tensorflow.keras import layers\n",
    "from tensorflow.keras import losses\n",
    "# tf.debugging.set_log_device_placement(True) # to see which operation usees GPU\n",
    "print('gpu', 'available' if tf.config.list_physical_devices('GPU') else  'not available')"
   ]
  },
  {
   "cell_type": "code",
   "execution_count": 2,
   "id": "1684576b",
   "metadata": {
    "tags": []
   },
   "outputs": [],
   "source": [
    "# Downlaoding the dataset\n",
    "url = \"https://storage.googleapis.com/download.tensorflow.org/data/stack_overflow_16k.tar.gz\"\n",
    "\n",
    "os.chdir('3-text-classifcation-dataset')\n",
    "dataset = tf.keras.utils.get_file(\"stack_overflow_16k\", url,\n",
    "                                    untar=True, cache_dir='.',\n",
    "                                    cache_subdir='')"
   ]
  },
  {
   "cell_type": "code",
   "execution_count": 3,
   "id": "4c75b76a",
   "metadata": {
    "tags": []
   },
   "outputs": [
    {
     "name": "stdout",
     "output_type": "stream",
     "text": [
      "Found 8000 files belonging to 4 classes.\n",
      "Using 6400 files for training.\n"
     ]
    },
    {
     "name": "stderr",
     "output_type": "stream",
     "text": [
      "2023-02-21 00:48:13.145771: I tensorflow/core/platform/cpu_feature_guard.cc:193] This TensorFlow binary is optimized with oneAPI Deep Neural Network Library (oneDNN) to use the following CPU instructions in performance-critical operations:  AVX2 FMA\n",
      "To enable them in other operations, rebuild TensorFlow with the appropriate compiler flags.\n",
      "2023-02-21 00:48:13.146452: I tensorflow/compiler/xla/stream_executor/cuda/cuda_gpu_executor.cc:981] successful NUMA node read from SysFS had negative value (-1), but there must be at least one NUMA node, so returning NUMA node zero\n",
      "2023-02-21 00:48:13.146907: I tensorflow/compiler/xla/stream_executor/cuda/cuda_gpu_executor.cc:981] successful NUMA node read from SysFS had negative value (-1), but there must be at least one NUMA node, so returning NUMA node zero\n",
      "2023-02-21 00:48:13.147278: I tensorflow/compiler/xla/stream_executor/cuda/cuda_gpu_executor.cc:981] successful NUMA node read from SysFS had negative value (-1), but there must be at least one NUMA node, so returning NUMA node zero\n",
      "2023-02-21 00:48:13.888875: I tensorflow/compiler/xla/stream_executor/cuda/cuda_gpu_executor.cc:981] successful NUMA node read from SysFS had negative value (-1), but there must be at least one NUMA node, so returning NUMA node zero\n",
      "2023-02-21 00:48:13.889217: I tensorflow/compiler/xla/stream_executor/cuda/cuda_gpu_executor.cc:981] successful NUMA node read from SysFS had negative value (-1), but there must be at least one NUMA node, so returning NUMA node zero\n",
      "2023-02-21 00:48:13.889492: I tensorflow/compiler/xla/stream_executor/cuda/cuda_gpu_executor.cc:981] successful NUMA node read from SysFS had negative value (-1), but there must be at least one NUMA node, so returning NUMA node zero\n",
      "2023-02-21 00:48:13.889714: I tensorflow/core/common_runtime/gpu/gpu_device.cc:1613] Created device /job:localhost/replica:0/task:0/device:GPU:0 with 2624 MB memory:  -> device: 0, name: NVIDIA GeForce GTX 1650, pci bus id: 0000:01:00.0, compute capability: 7.5\n"
     ]
    },
    {
     "name": "stdout",
     "output_type": "stream",
     "text": [
      "Found 8000 files belonging to 4 classes.\n",
      "Using 1600 files for validation.\n",
      "Found 8000 files belonging to 4 classes.\n"
     ]
    }
   ],
   "source": [
    "# spliting train and test\n",
    "BATCH_SIZE = 256\n",
    "SEED = 42\n",
    "\n",
    "raw_train_ds = tf.keras.utils.text_dataset_from_directory(\n",
    "    'train', \n",
    "    batch_size=BATCH_SIZE, \n",
    "    validation_split=0.2, \n",
    "    subset='training', \n",
    "    seed=SEED)\n",
    "\n",
    "raw_val_ds = tf.keras.utils.text_dataset_from_directory(\n",
    "    'train', \n",
    "    batch_size=BATCH_SIZE, \n",
    "    validation_split=0.2, \n",
    "    subset='validation', \n",
    "    seed=SEED)\n",
    "\n",
    "raw_test_ds = tf.keras.utils.text_dataset_from_directory(\n",
    "    'test',\n",
    "    batch_size=BATCH_SIZE)\n"
   ]
  },
  {
   "cell_type": "markdown",
   "id": "5fce3093-1f5a-4366-8f9b-22e705d63f28",
   "metadata": {},
   "source": [
    "## Build the model\n",
    "\n",
    "The neural network is created by stacking layers—this requires three main architectural decisions:\n",
    "\n",
    "* How to represent the text?\n",
    "* How many layers to use in the model?\n",
    "* How many *hidden units* to use for each layer?\n",
    "\n",
    "In this example, the input data consists of sentences. The labels to predict are either 0 or 1.\n",
    "\n",
    "One way to represent the text is to convert sentences into embeddings vectors. Use a pre-trained text embedding as the first layer, which will have three advantages:\n",
    "\n",
    "*   You don't have to worry about text preprocessing,\n",
    "*   Benefit from transfer learning,\n",
    "*   the embedding has a fixed size, so it's simpler to process.\n",
    "\n",
    "For this example you use a **pre-trained text embedding model** from [TensorFlow Hub](https://tfhub.dev) called [google/nnlm-en-dim50/2](https://tfhub.dev/google/nnlm-en-dim50/2).\n",
    "\n",
    "There are many other pre-trained text embeddings from TFHub that can be used in this tutorial:\n",
    "\n",
    "* [google/nnlm-en-dim128/2](https://tfhub.dev/google/nnlm-en-dim128/2) - trained with the same NNLM architecture on the same data as [google/nnlm-en-dim50/2](https://tfhub.dev/google/nnlm-en-dim50/2), but with a larger embedding dimension. Larger dimensional embeddings can improve on your task but it may take longer to train your model.\n",
    "* [google/nnlm-en-dim128-with-normalization/2](https://tfhub.dev/google/nnlm-en-dim128-with-normalization/2) - the same as [google/nnlm-en-dim128/2](https://tfhub.dev/google/nnlm-en-dim128/2), but with additional text normalization such as removing punctuation. This can help if the text in your task contains additional characters or punctuation.\n",
    "* [google/universal-sentence-encoder/4](https://tfhub.dev/google/universal-sentence-encoder/4) - a much larger model yielding 512 dimensional embeddings trained with a deep averaging network (DAN) encoder.\n",
    "\n",
    "And many more! Find more [text embedding models](https://tfhub.dev/s?module-type=text-embedding) on TFHub"
   ]
  },
  {
   "cell_type": "code",
   "execution_count": 4,
   "id": "f4ef31fe",
   "metadata": {
    "tags": []
   },
   "outputs": [
    {
     "name": "stdout",
     "output_type": "stream",
     "text": [
      "WARNING:tensorflow:Please fix your imports. Module tensorflow.python.training.tracking.data_structures has been moved to tensorflow.python.trackable.data_structures. The old module will be deleted in version 2.11.\n"
     ]
    }
   ],
   "source": [
    "# Adding pretrained Embedding\n",
    "embedding = \"https://tfhub.dev/google/nnlm-en-dim50/2\"\n",
    "hub_layer = hub.KerasLayer(embedding, input_shape=[], \n",
    "                           dtype=tf.string, trainable=True)\n",
    "\n"
   ]
  },
  {
   "cell_type": "code",
   "execution_count": 5,
   "id": "aa753cb4",
   "metadata": {
    "tags": []
   },
   "outputs": [
    {
     "data": {
      "text/plain": [
       "<tf.Tensor: shape=(1, 50), dtype=float32, numpy=\n",
       "array([[ 0.7757115 , -0.2566283 , -0.14953938,  0.33913833, -0.08331208,\n",
       "        -0.28537047, -0.00722903,  0.4464495 , -0.5067184 ,  0.37666485,\n",
       "        -0.11104527,  0.31945726,  0.04401777, -0.05765314, -0.03428812,\n",
       "         0.34541658,  0.11156015,  0.19140567,  0.34009796, -0.11520258,\n",
       "        -0.15712707,  0.20059572,  0.6525242 ,  0.16449147, -0.35179675,\n",
       "        -0.1556478 , -0.60899156,  0.31617853,  0.02223825, -0.24408376,\n",
       "        -0.26769632,  0.560487  ,  0.34614047, -0.23421213, -0.06173125,\n",
       "        -0.42689708,  0.02657206, -0.24979965,  0.11020792,  0.2719436 ,\n",
       "        -0.01676132,  0.27268663, -0.24462897,  0.16690584, -0.13979574,\n",
       "         0.01056808, -0.45195085, -0.09379447,  0.11692032,  0.39268494]],\n",
       "      dtype=float32)>"
      ]
     },
     "execution_count": 5,
     "metadata": {},
     "output_type": "execute_result"
    }
   ],
   "source": [
    "train_examples_batch, train_label_batch = next(iter(raw_train_ds.batch(1)))\n",
    "train_examples_batch.shape\n",
    "hub_layer(tf.reshape(train_examples_batch, [-1])[:1])"
   ]
  },
  {
   "cell_type": "markdown",
   "id": "8b35405b",
   "metadata": {},
   "source": [
    "### Configure the dataset for performance\n",
    "\n",
    "These are two important methods you should use when loading data to make sure that I/O does not become blocking.\n",
    "\n",
    "`.cache()` keeps data in memory after it's loaded off disk. This will ensure the dataset does not become a bottleneck while training your model. If your dataset is too large to fit into memory, you can also use this method to create a performant on-disk cache, which is more efficient to read than many small files.\n",
    "\n",
    "`.prefetch()` overlaps data preprocessing and model execution while training. \n",
    "\n",
    "You can learn more about both methods, as well as how to cache data to disk in the [data performance guide](https://www.tensorflow.org/guide/data_performance)"
   ]
  },
  {
   "cell_type": "code",
   "execution_count": 6,
   "id": "0c36f2fa",
   "metadata": {
    "tags": []
   },
   "outputs": [],
   "source": [
    "AUTOTUNE = tf.data.AUTOTUNE\n",
    "\n",
    "\n",
    "raw_train_ds = raw_train_ds.cache().prefetch(buffer_size=AUTOTUNE)\n",
    "raw_val_ds = raw_val_ds.cache().prefetch(buffer_size=AUTOTUNE)\n",
    "raw_test_ds = raw_test_ds.cache().prefetch(buffer_size=AUTOTUNE)"
   ]
  },
  {
   "cell_type": "code",
   "execution_count": 12,
   "id": "168aece8",
   "metadata": {
    "tags": []
   },
   "outputs": [
    {
     "name": "stdout",
     "output_type": "stream",
     "text": [
      "Model: \"sequential_2\"\n",
      "_________________________________________________________________\n",
      " Layer (type)                Output Shape              Param #   \n",
      "=================================================================\n",
      " keras_layer (KerasLayer)    (None, 50)                48190600  \n",
      "                                                                 \n",
      " dense_4 (Dense)             (None, 16)                816       \n",
      "                                                                 \n",
      " dense_5 (Dense)             (None, 4)                 68        \n",
      "                                                                 \n",
      "=================================================================\n",
      "Total params: 48,191,484\n",
      "Trainable params: 48,191,484\n",
      "Non-trainable params: 0\n",
      "_________________________________________________________________\n"
     ]
    }
   ],
   "source": [
    "# The model\n",
    "\n",
    "\n",
    "model = tf.keras.Sequential([\n",
    "    hub_layer, # pretrained on https://tfhub.dev/google/nnlm-en-dim50/2\n",
    "    layers.Dense(16, activation='elu'),\n",
    "    # layers.Dropout(0.2), \n",
    "    layers.Dense(4) # 4 classes\n",
    "    \n",
    "])\n",
    "#you can also use model.add(hub_layer)\n",
    "#                 model.add(layers.Dense(16) .........\n",
    "\n",
    "model.summary()"
   ]
  },
  {
   "cell_type": "code",
   "execution_count": 13,
   "id": "e2c18564",
   "metadata": {
    "tags": []
   },
   "outputs": [],
   "source": [
    "model.compile(\n",
    "    optimizer='adam',\n",
    "    metrics=['accuracy'],\n",
    "    loss = tf.losses.SparseCategoricalCrossentropy(from_logits=True) # sparse means the classes not vecotrs\n",
    "    # i.e [0, 0, 1, 0] insted they a number i.e: 2\n",
    ")"
   ]
  },
  {
   "cell_type": "code",
   "execution_count": 14,
   "id": "210bbe72",
   "metadata": {
    "tags": []
   },
   "outputs": [
    {
     "name": "stdout",
     "output_type": "stream",
     "text": [
      "Epoch 1/10\n",
      "25/25 [==============================] - 5s 167ms/step - loss: 1.3310 - accuracy: 0.3902 - val_loss: 1.1911 - val_accuracy: 0.5450\n",
      "Epoch 2/10\n",
      "25/25 [==============================] - 1s 33ms/step - loss: 1.0151 - accuracy: 0.7058 - val_loss: 0.9996 - val_accuracy: 0.6825\n",
      "Epoch 3/10\n",
      "25/25 [==============================] - 1s 33ms/step - loss: 0.7975 - accuracy: 0.8195 - val_loss: 0.8609 - val_accuracy: 0.7250\n",
      "Epoch 4/10\n",
      "25/25 [==============================] - 1s 33ms/step - loss: 0.6280 - accuracy: 0.8659 - val_loss: 0.7571 - val_accuracy: 0.7456\n",
      "Epoch 5/10\n",
      "25/25 [==============================] - 1s 34ms/step - loss: 0.5000 - accuracy: 0.8908 - val_loss: 0.6900 - val_accuracy: 0.7550\n",
      "Epoch 6/10\n",
      "25/25 [==============================] - 1s 34ms/step - loss: 0.4019 - accuracy: 0.9133 - val_loss: 0.6444 - val_accuracy: 0.7588\n",
      "Epoch 7/10\n",
      "25/25 [==============================] - 1s 33ms/step - loss: 0.3300 - accuracy: 0.9303 - val_loss: 0.6175 - val_accuracy: 0.7606\n",
      "Epoch 8/10\n",
      "25/25 [==============================] - 1s 33ms/step - loss: 0.2710 - accuracy: 0.9466 - val_loss: 0.6007 - val_accuracy: 0.7681\n",
      "Epoch 9/10\n",
      "25/25 [==============================] - 1s 34ms/step - loss: 0.2234 - accuracy: 0.9595 - val_loss: 0.5958 - val_accuracy: 0.7694\n",
      "Epoch 10/10\n",
      "25/25 [==============================] - 1s 34ms/step - loss: 0.1843 - accuracy: 0.9723 - val_loss: 0.5940 - val_accuracy: 0.7688\n"
     ]
    }
   ],
   "source": [
    "# Training\n",
    "EPOCHS = 10\n",
    "# BATCH_SIZE = 128\n",
    "history = model.fit(raw_train_ds.shuffle(10000),\n",
    "                   validation_data = raw_val_ds,\n",
    "                   epochs = EPOCHS,\n",
    "                   verbose=1)"
   ]
  },
  {
   "cell_type": "code",
   "execution_count": 15,
   "id": "efa96b13",
   "metadata": {
    "tags": []
   },
   "outputs": [
    {
     "name": "stdout",
     "output_type": "stream",
     "text": [
      "32/32 - 0s - loss: 0.6461 - accuracy: 0.7508 - 270ms/epoch - 8ms/step\n"
     ]
    }
   ],
   "source": [
    "# evaluating the model\n",
    "loss, accuracy = model.evaluate(raw_test_ds, verbose=2)"
   ]
  },
  {
   "cell_type": "code",
   "execution_count": 16,
   "id": "c1aacd43",
   "metadata": {
    "tags": []
   },
   "outputs": [
    {
     "name": "stdout",
     "output_type": "stream",
     "text": [
      "dict_keys(['loss', 'accuracy', 'val_loss', 'val_accuracy'])\n",
      "10\n"
     ]
    }
   ],
   "source": [
    "print(history.history.keys())\n",
    "print(len(history.history['val_accuracy']))"
   ]
  },
  {
   "cell_type": "code",
   "execution_count": 17,
   "id": "071df47c",
   "metadata": {
    "tags": []
   },
   "outputs": [
    {
     "data": {
      "image/png": "[encoded data removed]",
      "text/plain": [
       "<Figure size 1000x400 with 2 Axes>"
      ]
     },
     "metadata": {},
     "output_type": "display_data"
    }
   ],
   "source": [
    "def plot_test_val(ax, title, test, val, test_point):\n",
    "    x = np.arange(1, len(test) +1, 1)\n",
    "    ax.plot(x, test, label='test', color='b')\n",
    "    ax.plot(x, val, label='val', color='r')\n",
    "    ax.plot([len(test)], [test_point], 'g*')\n",
    "    ax.annotate(f\"test {title}={test_point:.3f}\", xy=(len(test), test_point), xytext=(len(test)-1, test_point-.05))\n",
    "    ax.set_xlabel('Epochs')\n",
    "    ax.legend()\n",
    "    ax.set_title(title)\n",
    "    ax.grid()\n",
    "    \n",
    "fig, (ax1, ax2) = plt.subplots(1, 2, figsize=(10, 4))\n",
    "plot_test_val(ax1, 'Loss', history.history['loss'], history.history['val_loss'], loss)\n",
    "plot_test_val(ax2, 'Accuracy', history.history['accuracy'], history.history['val_accuracy'], accuracy)\n",
    "\n",
    "plt.show()\n"
   ]
  },
  {
   "cell_type": "code",
   "execution_count": 18,
   "id": "af6f52be",
   "metadata": {
    "tags": []
   },
   "outputs": [
    {
     "name": "stdout",
     "output_type": "stream",
     "text": [
      "Model: \"sequential_3\"\n",
      "_________________________________________________________________\n",
      " Layer (type)                Output Shape              Param #   \n",
      "=================================================================\n",
      " sequential_2 (Sequential)   (None, 4)                 48191484  \n",
      "                                                                 \n",
      " softmax (Softmax)           (None, 4)                 0         \n",
      "                                                                 \n",
      "=================================================================\n",
      "Total params: 48,191,484\n",
      "Trainable params: 48,191,484\n",
      "Non-trainable params: 0\n",
      "_________________________________________________________________\n"
     ]
    }
   ],
   "source": [
    "# making model ready for production\n",
    "prediction_model = tf.keras.Sequential([\n",
    "    model, \n",
    "    layers.Softmax()\n",
    "])\n",
    "\n",
    "prediction_model.summary()"
   ]
  },
  {
   "cell_type": "code",
   "execution_count": 20,
   "id": "23bb044e",
   "metadata": {
    "tags": []
   },
   "outputs": [
    {
     "name": "stdout",
     "output_type": "stream",
     "text": [
      "1/1 [==============================] - 0s 161ms/step\n",
      "[[0.81481    0.11202502 0.06815131 0.00501364]]\n"
     ]
    },
    {
     "ename": "AttributeError",
     "evalue": "'PrefetchDataset' object has no attribute 'class_names'",
     "output_type": "error",
     "traceback": [
      "\u001b[0;31m---------------------------------------------------------------------------\u001b[0m",
      "\u001b[0;31mAttributeError\u001b[0m                            Traceback (most recent call last)",
      "Input \u001b[0;32mIn [20]\u001b[0m, in \u001b[0;36m<cell line: 7>\u001b[0;34m()\u001b[0m\n\u001b[1;32m      1\u001b[0m test_data \u001b[38;5;241m=\u001b[39m [\n\u001b[1;32m      2\u001b[0m     \u001b[38;5;124m\"\u001b[39m\u001b[38;5;124mmaxdegreeofparallelism not limiting the number of parallel tasks i am creating a number of threads and want to execute only n at a time. but i have a problem that when the code is executed it starts all threads at once...for (int i = 0; i &lt; global.mylist.count - 1; i++).\u001b[39m\u001b[38;5;124m{\u001b[39m\u001b[38;5;124m.    thread thread = new thread(() =&gt;.    \u001b[39m\u001b[38;5;124m{\u001b[39m\u001b[38;5;124m.        debug.writeline(\u001b[39m\u001b[38;5;124m\"\u001b[39m\u001b[38;5;124m\"\u001b[39m\u001b[38;5;124mstart signal from thread\u001b[39m\u001b[38;5;124m\"\u001b[39m\u001b[38;5;124m\"\u001b[39m\u001b[38;5;124m, thread.currentthread.name);.        var account = global.mylist[i];.        thread.sleep(5000);.        debug.writeline(\u001b[39m\u001b[38;5;124m\"\u001b[39m\u001b[38;5;124m\"\u001b[39m\u001b[38;5;124mend signal from thread\u001b[39m\u001b[38;5;124m\"\u001b[39m\u001b[38;5;124m\"\u001b[39m\u001b[38;5;124m, thread.currentthread.name);.    });.    thread.name = i.tostring();.    threads.add(thread);.}..var option = new paralleloptions().\u001b[39m\u001b[38;5;124m{\u001b[39m\u001b[38;5;124m.    maxdegreeofparallelism = convert.toint32(numthreads.value).};..var locker = new object();.parallel.foreach(threads, option, t =&gt;.\u001b[39m\u001b[38;5;124m{\u001b[39m\u001b[38;5;124m.    if (t.isalive == false).    \u001b[39m\u001b[38;5;124m{\u001b[39m\u001b[38;5;124m.        t.start();.    }.    var count = convert.toint32(t.name);.    interlocked.increment(ref count);.    lock (locker).    \u001b[39m\u001b[38;5;124m{\u001b[39m\u001b[38;5;124m.        debug.writeline(\u001b[39m\u001b[38;5;124m\"\u001b[39m\u001b[38;5;124m\"\u001b[39m\u001b[38;5;124mnumber of active threads:\u001b[39m\u001b[38;5;124m\"\u001b[39m\u001b[38;5;124m\"\u001b[39m\u001b[38;5;124m + count);.        thread.sleep(10);.    }.    interlocked.decrement(ref count);.});\u001b[39m\u001b[38;5;124m\"\u001b[39m\n\u001b[1;32m      3\u001b[0m ,\n\u001b[1;32m      4\u001b[0m     \n\u001b[1;32m      5\u001b[0m ]\n\u001b[1;32m      6\u001b[0m \u001b[38;5;28mprint\u001b[39m(prediction_model\u001b[38;5;241m.\u001b[39mpredict(test_data))\n\u001b[0;32m----> 7\u001b[0m \u001b[38;5;28mprint\u001b[39m(\u001b[43mraw_train_ds\u001b[49m\u001b[38;5;241;43m.\u001b[39;49m\u001b[43mclass_names\u001b[49m)\n",
      "\u001b[0;31mAttributeError\u001b[0m: 'PrefetchDataset' object has no attribute 'class_names'"
     ]
    }
   ],
   "source": [
    "test_data = [\n",
    "    \"maxdegreeofparallelism not limiting the number of parallel tasks i am creating a number of threads and want to execute only n at a time. but i have a problem that when the code is executed it starts all threads at once...for (int i = 0; i &lt; global.mylist.count - 1; i++).{.    thread thread = new thread(() =&gt;.    {.        debug.writeline(\"\"start signal from thread\"\", thread.currentthread.name);.        var account = global.mylist[i];.        thread.sleep(5000);.        debug.writeline(\"\"end signal from thread\"\", thread.currentthread.name);.    });.    thread.name = i.tostring();.    threads.add(thread);.}..var option = new paralleloptions().{.    maxdegreeofparallelism = convert.toint32(numthreads.value).};..var locker = new object();.parallel.foreach(threads, option, t =&gt;.{.    if (t.isalive == false).    {.        t.start();.    }.    var count = convert.toint32(t.name);.    interlocked.increment(ref count);.    lock (locker).    {.        debug.writeline(\"\"number of active threads:\"\" + count);.        thread.sleep(10);.    }.    interlocked.decrement(ref count);.});\"\n",
    ",\n",
    "    \n",
    "]\n",
    "print(prediction_model.predict(test_data))\n",
    "print(raw_train_ds.class_names)"
   ]
  },
  {
   "cell_type": "code",
   "execution_count": null,
   "id": "93badbf1",
   "metadata": {},
   "outputs": [],
   "source": []
  }
 ],
 "metadata": {
  "kernelspec": {
   "display_name": "Python 3 (ipykernel)",
   "language": "python",
   "name": "python3"
  },
  "language_info": {
   "codemirror_mode": {
    "name": "ipython",
    "version": 3
   },
   "file_extension": ".py",
   "mimetype": "text/x-python",
   "name": "python",
   "nbconvert_exporter": "python",
   "pygments_lexer": "ipython3",
   "version": "3.8.10"
  }
 },
 "nbformat": 4,
 "nbformat_minor": 5
}
