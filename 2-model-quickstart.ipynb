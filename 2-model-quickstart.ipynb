{
 "cells": [
  {
   "cell_type": "markdown",
   "id": "84e74d80",
   "metadata": {},
   "source": [
    "# Notebook [link](https://www.tensorflow.org/tutorials/quickstart/beginner)"
   ]
  },
  {
   "cell_type": "code",
   "execution_count": 2,
   "id": "e4329794",
   "metadata": {},
   "outputs": [
    {
     "name": "stdout",
     "output_type": "stream",
     "text": [
      "2.9.1\n"
     ]
    }
   ],
   "source": [
    "import tensorflow as tf\n",
    "print(tf.__version__)"
   ]
  },
  {
   "cell_type": "code",
   "execution_count": 6,
   "id": "25fd8e8c",
   "metadata": {},
   "outputs": [
    {
     "name": "stdout",
     "output_type": "stream",
     "text": [
      "(60000, 28, 28)\n",
      "<class 'numpy.ndarray'>\n"
     ]
    }
   ],
   "source": [
    "# Load the dataset\n",
    "mnist = tf.keras.datasets.mnist\n",
    "\n",
    "(x_train, y_train), (x_test, y_test) = mnist.load_data()\n",
    "\n",
    "\n",
    "# noramalizing the data /255\n",
    "x_train, x_test = x_train/255.0 , x_test/255.0\n",
    "\n",
    "print(x_train.shape)\n",
    "print(type(x_train))"
   ]
  },
  {
   "cell_type": "code",
   "execution_count": 12,
   "id": "fcef4151",
   "metadata": {},
   "outputs": [
    {
     "name": "stdout",
     "output_type": "stream",
     "text": [
      "(None, 28, 28)\n",
      "(None, 10)\n"
     ]
    }
   ],
   "source": [
    "# Model\n",
    "model = tf.keras.models.Sequential([\n",
    "    tf.keras.layers.Flatten(input_shape=(28, 28)), # does not do any thing the out is (578,)\n",
    "    tf.keras.layers.Dense(128, activation='relu'), # the out size is -> 128\n",
    "    tf.keras.layers.Dropout(.2),\n",
    "    tf.keras.layers.Dense(10) # withoud activation\n",
    "])\n",
    "print(model.input_shape)\n",
    "print(model.output_shape)"
   ]
  },
  {
   "cell_type": "markdown",
   "id": "cd048c0b",
   "metadata": {},
   "source": [
    "# Do not add softmax in the model\n",
    "softmax is not stable in training (they said so) so we will use the normal output of the model: [logits, or log-odds](https://developers.google.com/machine-learning/glossary#log-odds)  (I don't understand if it perform logits operation on the model or not, but I think it is something related to loss function"
   ]
  },
  {
   "cell_type": "code",
   "execution_count": 17,
   "id": "50cb074b",
   "metadata": {},
   "outputs": [
    {
     "data": {
      "text/plain": [
       "array([[ 0.10398585, -0.9040525 , -0.78324026,  0.3329395 ,  0.7895306 ,\n",
       "        -0.92365193, -0.79403746,  1.1994402 ,  1.0322053 ,  0.8122647 ]],\n",
       "      dtype=float32)"
      ]
     },
     "execution_count": 17,
     "metadata": {},
     "output_type": "execute_result"
    }
   ],
   "source": [
    "# applying the model befre training\n",
    "predictions = model(x_train[:1]).numpy() # NOte input does not if x_train[0] it has to be list of list\n",
    "predictions"
   ]
  },
  {
   "cell_type": "code",
   "execution_count": 19,
   "id": "db67f0e2",
   "metadata": {},
   "outputs": [
    {
     "data": {
      "text/plain": [
       "<tf.Tensor: shape=(1, 10), dtype=float32, numpy=\n",
       "array([[0.0749899 , 0.02736638, 0.03088058, 0.0942836 , 0.14884393,\n",
       "        0.02683524, 0.03054895, 0.22426042, 0.1897245 , 0.1522665 ]],\n",
       "      dtype=float32)>"
      ]
     },
     "execution_count": 19,
     "metadata": {},
     "output_type": "execute_result"
    }
   ],
   "source": [
    "#applying softmax\n",
    "predictions_soft = tf.nn.softmax(predictions)\n",
    "predictions_soft"
   ]
  },
  {
   "cell_type": "code",
   "execution_count": 22,
   "id": "8d75eeb0",
   "metadata": {},
   "outputs": [
    {
     "data": {
      "text/plain": [
       "3.6180396"
      ]
     },
     "execution_count": 22,
     "metadata": {},
     "output_type": "execute_result"
    }
   ],
   "source": [
    "# Loss function\n",
    "loss_fn = tf.keras.losses.SparseCategoricalCrossentropy(from_logits=True) # from _logits=True means(not form softmax)\n",
    "\n",
    "#testing loss function\n",
    "loss_fn(y_train[:1], predictions).numpy()"
   ]
  },
  {
   "cell_type": "code",
   "execution_count": 23,
   "id": "08ea2a40",
   "metadata": {},
   "outputs": [],
   "source": [
    "# optimizer\n",
    "model.compile(\n",
    "    optimizer = 'adam',\n",
    "    loss= loss_fn,\n",
    "    metrics=['accuracy']\n",
    ")"
   ]
  },
  {
   "cell_type": "code",
   "execution_count": 24,
   "id": "9e9f1b5b",
   "metadata": {},
   "outputs": [
    {
     "name": "stdout",
     "output_type": "stream",
     "text": [
      "Epoch 1/5\n",
      "1875/1875 [==============================] - 13s 6ms/step - loss: 0.3020 - accuracy: 0.9123\n",
      "Epoch 2/5\n",
      "1875/1875 [==============================] - 11s 6ms/step - loss: 0.1432 - accuracy: 0.9572\n",
      "Epoch 3/5\n",
      "1875/1875 [==============================] - 12s 6ms/step - loss: 0.1054 - accuracy: 0.9675\n",
      "Epoch 4/5\n",
      "1875/1875 [==============================] - 12s 7ms/step - loss: 0.0866 - accuracy: 0.9734\n",
      "Epoch 5/5\n",
      "1875/1875 [==============================] - 12s 6ms/step - loss: 0.0741 - accuracy: 0.9769\n"
     ]
    },
    {
     "data": {
      "text/plain": [
       "<keras.callbacks.History at 0x7f15fc182fa0>"
      ]
     },
     "execution_count": 24,
     "metadata": {},
     "output_type": "execute_result"
    }
   ],
   "source": [
    "# Train the model\n",
    "model.fit(x_train, y_train, epochs=5)"
   ]
  },
  {
   "cell_type": "code",
   "execution_count": 25,
   "id": "69f1b1e7",
   "metadata": {},
   "outputs": [
    {
     "name": "stdout",
     "output_type": "stream",
     "text": [
      "313/313 - 2s - loss: 0.0677 - accuracy: 0.9792 - 2s/epoch - 5ms/step\n"
     ]
    },
    {
     "data": {
      "text/plain": [
       "[0.06769026815891266, 0.979200005531311]"
      ]
     },
     "execution_count": 25,
     "metadata": {},
     "output_type": "execute_result"
    }
   ],
   "source": [
    "# Evaluating the model\n",
    "model.evaluate(x_test, y_test, verbose=2)"
   ]
  },
  {
   "cell_type": "code",
   "execution_count": 38,
   "id": "16ebc707",
   "metadata": {},
   "outputs": [
    {
     "data": {
      "text/plain": [
       "array([9.9998367e-01, 1.5287715e-05, 7.9397239e-07, 2.7210288e-07,\n",
       "       1.3112056e-08, 1.2074947e-08, 5.8538498e-09, 1.5043308e-09,\n",
       "       7.1912300e-13, 6.3504699e-15], dtype=float32)"
      ]
     },
     "execution_count": 38,
     "metadata": {},
     "output_type": "execute_result"
    }
   ],
   "source": [
    "# adding softmax to the usage of the model\n",
    "prediction_model = tf.keras.Sequential([\n",
    "    model,\n",
    "    tf.keras.layers.Softmax()\n",
    "])\n",
    "\n",
    "\n",
    "import numpy as np\n",
    "x = np.sort(prediction_model(x_test[:1]).numpy())[0][::-1]\n",
    "x"
   ]
  },
  {
   "cell_type": "code",
   "execution_count": 39,
   "id": "a711481b",
   "metadata": {},
   "outputs": [
    {
     "data": {
      "text/plain": [
       "1.0"
      ]
     },
     "execution_count": 39,
     "metadata": {},
     "output_type": "execute_result"
    }
   ],
   "source": [
    "np.sum(x, axis=0)"
   ]
  },
  {
   "cell_type": "code",
   "execution_count": null,
   "id": "f4a72ab0",
   "metadata": {},
   "outputs": [],
   "source": []
  }
 ],
 "metadata": {
  "kernelspec": {
   "display_name": "Python 3 (ipykernel)",
   "language": "python",
   "name": "python3"
  },
  "language_info": {
   "codemirror_mode": {
    "name": "ipython",
    "version": 3
   },
   "file_extension": ".py",
   "mimetype": "text/x-python",
   "name": "python",
   "nbconvert_exporter": "python",
   "pygments_lexer": "ipython3",
   "version": "3.8.10"
  }
 },
 "nbformat": 4,
 "nbformat_minor": 5
}
