{
 "cells": [
  {
   "cell_type": "markdown",
   "id": "8ab19f90-38c0-4676-9814-c069a2ae9b93",
   "metadata": {},
   "source": [
    "# Overfitting and underfitting [link](https://www.tensorflow.org/tutorials/keras/overfit_and_underfit)"
   ]
  },
  {
   "cell_type": "code",
   "execution_count": 3,
   "id": "ec086d64-ffb4-417c-9c29-c32d8f71552b",
   "metadata": {
    "tags": []
   },
   "outputs": [
    {
     "name": "stdout",
     "output_type": "stream",
     "text": [
      "GPU:  available\n"
     ]
    }
   ],
   "source": [
    "import numpy as np\n",
    "import pandas as pd\n",
    "import matplotlib.pyplot as plt\n",
    "import seaborn as sns\n",
    "import os\n",
    "from  IPython import display\n",
    "from matplotlib import pyplot as plt\n",
    "import pathlib\n",
    "import shutil #highlevel file operation\n",
    "import tempfile #generate temporary files and directories\n",
    "\n",
    "#make numpy easeir to read\n",
    "np.set_printoptions(precision=3, suppress=True)\n",
    "\n",
    "import tensorflow as tf\n",
    "from tensorflow import keras\n",
    "from keras import layers\n",
    "from keras import regularizers\n",
    "\n",
    "print('GPU: ', 'available' if tf.config.list_physical_devices('GPU') else 'not available')"
   ]
  },
  {
   "cell_type": "code",
   "execution_count": 4,
   "id": "e740b331-f739-4919-915e-2442f6aa5c85",
   "metadata": {
    "tags": []
   },
   "outputs": [],
   "source": [
    "# making a temp file for tensorboard logs\n",
    "logdir = pathlib.Path(tempfile.mkdtemp())/\"tensorboard_logs\"\n",
    "shutil.rmtree(logdir, ignore_errors=True)"
   ]
  },
  {
   "cell_type": "code",
   "execution_count": 6,
   "id": "e722193a-dfbf-4322-bd26-ab27522e4a5f",
   "metadata": {
    "tags": []
   },
   "outputs": [
    {
     "data": {
      "text/plain": [
       "['.git',\n",
       " '1-tensor.ipynb',\n",
       " '5-regression-dataset',\n",
       " '3-text-classifcation.ipynb',\n",
       " '.gitignore',\n",
       " '2-model-quickstart.ipynb',\n",
       " '4-text-classifcation-with-pretrained-emedding.ipynb',\n",
       " '.ipynb_checkpoints',\n",
       " '6-overfitting.ipynb',\n",
       " '5-regression.ipynb',\n",
       " '3-text-classifcation-dataset',\n",
       " '6-overfitting-dataset',\n",
       " 'README.md']"
      ]
     },
     "execution_count": 6,
     "metadata": {},
     "output_type": "execute_result"
    }
   ],
   "source": [
    "os.listdir()"
   ]
  },
  {
   "cell_type": "code",
   "execution_count": null,
   "id": "a1b6f3a9-135a-4445-9a67-30c8ae26c249",
   "metadata": {
    "tags": []
   },
   "outputs": [
    {
     "name": "stdout",
     "output_type": "stream",
     "text": [
      "Downloading data from http://mlphysics.ics.uci.edu/data/higgs/HIGGS.csv.gz\n",
      "2816407858/2816407858 [==============================] - 1313s 0us/step\n"
     ]
    }
   ],
   "source": [
    "# getting the data binary classifcation of physical particles\n",
    "FEATURES = 32\n",
    "os.chdir('6-overfitting-dataset')\n",
    "gz = tf.keras.utils.get_file('HIGGS.csv.gz', 'http://mlphysics.ics.uci.edu/data/higgs/HIGGS.csv.gz')\n",
    "ds = tf.data.experimental.CsvDataset(gz,[float(),]*(FEATURES+1), compression_type=\"GZIP\")\n"
   ]
  },
  {
   "cell_type": "markdown",
   "id": "a2afd727-5271-4411-a702-69ec54803561",
   "metadata": {},
   "source": [
    "## Getting dataset [link]("
   ]
  }
 ],
 "metadata": {
  "kernelspec": {
   "display_name": "Python 3 (ipykernel)",
   "language": "python",
   "name": "python3"
  },
  "language_info": {
   "codemirror_mode": {
    "name": "ipython",
    "version": 3
   },
   "file_extension": ".py",
   "mimetype": "text/x-python",
   "name": "python",
   "nbconvert_exporter": "python",
   "pygments_lexer": "ipython3",
   "version": "3.8.10"
  }
 },
 "nbformat": 4,
 "nbformat_minor": 5
}
